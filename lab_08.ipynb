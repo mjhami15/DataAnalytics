{
 "cells": [
  {
   "cell_type": "markdown",
   "metadata": {},
   "source": [
    "# STAT 207 Lab 8: Inference for Associations - [25 total points] - Solutions"
   ]
  },
  {
   "cell_type": "markdown",
   "metadata": {},
   "source": [
    "Due: Wednesday, March 31 11:59pm CST\n",
    "\n",
    "\n",
    "\n",
    "## <u>Case Study 1</u>: U.S Unemployment Rates and Metropolitan Areas\n",
    "In this lab we will explore the statistical concepts that we've learned this week while also examining the RELATIONSHIP between **unemployment rates** and **whether the county is a metropolitan county or not** in the U.S. \n",
    "\n",
    "The **metro** variable indicates \"yes\" if the county is a metropolitan area and indicates \"no\" otherwise.\n",
    "\n",
    "## <u>Case Study 2</u>: U.S Median Education Levels and Metropolitan Areas\n",
    "Also in this lab we will explore the statistical concepts that we've learned this week while also examining the RELATIONSHIP between **median educataion level** and **whether the county is a metropolitan county or not** in the U.S. "
   ]
  },
  {
   "cell_type": "markdown",
   "metadata": {},
   "source": [
    "### Imports"
   ]
  },
  {
   "cell_type": "code",
   "execution_count": 63,
   "metadata": {},
   "outputs": [],
   "source": [
    "import pandas as pd                    # imports pandas and calls the imported version 'pd'\n",
    "import matplotlib.pyplot as plt        # imports the package and calls it 'plt'\n",
    "import seaborn as sns                  # imports the seaborn package with the imported name 'sns'\n",
    "sns.set()                              # sets the default plotting style\n",
    "from scipy.stats import norm\n",
    "from scipy.stats import t\n",
    "import numpy as np"
   ]
  },
  {
   "cell_type": "markdown",
   "metadata": {},
   "source": [
    "## 1. <u>Preliminaries</u>"
   ]
  },
  {
   "cell_type": "markdown",
   "metadata": {},
   "source": [
    "### 1.1 [0.5pt] Read the county.csv into a dataframe, call it df, and display the first five rows.\n",
    "\n",
    "Remember that 'data unavailable' represents missing values in this csv. Make sure you encode these values as NaN when you read the data in."
   ]
  },
  {
   "cell_type": "code",
   "execution_count": 2,
   "metadata": {},
   "outputs": [
    {
     "data": {
      "text/html": [
       "<div>\n",
       "<style scoped>\n",
       "    .dataframe tbody tr th:only-of-type {\n",
       "        vertical-align: middle;\n",
       "    }\n",
       "\n",
       "    .dataframe tbody tr th {\n",
       "        vertical-align: top;\n",
       "    }\n",
       "\n",
       "    .dataframe thead th {\n",
       "        text-align: right;\n",
       "    }\n",
       "</style>\n",
       "<table border=\"1\" class=\"dataframe\">\n",
       "  <thead>\n",
       "    <tr style=\"text-align: right;\">\n",
       "      <th></th>\n",
       "      <th>name</th>\n",
       "      <th>state</th>\n",
       "      <th>pop2000</th>\n",
       "      <th>pop2010</th>\n",
       "      <th>pop2017</th>\n",
       "      <th>pop_change</th>\n",
       "      <th>poverty</th>\n",
       "      <th>homeownership</th>\n",
       "      <th>multi_unit</th>\n",
       "      <th>unemployment_rate</th>\n",
       "      <th>metro</th>\n",
       "      <th>median_edu</th>\n",
       "      <th>per_capita_income</th>\n",
       "      <th>median_hh_income</th>\n",
       "      <th>smoking_ban</th>\n",
       "    </tr>\n",
       "  </thead>\n",
       "  <tbody>\n",
       "    <tr>\n",
       "      <th>0</th>\n",
       "      <td>Autauga County</td>\n",
       "      <td>Alabama</td>\n",
       "      <td>43671.0</td>\n",
       "      <td>54571</td>\n",
       "      <td>55504.0</td>\n",
       "      <td>1.48</td>\n",
       "      <td>13.7</td>\n",
       "      <td>77.5</td>\n",
       "      <td>7.2</td>\n",
       "      <td>3.86</td>\n",
       "      <td>yes</td>\n",
       "      <td>some_college</td>\n",
       "      <td>27841.70</td>\n",
       "      <td>55317.0</td>\n",
       "      <td>none</td>\n",
       "    </tr>\n",
       "    <tr>\n",
       "      <th>1</th>\n",
       "      <td>Baldwin County</td>\n",
       "      <td>Alabama</td>\n",
       "      <td>140415.0</td>\n",
       "      <td>182265</td>\n",
       "      <td>212628.0</td>\n",
       "      <td>9.19</td>\n",
       "      <td>11.8</td>\n",
       "      <td>76.7</td>\n",
       "      <td>22.6</td>\n",
       "      <td>3.99</td>\n",
       "      <td>yes</td>\n",
       "      <td>some_college</td>\n",
       "      <td>27779.85</td>\n",
       "      <td>52562.0</td>\n",
       "      <td>none</td>\n",
       "    </tr>\n",
       "    <tr>\n",
       "      <th>2</th>\n",
       "      <td>Barbour County</td>\n",
       "      <td>Alabama</td>\n",
       "      <td>29038.0</td>\n",
       "      <td>27457</td>\n",
       "      <td>25270.0</td>\n",
       "      <td>-6.22</td>\n",
       "      <td>27.2</td>\n",
       "      <td>68.0</td>\n",
       "      <td>11.1</td>\n",
       "      <td>5.90</td>\n",
       "      <td>no</td>\n",
       "      <td>hs_diploma</td>\n",
       "      <td>17891.73</td>\n",
       "      <td>33368.0</td>\n",
       "      <td>partial</td>\n",
       "    </tr>\n",
       "    <tr>\n",
       "      <th>3</th>\n",
       "      <td>Bibb County</td>\n",
       "      <td>Alabama</td>\n",
       "      <td>20826.0</td>\n",
       "      <td>22915</td>\n",
       "      <td>22668.0</td>\n",
       "      <td>0.73</td>\n",
       "      <td>15.2</td>\n",
       "      <td>82.9</td>\n",
       "      <td>6.6</td>\n",
       "      <td>4.39</td>\n",
       "      <td>yes</td>\n",
       "      <td>hs_diploma</td>\n",
       "      <td>20572.05</td>\n",
       "      <td>43404.0</td>\n",
       "      <td>none</td>\n",
       "    </tr>\n",
       "    <tr>\n",
       "      <th>4</th>\n",
       "      <td>Blount County</td>\n",
       "      <td>Alabama</td>\n",
       "      <td>51024.0</td>\n",
       "      <td>57322</td>\n",
       "      <td>58013.0</td>\n",
       "      <td>0.68</td>\n",
       "      <td>15.6</td>\n",
       "      <td>82.0</td>\n",
       "      <td>3.7</td>\n",
       "      <td>4.02</td>\n",
       "      <td>yes</td>\n",
       "      <td>hs_diploma</td>\n",
       "      <td>21367.39</td>\n",
       "      <td>47412.0</td>\n",
       "      <td>none</td>\n",
       "    </tr>\n",
       "  </tbody>\n",
       "</table>\n",
       "</div>"
      ],
      "text/plain": [
       "             name    state   pop2000  pop2010   pop2017  pop_change  poverty  \\\n",
       "0  Autauga County  Alabama   43671.0    54571   55504.0        1.48     13.7   \n",
       "1  Baldwin County  Alabama  140415.0   182265  212628.0        9.19     11.8   \n",
       "2  Barbour County  Alabama   29038.0    27457   25270.0       -6.22     27.2   \n",
       "3     Bibb County  Alabama   20826.0    22915   22668.0        0.73     15.2   \n",
       "4   Blount County  Alabama   51024.0    57322   58013.0        0.68     15.6   \n",
       "\n",
       "   homeownership  multi_unit  unemployment_rate metro    median_edu  \\\n",
       "0           77.5         7.2               3.86   yes  some_college   \n",
       "1           76.7        22.6               3.99   yes  some_college   \n",
       "2           68.0        11.1               5.90    no    hs_diploma   \n",
       "3           82.9         6.6               4.39   yes    hs_diploma   \n",
       "4           82.0         3.7               4.02   yes    hs_diploma   \n",
       "\n",
       "   per_capita_income  median_hh_income smoking_ban  \n",
       "0           27841.70           55317.0        none  \n",
       "1           27779.85           52562.0        none  \n",
       "2           17891.73           33368.0     partial  \n",
       "3           20572.05           43404.0        none  \n",
       "4           21367.39           47412.0        none  "
      ]
     },
     "execution_count": 2,
     "metadata": {},
     "output_type": "execute_result"
    }
   ],
   "source": [
    "missing_values = [\"data unavailable\"]\n",
    "df = pd.read_csv(\"county.csv\", na_values = missing_values)\n",
    "df.head()"
   ]
  },
  {
   "cell_type": "markdown",
   "metadata": {},
   "source": [
    "### 1.2 [0.5pt] Create a dataframe that is just comprised of the metro variable,  the unemployment rates variable, and the median_edu variable. Then drop all missing values from this dataframe."
   ]
  },
  {
   "cell_type": "code",
   "execution_count": 5,
   "metadata": {},
   "outputs": [
    {
     "data": {
      "text/html": [
       "<div>\n",
       "<style scoped>\n",
       "    .dataframe tbody tr th:only-of-type {\n",
       "        vertical-align: middle;\n",
       "    }\n",
       "\n",
       "    .dataframe tbody tr th {\n",
       "        vertical-align: top;\n",
       "    }\n",
       "\n",
       "    .dataframe thead th {\n",
       "        text-align: right;\n",
       "    }\n",
       "</style>\n",
       "<table border=\"1\" class=\"dataframe\">\n",
       "  <thead>\n",
       "    <tr style=\"text-align: right;\">\n",
       "      <th></th>\n",
       "      <th>metro</th>\n",
       "      <th>unemployment_rate</th>\n",
       "      <th>median_edu</th>\n",
       "    </tr>\n",
       "  </thead>\n",
       "  <tbody>\n",
       "    <tr>\n",
       "      <th>0</th>\n",
       "      <td>yes</td>\n",
       "      <td>3.86</td>\n",
       "      <td>some_college</td>\n",
       "    </tr>\n",
       "    <tr>\n",
       "      <th>1</th>\n",
       "      <td>yes</td>\n",
       "      <td>3.99</td>\n",
       "      <td>some_college</td>\n",
       "    </tr>\n",
       "    <tr>\n",
       "      <th>2</th>\n",
       "      <td>no</td>\n",
       "      <td>5.90</td>\n",
       "      <td>hs_diploma</td>\n",
       "    </tr>\n",
       "    <tr>\n",
       "      <th>3</th>\n",
       "      <td>yes</td>\n",
       "      <td>4.39</td>\n",
       "      <td>hs_diploma</td>\n",
       "    </tr>\n",
       "    <tr>\n",
       "      <th>4</th>\n",
       "      <td>yes</td>\n",
       "      <td>4.02</td>\n",
       "      <td>hs_diploma</td>\n",
       "    </tr>\n",
       "  </tbody>\n",
       "</table>\n",
       "</div>"
      ],
      "text/plain": [
       "  metro  unemployment_rate    median_edu\n",
       "0   yes               3.86  some_college\n",
       "1   yes               3.99  some_college\n",
       "2    no               5.90    hs_diploma\n",
       "3   yes               4.39    hs_diploma\n",
       "4   yes               4.02    hs_diploma"
      ]
     },
     "execution_count": 5,
     "metadata": {},
     "output_type": "execute_result"
    }
   ],
   "source": [
    "df_mum = df.loc[:,['metro', 'unemployment_rate', 'median_edu']].dropna()\n",
    "df_mum.head()"
   ]
  },
  {
   "cell_type": "markdown",
   "metadata": {},
   "source": [
    "### 1.3 [0.5pt] How many counties are metropolitan counties and how many are not?"
   ]
  },
  {
   "cell_type": "code",
   "execution_count": 8,
   "metadata": {},
   "outputs": [
    {
     "data": {
      "text/plain": [
       "no     1974\n",
       "yes    1165\n",
       "Name: metro, dtype: int64"
      ]
     },
     "execution_count": 8,
     "metadata": {},
     "output_type": "execute_result"
    }
   ],
   "source": [
    "df_mum['metro'].value_counts()"
   ]
  },
  {
   "cell_type": "markdown",
   "metadata": {},
   "source": [
    "### 1.4 [0.5pt] Next, split this dataframe into two population dataframes:\n",
    "1. <u>Population 1</u>:the counties that are metropolitan areas\n",
    "2. <u>Population 2</u>:the counties that are not metropolitan areas\n"
   ]
  },
  {
   "cell_type": "code",
   "execution_count": 14,
   "metadata": {},
   "outputs": [
    {
     "name": "stderr",
     "output_type": "stream",
     "text": [
      "<ipython-input-14-9d6f9578189b>:1: UserWarning: Boolean Series key will be reindexed to match DataFrame index.\n",
      "  no = df_mum[df['metro'] == 'no']\n"
     ]
    },
    {
     "data": {
      "text/plain": [
       "(1974, 3)"
      ]
     },
     "execution_count": 14,
     "metadata": {},
     "output_type": "execute_result"
    }
   ],
   "source": [
    "no = df_mum[df['metro'] == 'no']\n",
    "no.shape"
   ]
  },
  {
   "cell_type": "code",
   "execution_count": 15,
   "metadata": {},
   "outputs": [
    {
     "name": "stderr",
     "output_type": "stream",
     "text": [
      "<ipython-input-15-508a3a3e186d>:1: UserWarning: Boolean Series key will be reindexed to match DataFrame index.\n",
      "  yes = df_mum[df['metro'] == 'yes']\n"
     ]
    },
    {
     "data": {
      "text/plain": [
       "(1165, 3)"
      ]
     },
     "execution_count": 15,
     "metadata": {},
     "output_type": "execute_result"
    }
   ],
   "source": [
    "yes = df_mum[df['metro'] == 'yes']\n",
    "yes.shape"
   ]
  },
  {
   "cell_type": "markdown",
   "metadata": {},
   "source": [
    "### 1.5 [0.5pt] Calculate the mean and standard deviation unemployment rates for these two populations."
   ]
  },
  {
   "cell_type": "code",
   "execution_count": 20,
   "metadata": {},
   "outputs": [
    {
     "data": {
      "text/plain": [
       "4.737436676798379"
      ]
     },
     "execution_count": 20,
     "metadata": {},
     "output_type": "execute_result"
    }
   ],
   "source": [
    "no_mean = no['unemployment_rate'].mean()\n",
    "no_mean"
   ]
  },
  {
   "cell_type": "code",
   "execution_count": 21,
   "metadata": {},
   "outputs": [
    {
     "data": {
      "text/plain": [
       "1.8124518106510823"
      ]
     },
     "execution_count": 21,
     "metadata": {},
     "output_type": "execute_result"
    }
   ],
   "source": [
    "no_std = no['unemployment_rate'].std()\n",
    "no_std"
   ]
  },
  {
   "cell_type": "code",
   "execution_count": 22,
   "metadata": {},
   "outputs": [
    {
     "data": {
      "text/plain": [
       "4.397957081545064"
      ]
     },
     "execution_count": 22,
     "metadata": {},
     "output_type": "execute_result"
    }
   ],
   "source": [
    "yes_mean = yes['unemployment_rate'].mean()\n",
    "yes_mean"
   ]
  },
  {
   "cell_type": "code",
   "execution_count": 24,
   "metadata": {},
   "outputs": [
    {
     "data": {
      "text/plain": [
       "1.299180067178401"
      ]
     },
     "execution_count": 24,
     "metadata": {},
     "output_type": "execute_result"
    }
   ],
   "source": [
    "yes_std = yes['unemployment_rate'].std()\n",
    "yes_std"
   ]
  },
  {
   "cell_type": "markdown",
   "metadata": {},
   "source": [
    "### 1.6 [0.5pt] Finally, calculate the proportion of counties in the metro population that have a median education level of high school diploma and  calculate the proportion of counties in the non-metro population that have a median education level of high school diploma."
   ]
  },
  {
   "cell_type": "code",
   "execution_count": 34,
   "metadata": {},
   "outputs": [
    {
     "data": {
      "text/plain": [
       "some_college    814\n",
       "hs_diploma      312\n",
       "bachelors        39\n",
       "Name: median_edu, dtype: int64"
      ]
     },
     "execution_count": 34,
     "metadata": {},
     "output_type": "execute_result"
    }
   ],
   "source": [
    "yes['median_edu'].value_counts()"
   ]
  },
  {
   "cell_type": "code",
   "execution_count": 35,
   "metadata": {},
   "outputs": [
    {
     "name": "stdout",
     "output_type": "stream",
     "text": [
      "0.26781115879828327\n"
     ]
    }
   ],
   "source": [
    "print(312/yes.shape[0])"
   ]
  },
  {
   "cell_type": "code",
   "execution_count": 36,
   "metadata": {},
   "outputs": [
    {
     "data": {
      "text/plain": [
       "hs_diploma      1085\n",
       "some_college     880\n",
       "bachelors          7\n",
       "below_hs           2\n",
       "Name: median_edu, dtype: int64"
      ]
     },
     "execution_count": 36,
     "metadata": {},
     "output_type": "execute_result"
    }
   ],
   "source": [
    "no['median_edu'].value_counts()"
   ]
  },
  {
   "cell_type": "code",
   "execution_count": 37,
   "metadata": {},
   "outputs": [
    {
     "name": "stdout",
     "output_type": "stream",
     "text": [
      "0.549645390070922\n"
     ]
    }
   ],
   "source": [
    "print(1085/no.shape[0])"
   ]
  },
  {
   "cell_type": "markdown",
   "metadata": {},
   "source": [
    "## 2. Numerical Sample Analysis\n",
    "\n",
    "### 2.1 [1 pt] Collect a random sample of 40 metropolitan counties (using a random state of 100 without replacement) and do the following.\n",
    "a. calculate the sample mean and standard deviation of the unemployment rate\n",
    "\n",
    "b. plot the sample distribution of unemployment rates."
   ]
  },
  {
   "cell_type": "code",
   "execution_count": 44,
   "metadata": {},
   "outputs": [],
   "source": [
    "sample_yes = yes.sample(40, random_state = 100, replace = False)"
   ]
  },
  {
   "cell_type": "code",
   "execution_count": 45,
   "metadata": {},
   "outputs": [
    {
     "data": {
      "text/plain": [
       "4.58225"
      ]
     },
     "execution_count": 45,
     "metadata": {},
     "output_type": "execute_result"
    }
   ],
   "source": [
    "sample_yes['unemployment_rate'].mean()"
   ]
  },
  {
   "cell_type": "code",
   "execution_count": 46,
   "metadata": {},
   "outputs": [
    {
     "data": {
      "text/plain": [
       "1.2359995176747876"
      ]
     },
     "execution_count": 46,
     "metadata": {},
     "output_type": "execute_result"
    }
   ],
   "source": [
    "sample_yes['unemployment_rate'].std()"
   ]
  },
  {
   "cell_type": "code",
   "execution_count": 47,
   "metadata": {},
   "outputs": [
    {
     "data": {
      "image/png": "[encoded data removed]",
      "text/plain": [
       "<Figure size 432x288 with 1 Axes>"
      ]
     },
     "metadata": {},
     "output_type": "display_data"
    }
   ],
   "source": [
    "sample_yes['unemployment_rate'].hist(density=True)\n",
    "plt.title('Sample Distribution')\n",
    "plt.xlabel('Unemployment Rates')\n",
    "plt.show()"
   ]
  },
  {
   "cell_type": "code",
   "execution_count": null,
   "metadata": {},
   "outputs": [],
   "source": []
  },
  {
   "cell_type": "markdown",
   "metadata": {},
   "source": [
    "### 2.2 [1 pt] Collect a random sample of 50 non-metropolitan counties (using a random state of 100 without replacement) and do the following.\n",
    "a. calculate the sample mean and standard deviation of the unemployment rate\n",
    "\n",
    "b. plot the sample distribution of unemployment rates."
   ]
  },
  {
   "cell_type": "code",
   "execution_count": 48,
   "metadata": {},
   "outputs": [],
   "source": [
    "sample_no = no.sample(50, random_state = 100, replace = False)"
   ]
  },
  {
   "cell_type": "code",
   "execution_count": 49,
   "metadata": {},
   "outputs": [
    {
     "data": {
      "text/plain": [
       "4.567400000000001"
      ]
     },
     "execution_count": 49,
     "metadata": {},
     "output_type": "execute_result"
    }
   ],
   "source": [
    "sample_no['unemployment_rate'].mean()"
   ]
  },
  {
   "cell_type": "code",
   "execution_count": 50,
   "metadata": {},
   "outputs": [
    {
     "data": {
      "text/plain": [
       "1.4541240578128827"
      ]
     },
     "execution_count": 50,
     "metadata": {},
     "output_type": "execute_result"
    }
   ],
   "source": [
    "sample_no['unemployment_rate'].std()"
   ]
  },
  {
   "cell_type": "code",
   "execution_count": 51,
   "metadata": {},
   "outputs": [
    {
     "data": {
      "image/png": "[encoded data removed]",
      "text/plain": [
       "<Figure size 432x288 with 1 Axes>"
      ]
     },
     "metadata": {},
     "output_type": "display_data"
    }
   ],
   "source": [
    "sample_no['unemployment_rate'].hist(density=True)\n",
    "plt.title('Sample Distribution')\n",
    "plt.xlabel('Unemployment Rates')\n",
    "plt.show()"
   ]
  },
  {
   "cell_type": "code",
   "execution_count": null,
   "metadata": {},
   "outputs": [],
   "source": []
  },
  {
   "cell_type": "markdown",
   "metadata": {},
   "source": [
    "## 3. Sampling Distribution (of sample mean differences) Analysis\n",
    "\n",
    "Assume that you have access to the populations you created in #1 in this part.\n",
    "\n",
    "### 3.1 [1 pt] Calculate the mean and standard deviation of the sampling distribution of sample mean differences (ie. $\\bar{x}_{metro}-\\bar{x}_{nonmetro}$ values)"
   ]
  },
  {
   "cell_type": "code",
   "execution_count": 52,
   "metadata": {},
   "outputs": [
    {
     "name": "stdout",
     "output_type": "stream",
     "text": [
      "0.014849999999999142\n"
     ]
    }
   ],
   "source": [
    "print(sample_yes['unemployment_rate'].mean() - sample_no['unemployment_rate'].mean())"
   ]
  },
  {
   "cell_type": "code",
   "execution_count": 53,
   "metadata": {},
   "outputs": [
    {
     "name": "stdout",
     "output_type": "stream",
     "text": [
      "-0.21812454013809512\n"
     ]
    }
   ],
   "source": [
    "print(sample_yes['unemployment_rate'].std() - sample_no['unemployment_rate'].std())"
   ]
  },
  {
   "cell_type": "markdown",
   "metadata": {},
   "source": [
    "### 3.2 [1 pt] Using the sample mean values $\\bar{x}_{metro}$ and $\\bar{x}_{nonmetro}$ that you calculated in #2, calculate the z-score of  $(\\bar{x}_{metro}-\\bar{x}_{nonmetro})$."
   ]
  },
  {
   "cell_type": "code",
   "execution_count": 60,
   "metadata": {},
   "outputs": [
    {
     "name": "stdout",
     "output_type": "stream",
     "text": [
      "Pop Mean:  -0.33947959525331495\n",
      "Sample Mean:  0.014849999999999142\n",
      "Sample Std:  -0.21812454013809512\n",
      "Z Score:  1.6244370992323343\n"
     ]
    }
   ],
   "source": [
    "pop_mean = yes['unemployment_rate'].mean() - no['unemployment_rate'].mean()\n",
    "print(\"Pop Mean: \", pop_mean)\n",
    "sample_mean = sample_yes['unemployment_rate'].mean() - sample_no['unemployment_rate'].mean()\n",
    "print(\"Sample Mean: \", sample_mean)\n",
    "sample_std = sample_yes['unemployment_rate'].std() - sample_no['unemployment_rate'].std()\n",
    "print(\"Sample Std: \", sample_std)\n",
    "\n",
    "print(\"Z Score: \", ((pop_mean - sample_mean) / sample_std))"
   ]
  },
  {
   "cell_type": "markdown",
   "metadata": {},
   "source": [
    "## 4. Association Testing for Metro Areas and Unemployment Rate\n",
    "\n",
    "**<font color=\"green\">Now, assume that we do not know anything about the populations from #1.</font>**\n",
    "\n",
    "We would like to test if there is an association between whether or not a county is a metropolitan area and the unemployment rate. Or in other words, we would like to see if we have enough evidence to suggest that the mean unemployment rate of all metropolitan counties is different from the mean unemployment rate of all non-metropolitan counties.\n",
    "\n",
    "We will use the two samples we collected from #2 to help us conduct this test.\n",
    "\n",
    "### 4.1 [1 pt] Set up the hypotheses for this test."
   ]
  },
  {
   "cell_type": "markdown",
   "metadata": {},
   "source": [
    "Ho: X(metro) = X(non-metro) or (X(metro) - X(non-metro) = 0)\n",
    "Ha: X(metro) != X(non-metro) or (X(metro) - X(non-metro) != 0)"
   ]
  },
  {
   "cell_type": "markdown",
   "metadata": {},
   "source": [
    "### 4.2 [2 pt] Check the conditions for conducting inference on these hypotheses."
   ]
  },
  {
   "cell_type": "markdown",
   "metadata": {},
   "source": [
    "1) The sample with non-metro counties is randomly selected.\n",
    "n(no) = 50 < 10% of all non-metropolitan counties.\n",
    "n(no) = 50 > 30, so CLT is met.\n",
    "2) The sample with metro counties is randomly selected.\n",
    "n(yes) = 40 < 10% of all metropolitan counties.\n",
    "n(yes) = 40 > 30, so CLT is met.\n",
    "\n",
    "We may assume that there is no pairwise relationship between the counties in each group.\n",
    "\n",
    "Therefore, all conditions are met.\n"
   ]
  },
  {
   "cell_type": "markdown",
   "metadata": {},
   "source": [
    "### 4.3 [1.5 pt] Calculate a 90% confidence interval for $\\mu_{metro}-\\mu_{nonmetro}$.\n",
    "\n",
    "**Note:** You should use the most *accurate* way of calulating this confidence interval that we know now."
   ]
  },
  {
   "cell_type": "code",
   "execution_count": 61,
   "metadata": {},
   "outputs": [
    {
     "data": {
      "text/plain": [
       "39"
      ]
     },
     "execution_count": 61,
     "metadata": {},
     "output_type": "execute_result"
    }
   ],
   "source": [
    "dfree = min(50 - 1, 40 - 1)\n",
    "dfree"
   ]
  },
  {
   "cell_type": "code",
   "execution_count": 64,
   "metadata": {},
   "outputs": [
    {
     "data": {
      "text/plain": [
       "1.6848751194973992"
      ]
     },
     "execution_count": 64,
     "metadata": {},
     "output_type": "execute_result"
    }
   ],
   "source": [
    "critical_value=t.ppf(0.95, df = dfree)\n",
    "critical_value"
   ]
  },
  {
   "cell_type": "code",
   "execution_count": 65,
   "metadata": {},
   "outputs": [
    {
     "data": {
      "text/plain": [
       "0.014849999999999142"
      ]
     },
     "execution_count": 65,
     "metadata": {},
     "output_type": "execute_result"
    }
   ],
   "source": [
    "point_estimate = (sample_yes['unemployment_rate'].mean() - sample_no['unemployment_rate'].mean())\n",
    "point_estimate"
   ]
  },
  {
   "cell_type": "code",
   "execution_count": 66,
   "metadata": {},
   "outputs": [
    {
     "data": {
      "text/plain": [
       "0.2836933303807331"
      ]
     },
     "execution_count": 66,
     "metadata": {},
     "output_type": "execute_result"
    }
   ],
   "source": [
    "standard_error = np.sqrt((sample_yes['unemployment_rate'].std() ** 2)/40 + (sample_no['unemployment_rate'].std() ** 2)/50)\n",
    "standard_error"
   ]
  },
  {
   "cell_type": "code",
   "execution_count": 67,
   "metadata": {},
   "outputs": [
    {
     "name": "stdout",
     "output_type": "stream",
     "text": [
      "90% Confidence Interval:  -0.46313783392585367 0.49283783392585195\n"
     ]
    }
   ],
   "source": [
    "lower_bound=point_estimate-critical_value*standard_error\n",
    "upper_bound=point_estimate+critical_value*standard_error\n",
    "\n",
    "print('90% Confidence Interval: ', lower_bound, upper_bound)"
   ]
  },
  {
   "cell_type": "markdown",
   "metadata": {},
   "source": [
    "### 4.4 [1 pt] Use this 90% confidence interval to make a conclusion about your hypotheses."
   ]
  },
  {
   "cell_type": "markdown",
   "metadata": {},
   "source": [
    "We are 90% confident that the difference between Mu(metro) and Mu(nonmetro) is between -0.46313783392585367 & 0.49283783392585195. Therefore, since the value '0' resides in this interval, we fail to reject the null hypothesis. Therefore, there is not sufficient evidence to suggest the alternative hypothesis."
   ]
  },
  {
   "cell_type": "markdown",
   "metadata": {},
   "source": [
    "### 4.5 [1.5 pt] Calculate the p-value for this hypothesis test.\n",
    "\n",
    "**Note:** You should use the most *accurate* way of calulating this p-value that we know now."
   ]
  },
  {
   "cell_type": "code",
   "execution_count": 70,
   "metadata": {},
   "outputs": [
    {
     "data": {
      "text/plain": [
       "0.10469051196987657"
      ]
     },
     "execution_count": 70,
     "metadata": {},
     "output_type": "execute_result"
    }
   ],
   "source": [
    "p_value = 2*((sample_yes['unemployment_rate'].mean() - sample_no['unemployment_rate'].mean() - 0) / np.sqrt((sample_yes['unemployment_rate'].std() ** 2)/40 + (sample_no['unemployment_rate'].std() ** 2)/50))\n",
    "p_value"
   ]
  },
  {
   "cell_type": "markdown",
   "metadata": {},
   "source": [
    "### 4.6 [1 pt] Use this p-value to make a conclusion about your hypotheses, using a significance level of $\\alpha=0.10$."
   ]
  },
  {
   "cell_type": "markdown",
   "metadata": {},
   "source": [
    "Since the p-value = 0.10469 > 0.10 = alpha, we fail to reject the null hypothesis. Therefore, there is not sufficient evidence to suggest the alternative hypothesis."
   ]
  },
  {
   "cell_type": "markdown",
   "metadata": {},
   "source": [
    "## 5. Categorical Samples Analysis\n",
    "\n",
    "### [0.5 pt] 5.1 Using your metro and non-metro samples from #2, do the following.\n",
    "a. calculate the proportion of counties in the metro sample in which the a median education level is a high school diploma.\n",
    "\n",
    "b. calculate the proportion of counties in the nonmetro sample in which the a median education level is a high school diploma."
   ]
  },
  {
   "cell_type": "code",
   "execution_count": 71,
   "metadata": {
    "scrolled": true
   },
   "outputs": [
    {
     "data": {
      "text/plain": [
       "some_college    23\n",
       "hs_diploma      15\n",
       "bachelors        2\n",
       "Name: median_edu, dtype: int64"
      ]
     },
     "execution_count": 71,
     "metadata": {},
     "output_type": "execute_result"
    }
   ],
   "source": [
    "sample_yes['median_edu'].value_counts()"
   ]
  },
  {
   "cell_type": "code",
   "execution_count": 73,
   "metadata": {},
   "outputs": [
    {
     "data": {
      "text/plain": [
       "0.375"
      ]
     },
     "execution_count": 73,
     "metadata": {},
     "output_type": "execute_result"
    }
   ],
   "source": [
    "yes_prop = (15/40)\n",
    "yes_prop"
   ]
  },
  {
   "cell_type": "code",
   "execution_count": 72,
   "metadata": {
    "scrolled": true
   },
   "outputs": [
    {
     "data": {
      "text/plain": [
       "hs_diploma      28\n",
       "some_college    22\n",
       "Name: median_edu, dtype: int64"
      ]
     },
     "execution_count": 72,
     "metadata": {},
     "output_type": "execute_result"
    }
   ],
   "source": [
    "sample_no['median_edu'].value_counts()"
   ]
  },
  {
   "cell_type": "code",
   "execution_count": 74,
   "metadata": {},
   "outputs": [
    {
     "data": {
      "text/plain": [
       "0.56"
      ]
     },
     "execution_count": 74,
     "metadata": {},
     "output_type": "execute_result"
    }
   ],
   "source": [
    "no_prop = (28/50)\n",
    "no_prop"
   ]
  },
  {
   "cell_type": "markdown",
   "metadata": {},
   "source": [
    "## 6. Sampling Distribution (of Sample Proportion Differences) Analysis\n",
    "\n",
    "Assume that you have access to the populations you created in #1 in this part.\n",
    "\n",
    "### 6.1 [1 pt] Calculate the mean and standard deviation of the sampling distribution of sample proportion differences (ie. $\\hat{p}_{metro}-\\hat{p}_{nonmetro}$ values)"
   ]
  },
  {
   "cell_type": "markdown",
   "metadata": {},
   "source": [
    "E(𝑝̂ 𝑚𝑒𝑡𝑟𝑜−𝑝̂ 𝑛𝑜𝑛𝑚𝑒𝑡𝑟𝑜) = 𝑝̂ 𝑚𝑒𝑡𝑟𝑜−𝑝̂ 𝑛𝑜𝑛𝑚𝑒𝑡𝑟𝑜 = 0.375 - 0.56"
   ]
  },
  {
   "cell_type": "code",
   "execution_count": 75,
   "metadata": {},
   "outputs": [
    {
     "data": {
      "text/plain": [
       "-0.18500000000000005"
      ]
     },
     "execution_count": 75,
     "metadata": {},
     "output_type": "execute_result"
    }
   ],
   "source": [
    "prop_mean = 0.375 - 0.56\n",
    "prop_mean"
   ]
  },
  {
   "cell_type": "markdown",
   "metadata": {},
   "source": [
    "STD(𝑝̂ 𝑚𝑒𝑡𝑟𝑜−𝑝̂ 𝑛𝑜𝑛𝑚𝑒𝑡𝑟𝑜) = sqrt(p1(1-p1)/n1 + p2(1-p2)/n^2)"
   ]
  },
  {
   "cell_type": "code",
   "execution_count": 77,
   "metadata": {},
   "outputs": [
    {
     "data": {
      "text/plain": [
       "0.10386228863259271"
      ]
     },
     "execution_count": 77,
     "metadata": {},
     "output_type": "execute_result"
    }
   ],
   "source": [
    "prop_std = np.sqrt((.375*(1-.375)/40) + (.56*(1-.56) / 50))\n",
    "prop_std"
   ]
  },
  {
   "cell_type": "markdown",
   "metadata": {},
   "source": [
    "### 6.2 [1 pt] Using the sample proportion values $\\hat{p}_{metro}$ and $\\hat{p}_{nonmetro}$ that you calculated in #2, calculate the z-score of  $(\\hat{p}_{metro}-\\hat{p}_{nonmetro})$."
   ]
  },
  {
   "cell_type": "code",
   "execution_count": 80,
   "metadata": {},
   "outputs": [
    {
     "data": {
      "text/plain": [
       "some_college    814\n",
       "hs_diploma      312\n",
       "bachelors        39\n",
       "Name: median_edu, dtype: int64"
      ]
     },
     "execution_count": 80,
     "metadata": {},
     "output_type": "execute_result"
    }
   ],
   "source": [
    "yes['median_edu'].value_counts()"
   ]
  },
  {
   "cell_type": "code",
   "execution_count": 81,
   "metadata": {},
   "outputs": [
    {
     "data": {
      "text/plain": [
       "hs_diploma      1085\n",
       "some_college     880\n",
       "bachelors          7\n",
       "below_hs           2\n",
       "Name: median_edu, dtype: int64"
      ]
     },
     "execution_count": 81,
     "metadata": {},
     "output_type": "execute_result"
    }
   ],
   "source": [
    "no['median_edu'].value_counts()"
   ]
  },
  {
   "cell_type": "code",
   "execution_count": 94,
   "metadata": {},
   "outputs": [
    {
     "name": "stdout",
     "output_type": "stream",
     "text": [
      "Difference in Samp Prop:  -0.18500000000000005\n",
      "Difference in Pop Prop:  -0.2818342312726387\n"
     ]
    },
    {
     "data": {
      "text/plain": [
       "0.9323329241779423"
      ]
     },
     "execution_count": 94,
     "metadata": {},
     "output_type": "execute_result"
    }
   ],
   "source": [
    "dif_samp_prop = 0.375 - 0.56\n",
    "print(\"Difference in Samp Prop: \", dif_samp_prop)\n",
    "dif_pop_prop = (312/yes.shape[0]) - (1085/no.shape[0])\n",
    "print(\"Difference in Pop Prop: \", dif_pop_prop)\n",
    "z_score_prop = (dif_samp_prop - dif_pop_prop) / np.sqrt(0.375*(1-0.375)/40 + 0.56*(1-0.56)/50)\n",
    "z_score_prop"
   ]
  },
  {
   "cell_type": "code",
   "execution_count": null,
   "metadata": {},
   "outputs": [],
   "source": []
  },
  {
   "cell_type": "markdown",
   "metadata": {},
   "source": [
    "## 7. Association Testing for Metro Areas and Median Education Level\n",
    "\n",
    "**<font color=\"green\">Now, assume that we do not know anything about the populations from #1.</font>**\n",
    "\n",
    "We would like to test if there is an association between whether or not a county is a metropolitan area and the median education level. Or in other words, we would like to see if we have enough evidence to suggest that the proportion of all metropolitan counties that have a median education level of high school diploma is different from the proportion of all nonmetropolitan counties that have a median education level of high school diploma.\n",
    "\n",
    "We will use the two samples we collected from #2 to help us conduct this test.\n",
    "\n",
    "### 7.1 [1 pt] Set up the hypotheses for this test."
   ]
  },
  {
   "cell_type": "markdown",
   "metadata": {},
   "source": [
    "Ho: 𝑝̂ 𝑚𝑒𝑡𝑟𝑜− 𝑝̂ 𝑛𝑜𝑛𝑚𝑒𝑡𝑟𝑜 = 0\n",
    "Ha: 𝑝̂ 𝑚𝑒𝑡𝑟𝑜−𝑝̂ 𝑛𝑜𝑛𝑚𝑒𝑡𝑟𝑜 != 0"
   ]
  },
  {
   "cell_type": "markdown",
   "metadata": {},
   "source": [
    "### 7.2 [2 pt] Check the conditions for conducting inference on these tests."
   ]
  },
  {
   "cell_type": "markdown",
   "metadata": {},
   "source": [
    "n1p1 = (40)(.375) = 15 >= 10\n",
    "n1(1-p1) = (40)(1-.375) = 25 >= 10\n",
    "n2p2 = (50)(.56) = 28 >= 10\n",
    "n2(1-p2) = (50)(1-.56) = 22 >= 10\n",
    "\n",
    "n1 = 40 < 10% of all US metro counties\n",
    "\n",
    "n2 = 50 < 10% of all US nonmetro counties\n",
    "\n",
    "These samples are indepedent of each other. Both samples are randomly collected.\n"
   ]
  },
  {
   "cell_type": "markdown",
   "metadata": {},
   "source": [
    "### 7.3 [1.5 pt] Calculate a 88% confidence interval for $p_{metro}-p_{nonmetro}$.\n"
   ]
  },
  {
   "cell_type": "code",
   "execution_count": 98,
   "metadata": {},
   "outputs": [
    {
     "name": "stdout",
     "output_type": "stream",
     "text": [
      "Point Estimate:  -0.18500000000000005\n"
     ]
    }
   ],
   "source": [
    "point_estimate = 0.375 - 0.56\n",
    "print(\"Point Estimate: \", point_estimate)"
   ]
  },
  {
   "cell_type": "code",
   "execution_count": 99,
   "metadata": {},
   "outputs": [
    {
     "name": "stdout",
     "output_type": "stream",
     "text": [
      "Standard Error:  0.10386228863259271\n"
     ]
    }
   ],
   "source": [
    "standard_error = np.sqrt(0.375*(1-0.375)/40 + 0.56*(1-0.56)/50)\n",
    "print(\"Standard Error: \", standard_error)"
   ]
  },
  {
   "cell_type": "code",
   "execution_count": 100,
   "metadata": {},
   "outputs": [],
   "source": [
    "critical_value=norm.ppf(.94)"
   ]
  },
  {
   "cell_type": "code",
   "execution_count": 101,
   "metadata": {},
   "outputs": [
    {
     "name": "stdout",
     "output_type": "stream",
     "text": [
      "88% Confidence Interval:  -0.34648234384035215 -0.02351765615964796\n"
     ]
    }
   ],
   "source": [
    "lower_bound=point_estimate-critical_value*standard_error\n",
    "upper_bound=point_estimate+critical_value*standard_error\n",
    "\n",
    "print('88% Confidence Interval: ', lower_bound, upper_bound)"
   ]
  },
  {
   "cell_type": "markdown",
   "metadata": {},
   "source": [
    "### 7.4 [1 pt] Use this 88% confidence interval to make a conclusion about your hypotheses."
   ]
  },
  {
   "cell_type": "markdown",
   "metadata": {},
   "source": [
    "Because the null value of 0 does not reside in the interval range, we can reject the null hypothesis. We do have sufficient evidence to suggest that the proportion of metro counties with a median education of a high school diploma differs from that of the nonmetro counterpart. "
   ]
  },
  {
   "cell_type": "markdown",
   "metadata": {},
   "source": [
    "### 7.5 [1.5 pt] Calculate the p-value for this hypothesis test.\n"
   ]
  },
  {
   "cell_type": "code",
   "execution_count": 102,
   "metadata": {},
   "outputs": [
    {
     "name": "stdout",
     "output_type": "stream",
     "text": [
      "p-value:  0.07487901089381244\n"
     ]
    }
   ],
   "source": [
    "test_statistic=(point_estimate-0)/standard_error\n",
    "pvalue = 2*(1-norm.cdf(np.abs(test_statistic)))\n",
    "print('p-value: ', pvalue)"
   ]
  },
  {
   "cell_type": "markdown",
   "metadata": {},
   "source": [
    "### 7.6 [0.5 pt] Use this p-value to make a conclusion about your hypotheses, using a significance level of $\\alpha=0.12$."
   ]
  },
  {
   "cell_type": "markdown",
   "metadata": {},
   "source": [
    "Since the pvalue = 0.07 < 0.12 = alpha, we reject the null hypothesis. We do have sufficient evidence to suggest that the proportion of metro counties with a median education of a high school diploma differs from that of the nonmetro counterpart. "
   ]
  }
 ],
 "metadata": {
  "kernelspec": {
   "display_name": "Python 3",
   "language": "python",
   "name": "python3"
  },
  "language_info": {
   "codemirror_mode": {
    "name": "ipython",
    "version": 3
   },
   "file_extension": ".py",
   "mimetype": "text/x-python",
   "name": "python",
   "nbconvert_exporter": "python",
   "pygments_lexer": "ipython3",
   "version": "3.8.5"
  }
 },
 "nbformat": 4,
 "nbformat_minor": 2
}
