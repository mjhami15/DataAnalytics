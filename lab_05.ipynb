{
 "cells": [
  {
   "cell_type": "markdown",
   "metadata": {},
   "source": [
    "## STAT 207 Lab 4: Random Variables - [25 total points] - Solutions"
   ]
  },
  {
   "cell_type": "markdown",
   "metadata": {},
   "source": [
    "Due: Wednesday, March 10, 11:59pm CST\n",
    "\n"
   ]
  },
  {
   "cell_type": "markdown",
   "metadata": {},
   "source": [
    "## Imports"
   ]
  },
  {
   "cell_type": "code",
   "execution_count": 1,
   "metadata": {},
   "outputs": [],
   "source": [
    "import pandas as pd\n",
    "import numpy as np"
   ]
  },
  {
   "cell_type": "markdown",
   "metadata": {},
   "source": [
    "## <u>Question 1</u>: Bernoulli Random Variables\n",
    "\n",
    "In the previous year the acceptance rate at UIUC was 62\\%. Suppose we conduct an experiment where we randomly select one of the UIUC applicants from the previous year and observe whether they were accepted into UIUC. We're interested to know if the applicant was accepted.\n",
    "\n",
    "\n",
    "The Bernoulli random variable object in Python operates has similar functions to the other random variables that we have discussed in this class. The documentation for the functions that correspond to the bernoulli random variable are shown here.\n",
    "https://docs.scipy.org/doc/scipy/reference/generated/scipy.stats.bernoulli.html\n",
    "\n",
    "### 1.1 [2 pts] Define a Bernoulli random variable that models this experiment.\n",
    "* Make sure you define any parameters that pertain to this random variable as well as define the success level.\n",
    "(Just put it into words)."
   ]
  },
  {
   "cell_type": "markdown",
   "metadata": {},
   "source": [
    "Let X be a Bernoulli random variable, where the probability that a student was accepted is 0.62, and the probability that they were not accepted is 0.38."
   ]
  },
  {
   "cell_type": "markdown",
   "metadata": {},
   "source": [
    "### 1.2 [2 pts]  Calculate the mean, variance, and standard deviation of this random variable."
   ]
  },
  {
   "cell_type": "markdown",
   "metadata": {},
   "source": []
  },
  {
   "cell_type": "markdown",
   "metadata": {},
   "source": [
    "E(X) = 0*(.38) + 1(.62) = .62"
   ]
  },
  {
   "cell_type": "markdown",
   "metadata": {},
   "source": [
    "V(X) = (0-mu)^2 * P(x=0) + (1-mu)^2 * P(x=1)\n",
    "     = (0 - p)^2 * (1-p) + (1-p)^2 * p\n",
    "     = p^2(1-p) + (1-p)^2 * p\n",
    "     = p(1-p)\n",
    "     = .62(.38)\n",
    "     = .2356"
   ]
  },
  {
   "cell_type": "markdown",
   "metadata": {},
   "source": [
    "SD(X) = sqrt(V(X)\n",
    "      = 0.485386444"
   ]
  },
  {
   "cell_type": "code",
   "execution_count": null,
   "metadata": {},
   "outputs": [],
   "source": []
  },
  {
   "cell_type": "markdown",
   "metadata": {},
   "source": [
    "### 1.3 [2 pts]  Generate 1000 random values for this random variable and put them into a pandas dataframe."
   ]
  },
  {
   "cell_type": "code",
   "execution_count": 9,
   "metadata": {},
   "outputs": [
    {
     "data": {
      "text/html": [
       "<div>\n",
       "<style scoped>\n",
       "    .dataframe tbody tr th:only-of-type {\n",
       "        vertical-align: middle;\n",
       "    }\n",
       "\n",
       "    .dataframe tbody tr th {\n",
       "        vertical-align: top;\n",
       "    }\n",
       "\n",
       "    .dataframe thead th {\n",
       "        text-align: right;\n",
       "    }\n",
       "</style>\n",
       "<table border=\"1\" class=\"dataframe\">\n",
       "  <thead>\n",
       "    <tr style=\"text-align: right;\">\n",
       "      <th></th>\n",
       "      <th>0</th>\n",
       "    </tr>\n",
       "  </thead>\n",
       "  <tbody>\n",
       "    <tr>\n",
       "      <th>0</th>\n",
       "      <td>1</td>\n",
       "    </tr>\n",
       "    <tr>\n",
       "      <th>1</th>\n",
       "      <td>1</td>\n",
       "    </tr>\n",
       "    <tr>\n",
       "      <th>2</th>\n",
       "      <td>0</td>\n",
       "    </tr>\n",
       "    <tr>\n",
       "      <th>3</th>\n",
       "      <td>1</td>\n",
       "    </tr>\n",
       "    <tr>\n",
       "      <th>4</th>\n",
       "      <td>1</td>\n",
       "    </tr>\n",
       "    <tr>\n",
       "      <th>...</th>\n",
       "      <td>...</td>\n",
       "    </tr>\n",
       "    <tr>\n",
       "      <th>995</th>\n",
       "      <td>1</td>\n",
       "    </tr>\n",
       "    <tr>\n",
       "      <th>996</th>\n",
       "      <td>0</td>\n",
       "    </tr>\n",
       "    <tr>\n",
       "      <th>997</th>\n",
       "      <td>0</td>\n",
       "    </tr>\n",
       "    <tr>\n",
       "      <th>998</th>\n",
       "      <td>0</td>\n",
       "    </tr>\n",
       "    <tr>\n",
       "      <th>999</th>\n",
       "      <td>0</td>\n",
       "    </tr>\n",
       "  </tbody>\n",
       "</table>\n",
       "<p>1000 rows × 1 columns</p>\n",
       "</div>"
      ],
      "text/plain": [
       "     0\n",
       "0    1\n",
       "1    1\n",
       "2    0\n",
       "3    1\n",
       "4    1\n",
       "..  ..\n",
       "995  1\n",
       "996  0\n",
       "997  0\n",
       "998  0\n",
       "999  0\n",
       "\n",
       "[1000 rows x 1 columns]"
      ]
     },
     "execution_count": 9,
     "metadata": {},
     "output_type": "execute_result"
    }
   ],
   "source": [
    "from scipy.stats import bernoulli\n",
    "sample = bernoulli.rvs(p=0.62,size=1000)\n",
    "sample = pd.DataFrame(sample)\n",
    "sample"
   ]
  },
  {
   "cell_type": "markdown",
   "metadata": {},
   "source": [
    "### 1.4 [2 pts]  Calculate the mean, variance, and standard deviation of these randomly generated random variable values. "
   ]
  },
  {
   "cell_type": "code",
   "execution_count": 10,
   "metadata": {},
   "outputs": [
    {
     "data": {
      "text/plain": [
       "0    0.616\n",
       "dtype: float64"
      ]
     },
     "execution_count": 10,
     "metadata": {},
     "output_type": "execute_result"
    }
   ],
   "source": [
    "sample.mean()"
   ]
  },
  {
   "cell_type": "code",
   "execution_count": 13,
   "metadata": {},
   "outputs": [
    {
     "data": {
      "text/plain": [
       "0    0.236781\n",
       "dtype: float64"
      ]
     },
     "execution_count": 13,
     "metadata": {},
     "output_type": "execute_result"
    }
   ],
   "source": [
    "sample.std() ** 2"
   ]
  },
  {
   "cell_type": "code",
   "execution_count": 12,
   "metadata": {},
   "outputs": [
    {
     "data": {
      "text/plain": [
       "0    0.486601\n",
       "dtype: float64"
      ]
     },
     "execution_count": 12,
     "metadata": {},
     "output_type": "execute_result"
    }
   ],
   "source": [
    "sample.std()"
   ]
  },
  {
   "cell_type": "markdown",
   "metadata": {},
   "source": [
    "### 1.5 [2 pts]  How close are your mean, variance, and standard deviation from 1.4 to the mean, variance, and standard deviation that you calculated in 1.2?"
   ]
  },
  {
   "cell_type": "markdown",
   "metadata": {},
   "source": [
    "The difference in my two calculations are: |.62 - .616| = .004"
   ]
  },
  {
   "cell_type": "markdown",
   "metadata": {},
   "source": [
    "The difference in my two calculations are: |.2356 - .236781| = .001181"
   ]
  },
  {
   "cell_type": "markdown",
   "metadata": {},
   "source": [
    "The difference in my two calculations are: |.485386444 - .486601| = 0.001215"
   ]
  },
  {
   "cell_type": "markdown",
   "metadata": {},
   "source": [
    "My calculations in 1.4 are very close to the calculations in 1.2."
   ]
  },
  {
   "cell_type": "markdown",
   "metadata": {},
   "source": [
    "## <u>Question 2</u>: More Random Variables\n",
    "\n",
    "Suppose a gambler has a strategy to keep playing a slot matchine until he wins a round. After he **wins** a round, he stops playing for the day. The probability of **losing** any given slot machine round is 0.99.\n",
    "\n",
    "### 2.1 [2 pts]  On average, how many rounds of the slot machine will the gambler play before stopping for the day? \n",
    "\n"
   ]
  },
  {
   "cell_type": "markdown",
   "metadata": {},
   "source": [
    "Let X be a Bernoulli random variable, where the probability that the gambler wins a round on the slot machine is 0.01, and the probability that he doesn not win is 0.99."
   ]
  },
  {
   "cell_type": "markdown",
   "metadata": {},
   "source": [
    "On average, it will take the gambler 99 rounds of losing to stop playing for the day."
   ]
  },
  {
   "cell_type": "markdown",
   "metadata": {},
   "source": [
    "### 2.2 [2 pts]  Suppose that it costs $\\$1$ to play each round of the slot machine. The gambler always brings $\\$50$ with him to play the slot machine each day. If he runs out of this $\\$50$ (ie. he plays the game more than 50 times), then he goes to borrow money from his friend and keeps playing the slot machine until he wins. What percent of days does he need to borrow money from this friend?"
   ]
  },
  {
   "cell_type": "markdown",
   "metadata": {},
   "source": [
    "99% of days"
   ]
  },
  {
   "cell_type": "code",
   "execution_count": null,
   "metadata": {},
   "outputs": [],
   "source": []
  },
  {
   "cell_type": "markdown",
   "metadata": {},
   "source": [
    "## <u>Question 3</u>: Normal Random Variables\n",
    "\n",
    "Suppose the distribution of SAT scores for the seniors at a local high school (just math and verbal) has an average of 1000, a standard deviation of 100, and follows a normal distribution. "
   ]
  },
  {
   "cell_type": "markdown",
   "metadata": {},
   "source": [
    "### 3.1 [2 pts]  What is the probability that randomly selected senior from the high school scored more than 1250?"
   ]
  },
  {
   "cell_type": "markdown",
   "metadata": {},
   "source": [
    "Using normal cdf...."
   ]
  },
  {
   "cell_type": "code",
   "execution_count": 22,
   "metadata": {},
   "outputs": [
    {
     "name": "stdout",
     "output_type": "stream",
     "text": [
      "0.006209665325776159\n"
     ]
    }
   ],
   "source": [
    "from scipy.stats import norm\n",
    "x = norm.cdf(1250, loc=1000, scale = 100)\n",
    "print (1-x)"
   ]
  },
  {
   "cell_type": "markdown",
   "metadata": {},
   "source": [
    "### 3.2 [2 pts]  What percent of seniors at the school made score between a 900 and 950?"
   ]
  },
  {
   "cell_type": "markdown",
   "metadata": {},
   "source": [
    "Using normal cdf..."
   ]
  },
  {
   "cell_type": "code",
   "execution_count": 23,
   "metadata": {},
   "outputs": [
    {
     "data": {
      "text/plain": [
       "0.1498822847945298"
      ]
     },
     "execution_count": 23,
     "metadata": {},
     "output_type": "execute_result"
    }
   ],
   "source": [
    "norm.cdf(950, loc = 1000, scale = 100) - norm.cdf(900, loc = 1000, scale = 100)"
   ]
  },
  {
   "cell_type": "markdown",
   "metadata": {},
   "source": [
    "### 3.3 [3 pts]  Suppose that all seniors at the school who score higher than a 1200 get a scholarship from the county. Suppose that we randomly select a student that we KNOW got the scholarship. GIVEN that we know that the student has the scholarship, what is the probability that this student's SAT score was less than 1300?\n",
    "\n",
    "#### Hint: You might need to consider some other probability rules that we've encountered in this class."
   ]
  },
  {
   "cell_type": "markdown",
   "metadata": {},
   "source": [
    "The probability that a given student scored higher than 1200 is 1 - norm.cdf(1200, loc = 1000, scale = 100)"
   ]
  },
  {
   "cell_type": "code",
   "execution_count": 30,
   "metadata": {},
   "outputs": [
    {
     "data": {
      "text/plain": [
       "0.02275013194817921"
      ]
     },
     "execution_count": 30,
     "metadata": {},
     "output_type": "execute_result"
    }
   ],
   "source": [
    "prob_of_1200 = 1 - norm.cdf(1200, loc = 1000, scale = 100)\n",
    "prob_of_1300 = 1 - norm.cdf(1300, loc = 1000, scale = 100)"
   ]
  },
  {
   "cell_type": "code",
   "execution_count": 33,
   "metadata": {},
   "outputs": [
    {
     "name": "stdout",
     "output_type": "stream",
     "text": [
      "0.9406641669285728\n"
     ]
    }
   ],
   "source": [
    "print(1 - (prob_of_1300/prob_of_1200))"
   ]
  },
  {
   "cell_type": "markdown",
   "metadata": {},
   "source": [
    "The probability that a student with a scholarship scored below a 1300 is about 94%"
   ]
  },
  {
   "cell_type": "markdown",
   "metadata": {},
   "source": [
    "## <u>Question 4</u>: Exploring Properties of the Sample Mean Random Variable\n",
    "\n",
    "Let's revisit our distribution of SAT scores for the seniors at a local high school (just math and verbal) that had an average of 1000, a standard deviation of 100, and followed a normal distribution. \n",
    "\n",
    "Let's define **$X_1$=SAT score of a randomly selected high school senior**"
   ]
  },
  {
   "cell_type": "markdown",
   "metadata": {},
   "source": [
    "### 4.1 [2 pts] What is $E[X_1]$,  $V[X_1]$, and $SD[X_1]$? (looking for actual numbers)."
   ]
  },
  {
   "cell_type": "markdown",
   "metadata": {},
   "source": [
    "\n"
   ]
  },
  {
   "cell_type": "markdown",
   "metadata": {},
   "source": [
    "E(X) = mu = 1000\n",
    "V(X) = std^2 = 10000\n",
    "SD(X) = std = 100"
   ]
  },
  {
   "cell_type": "markdown",
   "metadata": {},
   "source": [
    "### <u>Tutorial</u>: Functions of Random Variables\n",
    "\n",
    "Remember from Unit 7, that we can create new random variables by adding and multiplying random variable by other random variables or other numbers.\n",
    "\n",
    "For instance, if we have the two following random variables,\n",
    "\n",
    "**$X_1$=SAT score of a randomly selected high school senior**\n",
    "\n",
    "**$X_2$=SAT score of a randomly selected high school senior**\n",
    "\n",
    "then $\\bar{X}=\\frac{X_1+X_2}{2}$ is also a random variable."
   ]
  },
  {
   "cell_type": "markdown",
   "metadata": {},
   "source": [
    "### <u>Tutorial</u>: Properties of the $E[ ]$ function and the $V[]$ function.\n",
    "\n",
    "* Recall that if we are dealing with a random variable Y that is associated with an experiment, then \n",
    "    - if we were to repeat this experiment many, many times, calculate the value of Y for the outcome of each of these experiments, and then take the **average** of these Y values, we would expect this average to be very close to $E[Y]$.\n",
    "    - if we were to repeat this experiment many, many times, calculate the value of Y for the outcome of each of these experiments, and then take the **variance** of these Y values, we would expect this average to be very close to $V[Y]$.\n",
    "    \n",
    "\n",
    "We can think of these $E[ ]$ and $V[]$ as **functions** that also happen to have certain properties.\n",
    "\n",
    "\n",
    "#### <u>Property of the $E[ ]$ function</u>\n",
    "For instance, if X and Y ar|e random variables and a and b are coefficients, then\n",
    "$E[aX+bY] = a\\cdot E[X]+b\\cdot E[Y]$.\n",
    "\n",
    "For instance:\n",
    "\n",
    "$E[7X_1+4X_2] = 7\\cdot E[X_1]+4\\cdot E[X_2]$."
   ]
  },
  {
   "cell_type": "markdown",
   "metadata": {},
   "source": [
    "### 4.2  [2 pts] Calculating $E[\\bar{X}]$.\n",
    "Let's define the following four random variables:\n",
    "\n",
    "* **$X_1$=SAT score of a randomly selected high school senior**\n",
    "\n",
    "* **$X_2$=SAT score of a randomly selected high school senior**\n",
    "\n",
    "* **$X_3$=SAT score of a randomly selected high school senior**\n",
    "\n",
    "* **$X_4$=SAT score of a randomly selected high school senior**.\n",
    "\n",
    "Specifically, we say that $X_i \\sim N(\\mu = 1000, \\sigma=100)$ for i=1, i=2, i=3, and i=4.\n",
    "\n",
    "Finally, let's define one more random variable as:\n",
    "* **$\\bar{X}=\\frac{X_1+X_2+X_3+X_4}{4}$**\n",
    "\n",
    "\n",
    "#### Use the properties from the tutorials above to calculate $E[\\bar{X}]$.\n",
    "\n",
    "This is a proof, so show your work!"
   ]
  },
  {
   "cell_type": "markdown",
   "metadata": {},
   "source": [
    "Xbar = (X1 + X2 + X3 + X4)/4\n",
    "     = X1/4 + X2/4 + X3/4 + X4/4\n",
    "     = 1000/4 + 1000/4 + 1000/4 + 1000/4\n",
    "     = 250 + 250 + 250 + 250\n",
    "     = 1000\n",
    "     "
   ]
  }
 ],
 "metadata": {
  "kernelspec": {
   "display_name": "Python 3",
   "language": "python",
   "name": "python3"
  },
  "language_info": {
   "codemirror_mode": {
    "name": "ipython",
    "version": 3
   },
   "file_extension": ".py",
   "mimetype": "text/x-python",
   "name": "python",
   "nbconvert_exporter": "python",
   "pygments_lexer": "ipython3",
   "version": "3.8.5"
  }
 },
 "nbformat": 4,
 "nbformat_minor": 2
}
