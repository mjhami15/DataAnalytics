{
 "cells": [
  {
   "cell_type": "markdown",
   "metadata": {},
   "source": [
    "# Final Exam - 200 Points\n",
    "\n",
    "## <u>General Case Study</u>: Seattle Airbnb Analysis\n",
    "\n",
    "Suppose that you have a spare room in your house (in Seattle) and you are considering advertising this room to guests on Airbnb. In order to maximize your total profits from renting out your room, you would like to learn more about what factors are associated with the price of an Airbnb in Seattle.\n",
    "\n",
    "Airbnb superhosts are considered to be experienced hosts who provide a shining example for other hosts, and extraordinary experiences for their guests. Once a host reaches Superhost status, a superhost badge will automatically appear on their listing and profile to help guests identify them. In addition, you are interested to see if pursuing a \"superhost\" status on Airbnb is worth it if your goal is to maximize your total Airbnb profits.\n",
    "\n",
    "The following dataset is a sample (assume random) of available Airbnb listings in Seattle, WA. These listings were collected in January 2016, and filtered to just contain listings from the five most popular Seattlbe neighborhoods (for Airbnb listings) and just contain listings that are either in a house or apartment property.\n",
    "\n",
    "This dataset contains the following variables.\n",
    "\n",
    "**Listing Information**\n",
    "The dataset contains the following information about the Airbnb *listing*:\n",
    "* <u>price</u>: price of the listing (per night)(in US dollars)\n",
    "* <u>review_scores_rating</u>: the average rating of the listing [0,100] (100 is the best)\n",
    "* <u>number_of_reviews</u>: the number of reviews for the listing\n",
    "* <u>security_deposit</u>: the security deposit required for the listing (in US dollars)\n",
    "* <u>cleaning_fee</u>: the cleaning fee required for the listing (in US dollars)\n",
    "* <u>neighborhood</u>: the neighborhood of Seattle the listing is located in\n",
    "* <u>property_type</u>: is the listing in a 'House' or 'Apartment'\n",
    "* <u>room_type</u>: is the listing a 'Entire home/apt', 'Private room', or 'Shared room'\n",
    "* <u>accommodates</u>: how many guests will the listing accommodate\n",
    "* <u>bathrooms</u>:how many bathrooms does the listing have\n",
    "* <u>bedrooms</u>: how many bedrooms does the listing have\n",
    "* <u>beds</u>: how many beds does the listing have\n",
    "\n",
    "**Host Information**\n",
    "The dataset also contains the following information about the *host* of the given Airbnb listing:\n",
    "* <u>host_is_superhost</u>: is the host a \"superhost\": t=True, f=False\n",
    "* <u>host_has_profile_pic</u>: does the host have a profile pic in their bio: t=True, f=False\n",
    "* <u>host_response_time</u>: how fast will the host respond to requests (on average)\n",
    "* <u>host_acceptance_rate</u>: what percent of booking requests will the host accept\n",
    "\n",
    "## <u>Points</u>\n",
    "\n",
    "<p>&nbsp;</p>\n",
    "<table style=\"border: none;border-collapse: collapse;width:102pt;\">\n",
    "    <tbody>\n",
    "        <tr>\n",
    "            <td style=\"color:black;font-size:15px;font-weight:700;font-style:normal;text-decoration:none;font-family:Calibri, sans-serif;text-align:general;vertical-align:bottom;border:.5pt solid windowtext;background:#D9D9D9;height:14.25pt;width:51pt;\">Problem</td>\n",
    "            <td style=\"color:black;font-size:15px;font-weight:700;font-style:normal;text-decoration:none;font-family:Calibri, sans-serif;text-align:general;vertical-align:bottom;border:.5pt solid windowtext;background:#D9D9D9;border-left:none;width:51pt;\">Points</td>\n",
    "        </tr>\n",
    "        <tr>\n",
    "            <td style=\"color:black;font-size:15px;font-weight:400;font-style:normal;text-decoration:none;font-family:Calibri, sans-serif;text-align:general;vertical-align:bottom;border:.5pt solid windowtext;height:14.25pt;border-top:none;\">1.1.</td>\n",
    "            <td style=\"color:black;font-size:15px;font-weight:400;font-style:normal;text-decoration:none;font-family:Calibri, sans-serif;text-align:right;vertical-align:bottom;border:.5pt solid windowtext;border-top:none;border-left:none;\">7</td>\n",
    "        </tr>\n",
    "        <tr>\n",
    "            <td style=\"color:black;font-size:15px;font-weight:400;font-style:normal;text-decoration:none;font-family:Calibri, sans-serif;text-align:general;vertical-align:bottom;border:.5pt solid windowtext;height:14.25pt;border-top:none;\">1.2.</td>\n",
    "            <td style=\"color:black;font-size:15px;font-weight:400;font-style:normal;text-decoration:none;font-family:Calibri, sans-serif;text-align:right;vertical-align:bottom;border:.5pt solid windowtext;border-top:none;border-left:none;\">3</td>\n",
    "        </tr>\n",
    "        <tr>\n",
    "            <td style=\"color:black;font-size:15px;font-weight:400;font-style:normal;text-decoration:none;font-family:Calibri, sans-serif;text-align:general;vertical-align:bottom;border:.5pt solid windowtext;height:14.25pt;border-top:none;\">2.1.</td>\n",
    "            <td style=\"color:black;font-size:15px;font-weight:400;font-style:normal;text-decoration:none;font-family:Calibri, sans-serif;text-align:right;vertical-align:bottom;border:.5pt solid windowtext;border-top:none;border-left:none;\">5</td>\n",
    "        </tr>\n",
    "        <tr>\n",
    "            <td style=\"color:black;font-size:15px;font-weight:400;font-style:normal;text-decoration:none;font-family:Calibri, sans-serif;text-align:general;vertical-align:bottom;border:.5pt solid windowtext;height:14.25pt;border-top:none;\">2.2.</td>\n",
    "            <td style=\"color:black;font-size:15px;font-weight:400;font-style:normal;text-decoration:none;font-family:Calibri, sans-serif;text-align:right;vertical-align:bottom;border:.5pt solid windowtext;border-top:none;border-left:none;\">5</td>\n",
    "        </tr>\n",
    "        <tr>\n",
    "            <td style=\"color:black;font-size:15px;font-weight:400;font-style:normal;text-decoration:none;font-family:Calibri, sans-serif;text-align:general;vertical-align:bottom;border:.5pt solid windowtext;height:14.25pt;border-top:none;\">2.3.</td>\n",
    "            <td style=\"color:black;font-size:15px;font-weight:400;font-style:normal;text-decoration:none;font-family:Calibri, sans-serif;text-align:right;vertical-align:bottom;border:.5pt solid windowtext;border-top:none;border-left:none;\">5</td>\n",
    "        </tr>\n",
    "        <tr>\n",
    "            <td style=\"color:black;font-size:15px;font-weight:400;font-style:normal;text-decoration:none;font-family:Calibri, sans-serif;text-align:general;vertical-align:bottom;border:.5pt solid windowtext;height:14.25pt;border-top:none;\">2.4.</td>\n",
    "            <td style=\"color:black;font-size:15px;font-weight:400;font-style:normal;text-decoration:none;font-family:Calibri, sans-serif;text-align:right;vertical-align:bottom;border:.5pt solid windowtext;border-top:none;border-left:none;\">5</td>\n",
    "        </tr>\n",
    "        <tr>\n",
    "            <td style=\"color:black;font-size:15px;font-weight:400;font-style:normal;text-decoration:none;font-family:Calibri, sans-serif;text-align:general;vertical-align:bottom;border:.5pt solid windowtext;height:14.25pt;border-top:none;\">3.1.1</td>\n",
    "            <td style=\"color:black;font-size:15px;font-weight:400;font-style:normal;text-decoration:none;font-family:Calibri, sans-serif;text-align:right;vertical-align:bottom;border:.5pt solid windowtext;border-top:none;border-left:none;\">5</td>\n",
    "        </tr>\n",
    "        <tr>\n",
    "            <td style=\"color:black;font-size:15px;font-weight:400;font-style:normal;text-decoration:none;font-family:Calibri, sans-serif;text-align:general;vertical-align:bottom;border:.5pt solid windowtext;height:14.25pt;border-top:none;\">3.1.2</td>\n",
    "            <td style=\"color:black;font-size:15px;font-weight:400;font-style:normal;text-decoration:none;font-family:Calibri, sans-serif;text-align:right;vertical-align:bottom;border:.5pt solid windowtext;border-top:none;border-left:none;\">5</td>\n",
    "        </tr>\n",
    "        <tr>\n",
    "            <td style=\"color:black;font-size:15px;font-weight:400;font-style:normal;text-decoration:none;font-family:Calibri, sans-serif;text-align:general;vertical-align:bottom;border:.5pt solid windowtext;height:14.25pt;border-top:none;\">3.2.1</td>\n",
    "            <td style=\"color:black;font-size:15px;font-weight:400;font-style:normal;text-decoration:none;font-family:Calibri, sans-serif;text-align:right;vertical-align:bottom;border:.5pt solid windowtext;border-top:none;border-left:none;\">4</td>\n",
    "        </tr>\n",
    "        <tr>\n",
    "            <td style=\"color:black;font-size:15px;font-weight:400;font-style:normal;text-decoration:none;font-family:Calibri, sans-serif;text-align:general;vertical-align:bottom;border:.5pt solid windowtext;height:14.25pt;border-top:none;\">3.2.2</td>\n",
    "            <td style=\"color:black;font-size:15px;font-weight:400;font-style:normal;text-decoration:none;font-family:Calibri, sans-serif;text-align:right;vertical-align:bottom;border:.5pt solid windowtext;border-top:none;border-left:none;\">8</td>\n",
    "        </tr>\n",
    "        <tr>\n",
    "            <td style=\"color:black;font-size:15px;font-weight:400;font-style:normal;text-decoration:none;font-family:Calibri, sans-serif;text-align:general;vertical-align:bottom;border:.5pt solid windowtext;height:14.25pt;border-top:none;\">3.2.3</td>\n",
    "            <td style=\"color:black;font-size:15px;font-weight:400;font-style:normal;text-decoration:none;font-family:Calibri, sans-serif;text-align:right;vertical-align:bottom;border:.5pt solid windowtext;border-top:none;border-left:none;\">7</td>\n",
    "        </tr>\n",
    "        <tr>\n",
    "            <td style=\"color:black;font-size:15px;font-weight:400;font-style:normal;text-decoration:none;font-family:Calibri, sans-serif;text-align:general;vertical-align:bottom;border:.5pt solid windowtext;height:14.25pt;border-top:none;\">3.2.4</td>\n",
    "            <td style=\"color:black;font-size:15px;font-weight:400;font-style:normal;text-decoration:none;font-family:Calibri, sans-serif;text-align:right;vertical-align:bottom;border:.5pt solid windowtext;border-top:none;border-left:none;\">4</td>\n",
    "        </tr>\n",
    "        <tr>\n",
    "            <td style=\"color:black;font-size:15px;font-weight:400;font-style:normal;text-decoration:none;font-family:Calibri, sans-serif;text-align:general;vertical-align:bottom;border:.5pt solid windowtext;height:14.25pt;border-top:none;\">3.2.5</td>\n",
    "            <td style=\"color:black;font-size:15px;font-weight:400;font-style:normal;text-decoration:none;font-family:Calibri, sans-serif;text-align:right;vertical-align:bottom;border:.5pt solid windowtext;border-top:none;border-left:none;\">7</td>\n",
    "        </tr>\n",
    "        <tr>\n",
    "            <td style=\"color:black;font-size:15px;font-weight:400;font-style:normal;text-decoration:none;font-family:Calibri, sans-serif;text-align:general;vertical-align:bottom;border:.5pt solid windowtext;height:14.25pt;border-top:none;\">3.2.6</td>\n",
    "            <td style=\"color:black;font-size:15px;font-weight:400;font-style:normal;text-decoration:none;font-family:Calibri, sans-serif;text-align:right;vertical-align:bottom;border:.5pt solid windowtext;border-top:none;border-left:none;\">3</td>\n",
    "        </tr>\n",
    "        <tr>\n",
    "            <td style=\"color:black;font-size:15px;font-weight:400;font-style:normal;text-decoration:none;font-family:Calibri, sans-serif;text-align:general;vertical-align:bottom;border:.5pt solid windowtext;height:14.25pt;border-top:none;\">4.1.</td>\n",
    "            <td style=\"color:black;font-size:15px;font-weight:400;font-style:normal;text-decoration:none;font-family:Calibri, sans-serif;text-align:right;vertical-align:bottom;border:.5pt solid windowtext;border-top:none;border-left:none;\">5</td>\n",
    "        </tr>\n",
    "        <tr>\n",
    "            <td style=\"color:black;font-size:15px;font-weight:400;font-style:normal;text-decoration:none;font-family:Calibri, sans-serif;text-align:general;vertical-align:bottom;border:.5pt solid windowtext;height:14.25pt;border-top:none;\">4.2.</td>\n",
    "            <td style=\"color:black;font-size:15px;font-weight:400;font-style:normal;text-decoration:none;font-family:Calibri, sans-serif;text-align:right;vertical-align:bottom;border:.5pt solid windowtext;border-top:none;border-left:none;\">5</td>\n",
    "        </tr>\n",
    "        <tr>\n",
    "            <td style=\"color:black;font-size:15px;font-weight:400;font-style:normal;text-decoration:none;font-family:Calibri, sans-serif;text-align:general;vertical-align:bottom;border:.5pt solid windowtext;height:14.25pt;border-top:none;\">4.3.</td>\n",
    "            <td style=\"color:black;font-size:15px;font-weight:400;font-style:normal;text-decoration:none;font-family:Calibri, sans-serif;text-align:right;vertical-align:bottom;border:.5pt solid windowtext;border-top:none;border-left:none;\">6</td>\n",
    "        </tr>\n",
    "        <tr>\n",
    "            <td style=\"color:black;font-size:15px;font-weight:400;font-style:normal;text-decoration:none;font-family:Calibri, sans-serif;text-align:general;vertical-align:bottom;border:.5pt solid windowtext;height:14.25pt;border-top:none;\">4.4.</td>\n",
    "            <td style=\"color:black;font-size:15px;font-weight:400;font-style:normal;text-decoration:none;font-family:Calibri, sans-serif;text-align:right;vertical-align:bottom;border:.5pt solid windowtext;border-top:none;border-left:none;\">5</td>\n",
    "        </tr>\n",
    "        <tr>\n",
    "            <td style=\"color:black;font-size:15px;font-weight:400;font-style:normal;text-decoration:none;font-family:Calibri, sans-serif;text-align:general;vertical-align:bottom;border:.5pt solid windowtext;height:14.25pt;border-top:none;\">4.5.1</td>\n",
    "            <td style=\"color:black;font-size:15px;font-weight:400;font-style:normal;text-decoration:none;font-family:Calibri, sans-serif;text-align:right;vertical-align:bottom;border:.5pt solid windowtext;border-top:none;border-left:none;\">3</td>\n",
    "        </tr>\n",
    "        <tr>\n",
    "            <td style=\"color:black;font-size:15px;font-weight:400;font-style:normal;text-decoration:none;font-family:Calibri, sans-serif;text-align:general;vertical-align:bottom;border:.5pt solid windowtext;height:14.25pt;border-top:none;\">4.5.2</td>\n",
    "            <td style=\"color:black;font-size:15px;font-weight:400;font-style:normal;text-decoration:none;font-family:Calibri, sans-serif;text-align:right;vertical-align:bottom;border:.5pt solid windowtext;border-top:none;border-left:none;\">7</td>\n",
    "        </tr>\n",
    "        <tr>\n",
    "            <td style=\"color:black;font-size:15px;font-weight:400;font-style:normal;text-decoration:none;font-family:Calibri, sans-serif;text-align:general;vertical-align:bottom;border:.5pt solid windowtext;height:14.25pt;border-top:none;\">4.5.3</td>\n",
    "            <td style=\"color:black;font-size:15px;font-weight:400;font-style:normal;text-decoration:none;font-family:Calibri, sans-serif;text-align:right;vertical-align:bottom;border:.5pt solid windowtext;border-top:none;border-left:none;\">4</td>\n",
    "        </tr>\n",
    "        <tr>\n",
    "            <td style=\"color:black;font-size:15px;font-weight:400;font-style:normal;text-decoration:none;font-family:Calibri, sans-serif;text-align:general;vertical-align:bottom;border:.5pt solid windowtext;height:14.25pt;border-top:none;\">4.6.</td>\n",
    "            <td style=\"color:black;font-size:15px;font-weight:400;font-style:normal;text-decoration:none;font-family:Calibri, sans-serif;text-align:right;vertical-align:bottom;border:.5pt solid windowtext;border-top:none;border-left:none;\">3</td>\n",
    "        </tr>\n",
    "        <tr>\n",
    "            <td style=\"color:black;font-size:15px;font-weight:400;font-style:normal;text-decoration:none;font-family:Calibri, sans-serif;text-align:general;vertical-align:bottom;border:.5pt solid windowtext;height:14.25pt;border-top:none;\">4.7.</td>\n",
    "            <td style=\"color:black;font-size:15px;font-weight:400;font-style:normal;text-decoration:none;font-family:Calibri, sans-serif;text-align:right;vertical-align:bottom;border:.5pt solid windowtext;border-top:none;border-left:none;\">7</td>\n",
    "        </tr>\n",
    "        <tr>\n",
    "            <td style=\"color:black;font-size:15px;font-weight:400;font-style:normal;text-decoration:none;font-family:Calibri, sans-serif;text-align:general;vertical-align:bottom;border:.5pt solid windowtext;height:14.25pt;border-top:none;\">5.1.</td>\n",
    "            <td style=\"color:black;font-size:15px;font-weight:400;font-style:normal;text-decoration:none;font-family:Calibri, sans-serif;text-align:right;vertical-align:bottom;border:.5pt solid windowtext;border-top:none;border-left:none;\">5</td>\n",
    "        </tr>\n",
    "        <tr>\n",
    "            <td style=\"color:black;font-size:15px;font-weight:400;font-style:normal;text-decoration:none;font-family:Calibri, sans-serif;text-align:general;vertical-align:bottom;border:.5pt solid windowtext;height:14.25pt;border-top:none;\">5.2.</td>\n",
    "            <td style=\"color:black;font-size:15px;font-weight:400;font-style:normal;text-decoration:none;font-family:Calibri, sans-serif;text-align:right;vertical-align:bottom;border:.5pt solid windowtext;border-top:none;border-left:none;\">5</td>\n",
    "        </tr>\n",
    "        <tr>\n",
    "            <td style=\"color:black;font-size:15px;font-weight:400;font-style:normal;text-decoration:none;font-family:Calibri, sans-serif;text-align:general;vertical-align:bottom;border:.5pt solid windowtext;height:14.25pt;border-top:none;\">5.3.</td>\n",
    "            <td style=\"color:black;font-size:15px;font-weight:400;font-style:normal;text-decoration:none;font-family:Calibri, sans-serif;text-align:right;vertical-align:bottom;border:.5pt solid windowtext;border-top:none;border-left:none;\">5</td>\n",
    "        </tr>\n",
    "        <tr>\n",
    "            <td style=\"color:black;font-size:15px;font-weight:400;font-style:normal;text-decoration:none;font-family:Calibri, sans-serif;text-align:general;vertical-align:bottom;border:.5pt solid windowtext;height:14.25pt;border-top:none;\">5.4.</td>\n",
    "            <td style=\"color:black;font-size:15px;font-weight:400;font-style:normal;text-decoration:none;font-family:Calibri, sans-serif;text-align:right;vertical-align:bottom;border:.5pt solid windowtext;border-top:none;border-left:none;\">9</td>\n",
    "        </tr>\n",
    "        <tr>\n",
    "            <td style=\"color:black;font-size:15px;font-weight:400;font-style:normal;text-decoration:none;font-family:Calibri, sans-serif;text-align:general;vertical-align:bottom;border:.5pt solid windowtext;height:14.25pt;border-top:none;\">5.5.</td>\n",
    "            <td style=\"color:black;font-size:15px;font-weight:400;font-style:normal;text-decoration:none;font-family:Calibri, sans-serif;text-align:right;vertical-align:bottom;border:.5pt solid windowtext;border-top:none;border-left:none;\">6</td>\n",
    "        </tr>\n",
    "        <tr>\n",
    "            <td style=\"color:black;font-size:15px;font-weight:400;font-style:normal;text-decoration:none;font-family:Calibri, sans-serif;text-align:general;vertical-align:bottom;border:.5pt solid windowtext;height:14.25pt;border-top:none;\">5.6.1</td>\n",
    "            <td style=\"color:black;font-size:15px;font-weight:400;font-style:normal;text-decoration:none;font-family:Calibri, sans-serif;text-align:right;vertical-align:bottom;border:.5pt solid windowtext;border-top:none;border-left:none;\">3</td>\n",
    "        </tr>\n",
    "        <tr>\n",
    "            <td style=\"color:black;font-size:15px;font-weight:400;font-style:normal;text-decoration:none;font-family:Calibri, sans-serif;text-align:general;vertical-align:bottom;border:.5pt solid windowtext;height:14.25pt;border-top:none;\">5.6.2</td>\n",
    "            <td style=\"color:black;font-size:15px;font-weight:400;font-style:normal;text-decoration:none;font-family:Calibri, sans-serif;text-align:right;vertical-align:bottom;border:.5pt solid windowtext;border-top:none;border-left:none;\">6</td>\n",
    "        </tr>\n",
    "        <tr>\n",
    "            <td style=\"color:black;font-size:15px;font-weight:400;font-style:normal;text-decoration:none;font-family:Calibri, sans-serif;text-align:general;vertical-align:bottom;border:.5pt solid windowtext;height:14.25pt;border-top:none;\">5.6.3</td>\n",
    "            <td style=\"color:black;font-size:15px;font-weight:400;font-style:normal;text-decoration:none;font-family:Calibri, sans-serif;text-align:right;vertical-align:bottom;border:.5pt solid windowtext;border-top:none;border-left:none;\">3</td>\n",
    "        </tr>\n",
    "        <tr>\n",
    "            <td style=\"color:black;font-size:15px;font-weight:400;font-style:normal;text-decoration:none;font-family:Calibri, sans-serif;text-align:general;vertical-align:bottom;border:.5pt solid windowtext;height:14.25pt;border-top:none;\">5.7.</td>\n",
    "            <td style=\"color:black;font-size:15px;font-weight:400;font-style:normal;text-decoration:none;font-family:Calibri, sans-serif;text-align:right;vertical-align:bottom;border:.5pt solid windowtext;border-top:none;border-left:none;\">8</td>\n",
    "        </tr>\n",
    "        <tr>\n",
    "            <td style=\"color:black;font-size:15px;font-weight:400;font-style:normal;text-decoration:none;font-family:Calibri, sans-serif;text-align:general;vertical-align:bottom;border:.5pt solid windowtext;height:14.25pt;border-top:none;\">5.8.</td>\n",
    "            <td style=\"color:black;font-size:15px;font-weight:400;font-style:normal;text-decoration:none;font-family:Calibri, sans-serif;text-align:right;vertical-align:bottom;border:.5pt solid windowtext;border-top:none;border-left:none;\">7</td>\n",
    "        </tr>\n",
    "        <tr>\n",
    "            <td style=\"color:black;font-size:15px;font-weight:400;font-style:normal;text-decoration:none;font-family:Calibri, sans-serif;text-align:general;vertical-align:bottom;border:.5pt solid windowtext;height:14.25pt;border-top:none;\">5.9.</td>\n",
    "            <td style=\"color:black;font-size:15px;font-weight:400;font-style:normal;text-decoration:none;font-family:Calibri, sans-serif;text-align:right;vertical-align:bottom;border:.5pt solid windowtext;border-top:none;border-left:none;\">7</td>\n",
    "        </tr>\n",
    "        <tr>\n",
    "            <td style=\"color:black;font-size:15px;font-weight:400;font-style:normal;text-decoration:none;font-family:Calibri, sans-serif;text-align:general;vertical-align:bottom;border:.5pt solid windowtext;height:14.25pt;border-top:none;\">6.1.</td>\n",
    "            <td style=\"color:black;font-size:15px;font-weight:400;font-style:normal;text-decoration:none;font-family:Calibri, sans-serif;text-align:right;vertical-align:bottom;border:.5pt solid windowtext;border-top:none;border-left:none;\">4</td>\n",
    "        </tr>\n",
    "        <tr>\n",
    "            <td style=\"color:black;font-size:15px;font-weight:400;font-style:normal;text-decoration:none;font-family:Calibri, sans-serif;text-align:general;vertical-align:bottom;border:.5pt solid windowtext;height:14.25pt;border-top:none;\">6.2.</td>\n",
    "            <td style=\"color:black;font-size:15px;font-weight:400;font-style:normal;text-decoration:none;font-family:Calibri, sans-serif;text-align:right;vertical-align:bottom;border:.5pt solid windowtext;border-top:none;border-left:none;\">5</td>\n",
    "        </tr>\n",
    "        <tr>\n",
    "            <td style=\"color:black;font-size:15px;font-weight:400;font-style:normal;text-decoration:none;font-family:Calibri, sans-serif;text-align:general;vertical-align:bottom;border:.5pt solid windowtext;height:14.25pt;border-top:none;\">6.3.</td>\n",
    "            <td style=\"color:black;font-size:15px;font-weight:400;font-style:normal;text-decoration:none;font-family:Calibri, sans-serif;text-align:right;vertical-align:bottom;border:.5pt solid windowtext;border-top:none;border-left:none;\">7</td>\n",
    "        </tr>\n",
    "        <tr>\n",
    "            <td style=\"color:black;font-size:15px;font-weight:400;font-style:normal;text-decoration:none;font-family:Calibri, sans-serif;text-align:general;vertical-align:bottom;border:.5pt solid windowtext;height:14.25pt;border-top:none;\">6.4.</td>\n",
    "            <td style=\"color:black;font-size:15px;font-weight:400;font-style:normal;text-decoration:none;font-family:Calibri, sans-serif;text-align:right;vertical-align:bottom;border:.5pt solid windowtext;border-top:none;border-left:none;\">2</td>\n",
    "        </tr>\n",
    "    </tbody>\n",
    "</table>\n",
    "\n",
    "\n",
    "## UIUC Academic Integrity Policy - <font style=\"color:red\">WRITE YOUR FULL NAME BELOW BEFORE BEGINNING </font>\n",
    "\n",
    "This is a an open notes takehome exam. <font style=\"color:red\">**However, you are not allowed to discuss this exam, open someone else's exam, or share/send your exam to anyone else except for Dr. Ellison until after the 24 hour exam period is over.**</font>\n",
    "\n",
    "By writing your full name in the text below you are indicating that you have read and are aware of the academic dishonesty policies http://courses.las.illinois.edu/spring2021/stat207/syllabus.html which indicates that <font style=\"color:red\">evidence of cheating on the exam results in an automatic F in the course. </font>\n"
   ]
  },
  {
   "cell_type": "markdown",
   "metadata": {},
   "source": [
    "Matt Hamilton"
   ]
  },
  {
   "cell_type": "markdown",
   "metadata": {},
   "source": [
    "## Imports"
   ]
  },
  {
   "cell_type": "code",
   "execution_count": 79,
   "metadata": {},
   "outputs": [],
   "source": [
    "import pandas as pd                    # imports pandas and calls the imported version 'pd'\n",
    "import matplotlib.pyplot as plt        # imports the package and calls it 'plt'\n",
    "import seaborn as sns                  # imports the seaborn package with the imported name 'sns'\n",
    "sns.set()                              # sets the default plotting style\n",
    "from scipy.stats import norm\n",
    "from scipy.stats import t\n",
    "from scipy.stats import f\n",
    "import numpy as np\n",
    "import statsmodels.api as sm\n",
    "import statsmodels.formula.api as smf\n",
    "from sklearn.metrics import confusion_matrix,roc_curve,roc_auc_score\n",
    "from sklearn.model_selection import train_test_split\n",
    "from scipy.stats import chi2\n",
    "import statsmodels.regression.linear_model as lm"
   ]
  },
  {
   "cell_type": "markdown",
   "metadata": {},
   "source": [
    "## 1. Data Preliminaries and Data Cleaning\n",
    "\n",
    "In this section you should read and \"clean\" the data contained in the \"seattle_airbnb_listings.csv\" file. Some of the entries in this csv file are encoded to represent missing data. \n",
    "\n",
    "### 1.1. Read and clean the \"seattle_airbnb_listings.csv\"\n",
    "What you need to do in this section is the following.\n",
    "\n",
    "1. Identify what string values these missing values are represented by in the csv file.\n",
    "2. Read the csv file into a dataframe that encodes these missing values as a NaN.\n",
    "3. Then, drop all rows in this dataframe that have a NaN value.\n",
    "\n"
   ]
  },
  {
   "cell_type": "code",
   "execution_count": 31,
   "metadata": {},
   "outputs": [],
   "source": [
    "df = pd.read_csv(\"seattle_airbnb_listings.csv\")"
   ]
  },
  {
   "cell_type": "code",
   "execution_count": 32,
   "metadata": {},
   "outputs": [
    {
     "data": {
      "text/html": [
       "<div>\n",
       "<style scoped>\n",
       "    .dataframe tbody tr th:only-of-type {\n",
       "        vertical-align: middle;\n",
       "    }\n",
       "\n",
       "    .dataframe tbody tr th {\n",
       "        vertical-align: top;\n",
       "    }\n",
       "\n",
       "    .dataframe thead th {\n",
       "        text-align: right;\n",
       "    }\n",
       "</style>\n",
       "<table border=\"1\" class=\"dataframe\">\n",
       "  <thead>\n",
       "    <tr style=\"text-align: right;\">\n",
       "      <th></th>\n",
       "      <th>price</th>\n",
       "      <th>review_scores_rating</th>\n",
       "      <th>number_of_reviews</th>\n",
       "      <th>security_deposit</th>\n",
       "      <th>cleaning_fee</th>\n",
       "      <th>neighborhood</th>\n",
       "      <th>property_type</th>\n",
       "      <th>room_type</th>\n",
       "      <th>accommodates</th>\n",
       "      <th>bathrooms</th>\n",
       "      <th>bedrooms</th>\n",
       "      <th>beds</th>\n",
       "      <th>host_response_time</th>\n",
       "      <th>host_response_rate</th>\n",
       "      <th>host_acceptance_rate</th>\n",
       "      <th>host_is_superhost</th>\n",
       "      <th>host_has_profile_pic</th>\n",
       "      <th>host_identity_verified</th>\n",
       "    </tr>\n",
       "  </thead>\n",
       "  <tbody>\n",
       "    <tr>\n",
       "      <th>0</th>\n",
       "      <td>300</td>\n",
       "      <td>100</td>\n",
       "      <td>24</td>\n",
       "      <td>500</td>\n",
       "      <td>95</td>\n",
       "      <td>Wallingford</td>\n",
       "      <td>House</td>\n",
       "      <td>Entire home/apt</td>\n",
       "      <td>5</td>\n",
       "      <td>1.5</td>\n",
       "      <td>3</td>\n",
       "      <td>3</td>\n",
       "      <td>within a few hours</td>\n",
       "      <td>1</td>\n",
       "      <td>1</td>\n",
       "      <td>t</td>\n",
       "      <td>t</td>\n",
       "      <td>t</td>\n",
       "    </tr>\n",
       "    <tr>\n",
       "      <th>1</th>\n",
       "      <td>150</td>\n",
       "      <td>missing</td>\n",
       "      <td>0</td>\n",
       "      <td>missing</td>\n",
       "      <td>100</td>\n",
       "      <td>Wallingford</td>\n",
       "      <td>House</td>\n",
       "      <td>Entire home/apt</td>\n",
       "      <td>5</td>\n",
       "      <td>2</td>\n",
       "      <td>3</td>\n",
       "      <td>3</td>\n",
       "      <td>missing</td>\n",
       "      <td>missing</td>\n",
       "      <td>missing</td>\n",
       "      <td>f</td>\n",
       "      <td>t</td>\n",
       "      <td>f</td>\n",
       "    </tr>\n",
       "    <tr>\n",
       "      <th>2</th>\n",
       "      <td>149</td>\n",
       "      <td>96</td>\n",
       "      <td>11</td>\n",
       "      <td>300</td>\n",
       "      <td>105</td>\n",
       "      <td>Wallingford</td>\n",
       "      <td>Apartment</td>\n",
       "      <td>Entire home/apt</td>\n",
       "      <td>6</td>\n",
       "      <td>1</td>\n",
       "      <td>2</td>\n",
       "      <td>3</td>\n",
       "      <td>within an hour</td>\n",
       "      <td>1</td>\n",
       "      <td>1</td>\n",
       "      <td>f</td>\n",
       "      <td>t</td>\n",
       "      <td>t</td>\n",
       "    </tr>\n",
       "    <tr>\n",
       "      <th>3</th>\n",
       "      <td>95</td>\n",
       "      <td>95</td>\n",
       "      <td>79</td>\n",
       "      <td>150</td>\n",
       "      <td>40</td>\n",
       "      <td>Wallingford</td>\n",
       "      <td>Apartment</td>\n",
       "      <td>Entire home/apt</td>\n",
       "      <td>3</td>\n",
       "      <td>1</td>\n",
       "      <td>1</td>\n",
       "      <td>2</td>\n",
       "      <td>within an hour</td>\n",
       "      <td>1</td>\n",
       "      <td>1</td>\n",
       "      <td>f</td>\n",
       "      <td>t</td>\n",
       "      <td>t</td>\n",
       "    </tr>\n",
       "    <tr>\n",
       "      <th>4</th>\n",
       "      <td>100</td>\n",
       "      <td>97</td>\n",
       "      <td>52</td>\n",
       "      <td>missing</td>\n",
       "      <td>missing</td>\n",
       "      <td>Wallingford</td>\n",
       "      <td>Apartment</td>\n",
       "      <td>Entire home/apt</td>\n",
       "      <td>2</td>\n",
       "      <td>1</td>\n",
       "      <td>1</td>\n",
       "      <td>1</td>\n",
       "      <td>within an hour</td>\n",
       "      <td>1</td>\n",
       "      <td>1</td>\n",
       "      <td>f</td>\n",
       "      <td>t</td>\n",
       "      <td>t</td>\n",
       "    </tr>\n",
       "  </tbody>\n",
       "</table>\n",
       "</div>"
      ],
      "text/plain": [
       "   price review_scores_rating  number_of_reviews security_deposit  \\\n",
       "0    300                  100                 24              500   \n",
       "1    150              missing                  0          missing   \n",
       "2    149                   96                 11              300   \n",
       "3     95                   95                 79              150   \n",
       "4    100                   97                 52          missing   \n",
       "\n",
       "  cleaning_fee neighborhood property_type        room_type  accommodates  \\\n",
       "0           95  Wallingford         House  Entire home/apt             5   \n",
       "1          100  Wallingford         House  Entire home/apt             5   \n",
       "2          105  Wallingford     Apartment  Entire home/apt             6   \n",
       "3           40  Wallingford     Apartment  Entire home/apt             3   \n",
       "4      missing  Wallingford     Apartment  Entire home/apt             2   \n",
       "\n",
       "  bathrooms bedrooms  beds  host_response_time host_response_rate  \\\n",
       "0       1.5        3     3  within a few hours                  1   \n",
       "1         2        3     3             missing            missing   \n",
       "2         1        2     3      within an hour                  1   \n",
       "3         1        1     2      within an hour                  1   \n",
       "4         1        1     1      within an hour                  1   \n",
       "\n",
       "  host_acceptance_rate host_is_superhost host_has_profile_pic  \\\n",
       "0                    1                 t                    t   \n",
       "1              missing                 f                    t   \n",
       "2                    1                 f                    t   \n",
       "3                    1                 f                    t   \n",
       "4                    1                 f                    t   \n",
       "\n",
       "  host_identity_verified  \n",
       "0                      t  \n",
       "1                      f  \n",
       "2                      t  \n",
       "3                      t  \n",
       "4                      t  "
      ]
     },
     "execution_count": 32,
     "metadata": {},
     "output_type": "execute_result"
    }
   ],
   "source": [
    "df.head()"
   ]
  },
  {
   "cell_type": "code",
   "execution_count": 33,
   "metadata": {},
   "outputs": [],
   "source": [
    "df = pd.read_csv('seattle_airbnb_listings.csv', na_values=['missing'])"
   ]
  },
  {
   "cell_type": "code",
   "execution_count": 34,
   "metadata": {},
   "outputs": [
    {
     "data": {
      "text/plain": [
       "price                       0\n",
       "review_scores_rating      148\n",
       "number_of_reviews           0\n",
       "security_deposit          527\n",
       "cleaning_fee              224\n",
       "neighborhood                0\n",
       "property_type               0\n",
       "room_type                   0\n",
       "accommodates                0\n",
       "bathrooms                   7\n",
       "bedrooms                    3\n",
       "beds                        0\n",
       "host_response_time        132\n",
       "host_response_rate        132\n",
       "host_acceptance_rate      169\n",
       "host_is_superhost           2\n",
       "host_has_profile_pic        2\n",
       "host_identity_verified      2\n",
       "dtype: int64"
      ]
     },
     "execution_count": 34,
     "metadata": {},
     "output_type": "execute_result"
    }
   ],
   "source": [
    "df.isna().sum()"
   ]
  },
  {
   "cell_type": "code",
   "execution_count": 35,
   "metadata": {},
   "outputs": [
    {
     "data": {
      "text/plain": [
       "(1006, 18)"
      ]
     },
     "execution_count": 35,
     "metadata": {},
     "output_type": "execute_result"
    }
   ],
   "source": [
    "df.shape"
   ]
  },
  {
   "cell_type": "code",
   "execution_count": 36,
   "metadata": {},
   "outputs": [],
   "source": [
    "df = df.dropna()"
   ]
  },
  {
   "cell_type": "code",
   "execution_count": 37,
   "metadata": {},
   "outputs": [
    {
     "data": {
      "text/plain": [
       "price                     0\n",
       "review_scores_rating      0\n",
       "number_of_reviews         0\n",
       "security_deposit          0\n",
       "cleaning_fee              0\n",
       "neighborhood              0\n",
       "property_type             0\n",
       "room_type                 0\n",
       "accommodates              0\n",
       "bathrooms                 0\n",
       "bedrooms                  0\n",
       "beds                      0\n",
       "host_response_time        0\n",
       "host_response_rate        0\n",
       "host_acceptance_rate      0\n",
       "host_is_superhost         0\n",
       "host_has_profile_pic      0\n",
       "host_identity_verified    0\n",
       "dtype: int64"
      ]
     },
     "execution_count": 37,
     "metadata": {},
     "output_type": "execute_result"
    }
   ],
   "source": [
    "df.isna().sum()"
   ]
  },
  {
   "cell_type": "markdown",
   "metadata": {},
   "source": [
    "### 1.2. How many rows with missing values did you drop?"
   ]
  },
  {
   "cell_type": "markdown",
   "metadata": {},
   "source": [
    "We started off with 1006 rows with missing data, and we ended up with \"df.shape[0]\" rows left."
   ]
  },
  {
   "cell_type": "code",
   "execution_count": 38,
   "metadata": {},
   "outputs": [
    {
     "name": "stdout",
     "output_type": "stream",
     "text": [
      "Number of rows dropped:  663\n"
     ]
    }
   ],
   "source": [
    "print('Number of rows dropped: ', 1006-df.shape[0])"
   ]
  },
  {
   "cell_type": "markdown",
   "metadata": {},
   "source": [
    "## 2. Descriptive Analytics\n",
    "\n",
    "Next we would like to learn more about the sample.\n",
    "\n",
    "### 2.1. Visualize the relationship between all pairs of numerical variables in this dataset."
   ]
  },
  {
   "cell_type": "code",
   "execution_count": 41,
   "metadata": {},
   "outputs": [
    {
     "data": {
      "text/html": [
       "<div>\n",
       "<style scoped>\n",
       "    .dataframe tbody tr th:only-of-type {\n",
       "        vertical-align: middle;\n",
       "    }\n",
       "\n",
       "    .dataframe tbody tr th {\n",
       "        vertical-align: top;\n",
       "    }\n",
       "\n",
       "    .dataframe thead th {\n",
       "        text-align: right;\n",
       "    }\n",
       "</style>\n",
       "<table border=\"1\" class=\"dataframe\">\n",
       "  <thead>\n",
       "    <tr style=\"text-align: right;\">\n",
       "      <th></th>\n",
       "      <th>price</th>\n",
       "      <th>review_scores_rating</th>\n",
       "      <th>number_of_reviews</th>\n",
       "      <th>security_deposit</th>\n",
       "      <th>cleaning_fee</th>\n",
       "      <th>accommodates</th>\n",
       "      <th>bathrooms</th>\n",
       "      <th>bedrooms</th>\n",
       "      <th>beds</th>\n",
       "      <th>host_response_rate</th>\n",
       "      <th>host_acceptance_rate</th>\n",
       "    </tr>\n",
       "  </thead>\n",
       "  <tbody>\n",
       "    <tr>\n",
       "      <th>price</th>\n",
       "      <td>1.000000</td>\n",
       "      <td>0.102290</td>\n",
       "      <td>-0.033758</td>\n",
       "      <td>0.366776</td>\n",
       "      <td>0.570853</td>\n",
       "      <td>0.649123</td>\n",
       "      <td>0.496617</td>\n",
       "      <td>0.605684</td>\n",
       "      <td>0.537609</td>\n",
       "      <td>0.062879</td>\n",
       "      <td>0.022178</td>\n",
       "    </tr>\n",
       "    <tr>\n",
       "      <th>review_scores_rating</th>\n",
       "      <td>0.102290</td>\n",
       "      <td>1.000000</td>\n",
       "      <td>0.016639</td>\n",
       "      <td>0.003267</td>\n",
       "      <td>0.054397</td>\n",
       "      <td>0.102188</td>\n",
       "      <td>0.132251</td>\n",
       "      <td>0.064221</td>\n",
       "      <td>0.053016</td>\n",
       "      <td>0.050302</td>\n",
       "      <td>-0.042176</td>\n",
       "    </tr>\n",
       "    <tr>\n",
       "      <th>number_of_reviews</th>\n",
       "      <td>-0.033758</td>\n",
       "      <td>0.016639</td>\n",
       "      <td>1.000000</td>\n",
       "      <td>-0.118945</td>\n",
       "      <td>-0.032717</td>\n",
       "      <td>-0.030424</td>\n",
       "      <td>0.000221</td>\n",
       "      <td>-0.091963</td>\n",
       "      <td>-0.105806</td>\n",
       "      <td>0.111522</td>\n",
       "      <td>0.032779</td>\n",
       "    </tr>\n",
       "    <tr>\n",
       "      <th>security_deposit</th>\n",
       "      <td>0.366776</td>\n",
       "      <td>0.003267</td>\n",
       "      <td>-0.118945</td>\n",
       "      <td>1.000000</td>\n",
       "      <td>0.578345</td>\n",
       "      <td>0.333976</td>\n",
       "      <td>0.235391</td>\n",
       "      <td>0.371466</td>\n",
       "      <td>0.340687</td>\n",
       "      <td>-0.028895</td>\n",
       "      <td>0.035940</td>\n",
       "    </tr>\n",
       "    <tr>\n",
       "      <th>cleaning_fee</th>\n",
       "      <td>0.570853</td>\n",
       "      <td>0.054397</td>\n",
       "      <td>-0.032717</td>\n",
       "      <td>0.578345</td>\n",
       "      <td>1.000000</td>\n",
       "      <td>0.639815</td>\n",
       "      <td>0.499020</td>\n",
       "      <td>0.596962</td>\n",
       "      <td>0.573879</td>\n",
       "      <td>0.040928</td>\n",
       "      <td>0.052146</td>\n",
       "    </tr>\n",
       "    <tr>\n",
       "      <th>accommodates</th>\n",
       "      <td>0.649123</td>\n",
       "      <td>0.102188</td>\n",
       "      <td>-0.030424</td>\n",
       "      <td>0.333976</td>\n",
       "      <td>0.639815</td>\n",
       "      <td>1.000000</td>\n",
       "      <td>0.578416</td>\n",
       "      <td>0.764438</td>\n",
       "      <td>0.856587</td>\n",
       "      <td>0.070785</td>\n",
       "      <td>0.037262</td>\n",
       "    </tr>\n",
       "    <tr>\n",
       "      <th>bathrooms</th>\n",
       "      <td>0.496617</td>\n",
       "      <td>0.132251</td>\n",
       "      <td>0.000221</td>\n",
       "      <td>0.235391</td>\n",
       "      <td>0.499020</td>\n",
       "      <td>0.578416</td>\n",
       "      <td>1.000000</td>\n",
       "      <td>0.628462</td>\n",
       "      <td>0.545163</td>\n",
       "      <td>0.069616</td>\n",
       "      <td>0.020249</td>\n",
       "    </tr>\n",
       "    <tr>\n",
       "      <th>bedrooms</th>\n",
       "      <td>0.605684</td>\n",
       "      <td>0.064221</td>\n",
       "      <td>-0.091963</td>\n",
       "      <td>0.371466</td>\n",
       "      <td>0.596962</td>\n",
       "      <td>0.764438</td>\n",
       "      <td>0.628462</td>\n",
       "      <td>1.000000</td>\n",
       "      <td>0.747015</td>\n",
       "      <td>0.037166</td>\n",
       "      <td>0.014791</td>\n",
       "    </tr>\n",
       "    <tr>\n",
       "      <th>beds</th>\n",
       "      <td>0.537609</td>\n",
       "      <td>0.053016</td>\n",
       "      <td>-0.105806</td>\n",
       "      <td>0.340687</td>\n",
       "      <td>0.573879</td>\n",
       "      <td>0.856587</td>\n",
       "      <td>0.545163</td>\n",
       "      <td>0.747015</td>\n",
       "      <td>1.000000</td>\n",
       "      <td>0.068646</td>\n",
       "      <td>0.035214</td>\n",
       "    </tr>\n",
       "    <tr>\n",
       "      <th>host_response_rate</th>\n",
       "      <td>0.062879</td>\n",
       "      <td>0.050302</td>\n",
       "      <td>0.111522</td>\n",
       "      <td>-0.028895</td>\n",
       "      <td>0.040928</td>\n",
       "      <td>0.070785</td>\n",
       "      <td>0.069616</td>\n",
       "      <td>0.037166</td>\n",
       "      <td>0.068646</td>\n",
       "      <td>1.000000</td>\n",
       "      <td>-0.024800</td>\n",
       "    </tr>\n",
       "    <tr>\n",
       "      <th>host_acceptance_rate</th>\n",
       "      <td>0.022178</td>\n",
       "      <td>-0.042176</td>\n",
       "      <td>0.032779</td>\n",
       "      <td>0.035940</td>\n",
       "      <td>0.052146</td>\n",
       "      <td>0.037262</td>\n",
       "      <td>0.020249</td>\n",
       "      <td>0.014791</td>\n",
       "      <td>0.035214</td>\n",
       "      <td>-0.024800</td>\n",
       "      <td>1.000000</td>\n",
       "    </tr>\n",
       "  </tbody>\n",
       "</table>\n",
       "</div>"
      ],
      "text/plain": [
       "                         price  review_scores_rating  number_of_reviews  \\\n",
       "price                 1.000000              0.102290          -0.033758   \n",
       "review_scores_rating  0.102290              1.000000           0.016639   \n",
       "number_of_reviews    -0.033758              0.016639           1.000000   \n",
       "security_deposit      0.366776              0.003267          -0.118945   \n",
       "cleaning_fee          0.570853              0.054397          -0.032717   \n",
       "accommodates          0.649123              0.102188          -0.030424   \n",
       "bathrooms             0.496617              0.132251           0.000221   \n",
       "bedrooms              0.605684              0.064221          -0.091963   \n",
       "beds                  0.537609              0.053016          -0.105806   \n",
       "host_response_rate    0.062879              0.050302           0.111522   \n",
       "host_acceptance_rate  0.022178             -0.042176           0.032779   \n",
       "\n",
       "                      security_deposit  cleaning_fee  accommodates  bathrooms  \\\n",
       "price                         0.366776      0.570853      0.649123   0.496617   \n",
       "review_scores_rating          0.003267      0.054397      0.102188   0.132251   \n",
       "number_of_reviews            -0.118945     -0.032717     -0.030424   0.000221   \n",
       "security_deposit              1.000000      0.578345      0.333976   0.235391   \n",
       "cleaning_fee                  0.578345      1.000000      0.639815   0.499020   \n",
       "accommodates                  0.333976      0.639815      1.000000   0.578416   \n",
       "bathrooms                     0.235391      0.499020      0.578416   1.000000   \n",
       "bedrooms                      0.371466      0.596962      0.764438   0.628462   \n",
       "beds                          0.340687      0.573879      0.856587   0.545163   \n",
       "host_response_rate           -0.028895      0.040928      0.070785   0.069616   \n",
       "host_acceptance_rate          0.035940      0.052146      0.037262   0.020249   \n",
       "\n",
       "                      bedrooms      beds  host_response_rate  \\\n",
       "price                 0.605684  0.537609            0.062879   \n",
       "review_scores_rating  0.064221  0.053016            0.050302   \n",
       "number_of_reviews    -0.091963 -0.105806            0.111522   \n",
       "security_deposit      0.371466  0.340687           -0.028895   \n",
       "cleaning_fee          0.596962  0.573879            0.040928   \n",
       "accommodates          0.764438  0.856587            0.070785   \n",
       "bathrooms             0.628462  0.545163            0.069616   \n",
       "bedrooms              1.000000  0.747015            0.037166   \n",
       "beds                  0.747015  1.000000            0.068646   \n",
       "host_response_rate    0.037166  0.068646            1.000000   \n",
       "host_acceptance_rate  0.014791  0.035214           -0.024800   \n",
       "\n",
       "                      host_acceptance_rate  \n",
       "price                             0.022178  \n",
       "review_scores_rating             -0.042176  \n",
       "number_of_reviews                 0.032779  \n",
       "security_deposit                  0.035940  \n",
       "cleaning_fee                      0.052146  \n",
       "accommodates                      0.037262  \n",
       "bathrooms                         0.020249  \n",
       "bedrooms                          0.014791  \n",
       "beds                              0.035214  \n",
       "host_response_rate               -0.024800  \n",
       "host_acceptance_rate              1.000000  "
      ]
     },
     "execution_count": 41,
     "metadata": {},
     "output_type": "execute_result"
    }
   ],
   "source": [
    "df[['price', 'review_scores_rating', 'number_of_reviews', 'security_deposit', 'cleaning_fee', 'accommodates', 'bathrooms', 'bedrooms', 'beds', 'host_response_rate', 'host_acceptance_rate']].corr()"
   ]
  },
  {
   "cell_type": "markdown",
   "metadata": {},
   "source": [
    "### 2.2. Which numerical variable has the strongest correlation with the price of the listing? For this variable that you picked, is it acceptable to use correlation to measure the strength of the association between price and this variable? Why or why not?"
   ]
  },
  {
   "cell_type": "code",
   "execution_count": 42,
   "metadata": {},
   "outputs": [
    {
     "name": "stdout",
     "output_type": "stream",
     "text": [
      "Numerical Variable with Strongest Correlation to Price of Listing:  accommodates\n"
     ]
    }
   ],
   "source": [
    "print('Numerical Variable with Strongest Correlation to Price of Listing: ', 'accommodates')"
   ]
  },
  {
   "cell_type": "markdown",
   "metadata": {},
   "source": [
    "Yes we can. The relationship between the two variables in linear. Therefore the correlation coeffficient provides an accurate quantification of the strength (and direction) of th linear relationship. "
   ]
  },
  {
   "cell_type": "markdown",
   "metadata": {},
   "source": [
    "### 2.3. Visualize the association between the price of a listing and whether or not the host of the listing is a superhost. Would you say that there is a *strong* association between the host being a superhost and the price of the listing in this dataset? Explain."
   ]
  },
  {
   "cell_type": "code",
   "execution_count": 47,
   "metadata": {},
   "outputs": [
    {
     "data": {
      "image/png": "[encoded data removed]",
      "text/plain": [
       "<Figure size 432x288 with 1 Axes>"
      ]
     },
     "metadata": {},
     "output_type": "display_data"
    }
   ],
   "source": [
    "sns.boxplot(x='host_is_superhost', y='price', data=df)\n",
    "plt.xlabel(\"Is Host a Superhost\")\n",
    "plt.ylabel(\"Price of listing\")\n",
    "plt.show()"
   ]
  },
  {
   "cell_type": "markdown",
   "metadata": {},
   "source": [
    "There is probably not a STRONG association between the price of the listing and whether or not a host is a super host because the median for the non-super hosts and super hosts is very similar. Therefore, the association is not strong."
   ]
  },
  {
   "cell_type": "markdown",
   "metadata": {},
   "source": [
    "### 2.4. Next we would like to determine if the *relationship* between the number of guests a listing accommodates and the price is different for superhost listings and non-superhost listings. Do the following.\n",
    "\n",
    "1. Create a scatterplot between the number of guests a listing accommodates and the price of the listing.\n",
    "2. Color-code the points in the scatterplot by whether the host is a super host or not.\n",
    "3. Create two best fit lines in the scatterplot: one for the super host listings and one for the non-super host listings."
   ]
  },
  {
   "cell_type": "code",
   "execution_count": 49,
   "metadata": {},
   "outputs": [
    {
     "data": {
      "image/png": "[encoded data removed]",
      "text/plain": [
       "<Figure size 466.05x360 with 1 Axes>"
      ]
     },
     "metadata": {},
     "output_type": "display_data"
    }
   ],
   "source": [
    "sns.lmplot(x='accommodates', y='price', hue='host_is_superhost', data=df)\n",
    "plt.show()"
   ]
  },
  {
   "cell_type": "markdown",
   "metadata": {},
   "source": [
    "## 3. <u>Case Study</u>: Is there an association between property type and the price of the listing?\n",
    "\n",
    "### 3.1. First, we would like to determine if there is an association between property type and the price of the listing *in the sample data*.\n",
    "\n",
    "#### 3.1.1. How many listings of each property type are there?"
   ]
  },
  {
   "cell_type": "code",
   "execution_count": 50,
   "metadata": {},
   "outputs": [
    {
     "data": {
      "text/plain": [
       "Apartment    198\n",
       "House        145\n",
       "Name: property_type, dtype: int64"
      ]
     },
     "execution_count": 50,
     "metadata": {},
     "output_type": "execute_result"
    }
   ],
   "source": [
    "df['property_type'].value_counts()"
   ]
  },
  {
   "cell_type": "code",
   "execution_count": 51,
   "metadata": {},
   "outputs": [
    {
     "name": "stdout",
     "output_type": "stream",
     "text": [
      "Number of Apartments:  198\n"
     ]
    }
   ],
   "source": [
    "print('Number of Apartments: ', 198)"
   ]
  },
  {
   "cell_type": "code",
   "execution_count": 52,
   "metadata": {},
   "outputs": [
    {
     "name": "stdout",
     "output_type": "stream",
     "text": [
      "Number of Houses:  145\n"
     ]
    }
   ],
   "source": [
    "print('Number of Houses: ', 145)"
   ]
  },
  {
   "cell_type": "markdown",
   "metadata": {},
   "source": [
    "#### 3.1.2. Calculate the average price of each type of property listing."
   ]
  },
  {
   "cell_type": "code",
   "execution_count": 54,
   "metadata": {},
   "outputs": [
    {
     "data": {
      "text/plain": [
       "142.5103448275862"
      ]
     },
     "execution_count": 54,
     "metadata": {},
     "output_type": "execute_result"
    }
   ],
   "source": [
    "df_house = df[df['property_type'] == 'House']\n",
    "df_house['price'].mean()"
   ]
  },
  {
   "cell_type": "code",
   "execution_count": 55,
   "metadata": {},
   "outputs": [
    {
     "data": {
      "text/plain": [
       "125.87878787878788"
      ]
     },
     "execution_count": 55,
     "metadata": {},
     "output_type": "execute_result"
    }
   ],
   "source": [
    "df_aptmnt = df[df['property_type'] == 'Apartment']\n",
    "df_aptmnt['price'].mean()"
   ]
  },
  {
   "cell_type": "code",
   "execution_count": 56,
   "metadata": {},
   "outputs": [
    {
     "name": "stdout",
     "output_type": "stream",
     "text": [
      "Mean Price of Houses:  142.5103448275862 \n",
      " Mean Price of Apartments:  125.87878787878788\n"
     ]
    }
   ],
   "source": [
    "print('Mean Price of Houses: ', df_house['price'].mean(), '\\n', 'Mean Price of Apartments: ', df_aptmnt['price'].mean())"
   ]
  },
  {
   "cell_type": "markdown",
   "metadata": {},
   "source": [
    "### 3.2. Next we would like to determine if there association between property type and the price of the listing *for all Seattle Airbnb listings in 2016*.\n",
    "\n",
    "More specifically, we would like to formally test if there is an difference between the average price of all **house** Airbnb listings in Seattle in 2016 and the average price of all **apartment** Airbnb listings in Seattle in 2016."
   ]
  },
  {
   "cell_type": "markdown",
   "metadata": {},
   "source": [
    "#### 3.2.1. First, set up the your hypotheses for this test."
   ]
  },
  {
   "cell_type": "markdown",
   "metadata": {},
   "source": [
    "Ho: Mu(price of house) - Mu(price of apartment) = 0\n",
    "\n",
    "Ha: Mu(price of house) - Mu(price of apartment) != 0"
   ]
  },
  {
   "cell_type": "markdown",
   "metadata": {},
   "source": [
    "#### 3.2.2. Then, check the conditions for conducting this hypotheses test."
   ]
  },
  {
   "cell_type": "markdown",
   "metadata": {},
   "source": [
    "The sample of prices of houses is random and n(price of house) = 145 < 10% of all houses listed in Seattle Airbnb listings in 2016\n",
    "\n",
    "\n",
    "The sample of prices of apartments is random and n(price of apartments) = 198 < 10% of all houses listed in Seattle Airbnb listings in 2016\n",
    "\n",
    "n(price of house) = 145 > 30, so CLT is met.\n",
    "\n",
    "n(price of apartments) = 198 > 30, so CLT is met again.\n",
    "\n",
    "There is no relationship between the prices of houses and price of apartments in the samples."
   ]
  },
  {
   "cell_type": "markdown",
   "metadata": {},
   "source": [
    "#### 3.2.3. Next, calculate a 90% confidence interval for the difference between the average price of all *house* Airbnb listings in Seattle in 2016 and the the average price of all *apartment* Airbnb listings in Seattle in 2016."
   ]
  },
  {
   "cell_type": "code",
   "execution_count": 59,
   "metadata": {},
   "outputs": [
    {
     "name": "stdout",
     "output_type": "stream",
     "text": [
      "16.631556948798334\n"
     ]
    }
   ],
   "source": [
    "point_estimate = df_house['price'].mean() - df_aptmnt['price'].mean()\n",
    "print(point_estimate)"
   ]
  },
  {
   "cell_type": "code",
   "execution_count": 60,
   "metadata": {},
   "outputs": [
    {
     "name": "stdout",
     "output_type": "stream",
     "text": [
      "10.093835736080218\n"
     ]
    }
   ],
   "source": [
    "standard_error = np.sqrt((df_house['price'].std() ** 2)/198 + (df_aptmnt['price'].std() ** 2)/145)\n",
    "print(standard_error)"
   ]
  },
  {
   "cell_type": "code",
   "execution_count": 61,
   "metadata": {},
   "outputs": [
    {
     "name": "stdout",
     "output_type": "stream",
     "text": [
      "1.6555041770844041\n"
     ]
    }
   ],
   "source": [
    "critical_value=t.ppf(0.95, df=144)\n",
    "print(critical_value)"
   ]
  },
  {
   "cell_type": "code",
   "execution_count": 63,
   "metadata": {},
   "outputs": [
    {
     "name": "stdout",
     "output_type": "stream",
     "text": [
      "-0.07883027508629681\n"
     ]
    }
   ],
   "source": [
    "lower_bound=point_estimate-critical_value*standard_error\n",
    "print(lower_bound)"
   ]
  },
  {
   "cell_type": "code",
   "execution_count": 64,
   "metadata": {},
   "outputs": [
    {
     "name": "stdout",
     "output_type": "stream",
     "text": [
      "33.341944172682965\n"
     ]
    }
   ],
   "source": [
    "upper_bound=point_estimate+critical_value*standard_error\n",
    "print(upper_bound)"
   ]
  },
  {
   "cell_type": "code",
   "execution_count": 65,
   "metadata": {},
   "outputs": [
    {
     "name": "stdout",
     "output_type": "stream",
     "text": [
      "90% confidence interval:  -0.07883027508629681 33.341944172682965\n"
     ]
    }
   ],
   "source": [
    "print('90% confidence interval: ', lower_bound, upper_bound)"
   ]
  },
  {
   "cell_type": "markdown",
   "metadata": {},
   "source": [
    "#### 3.2.4. Use this confidence interval to make a conclusion about your hypotheses."
   ]
  },
  {
   "cell_type": "markdown",
   "metadata": {},
   "source": [
    "Because the null value (0) is in the confidence interbal, we fail to reject the null hypothesis. Thus, there is not sufficient evidence to suggest that Mu(price of house) - Mu(price of apartment) != 0."
   ]
  },
  {
   "cell_type": "markdown",
   "metadata": {},
   "source": [
    "#### 3.2.5. Next, calculate the test statistic and p-value for this hypothesis test."
   ]
  },
  {
   "cell_type": "code",
   "execution_count": 67,
   "metadata": {},
   "outputs": [
    {
     "name": "stdout",
     "output_type": "stream",
     "text": [
      "1.6476944328853262\n"
     ]
    }
   ],
   "source": [
    "test_stat=(point_estimate-0)/standard_error\n",
    "print(test_stat)"
   ]
  },
  {
   "cell_type": "code",
   "execution_count": 68,
   "metadata": {},
   "outputs": [
    {
     "name": "stdout",
     "output_type": "stream",
     "text": [
      "0.1015957331552102\n"
     ]
    }
   ],
   "source": [
    "pvalue=2*(1-t.cdf(np.abs(test_stat), df=144))\n",
    "print(pvalue)"
   ]
  },
  {
   "cell_type": "markdown",
   "metadata": {},
   "source": [
    "#### 3.2.6. Finally, use your p-value to make a conclusion about your hypotheses, using a significance level of $\\alpha=0.10$."
   ]
  },
  {
   "cell_type": "markdown",
   "metadata": {},
   "source": [
    "Because the p-value = 0.1016 >= alpha = 0.10, we fail to reject the null hypothesis. Thus, there is not sufficent evidence to suggest that Mu(price of house) - Mu(price of apartment) != 0."
   ]
  },
  {
   "cell_type": "markdown",
   "metadata": {},
   "source": [
    "## 4 <u>Case Study</u>: What explanatory variables predict listing price in all Seattle Airbnb listings in 2016.\n",
    "\n",
    "Next, we would like to model a linear regression model that predicts the listing price given the following explanatory variables:\n",
    "* <u>review_scores_rating</u>: the average rating of the listing [0,100] (100 is the best)\n",
    "* <u>number_of_reviews</u>: the number of reviews for the listing\n",
    "* <u>security_deposit</u>: the security deposit required for the listing (in US dollars)\n",
    "* <u>cleaning_fee</u>: the cleaning fee required for the listing (in US dollars)\n",
    "* <u>neighborhood</u>: the neighborhood of Seattle the listing is located in\n",
    "* <u>property_type</u>: is the listing in a house or apartment\n",
    "* <u>room_type</u>: is the listing a Private room or the Entire home\n",
    "* <u>accommodates</u>: how many guests will the listing accommodate\n",
    "* <u>bathrooms</u>:how many bathrooms does the listing have\n",
    "* <u>bedrooms</u>: how many bedrooms does the listing have\n",
    "* <u>beds</u>: how many beds does the listing have\n",
    "\n",
    "### 4.1. Fit this linear regression model below and display the summary output table."
   ]
  },
  {
   "cell_type": "code",
   "execution_count": 69,
   "metadata": {},
   "outputs": [
    {
     "data": {
      "text/html": [
       "<table class=\"simpletable\">\n",
       "<caption>OLS Regression Results</caption>\n",
       "<tr>\n",
       "  <th>Dep. Variable:</th>          <td>price</td>      <th>  R-squared:         </th> <td>   0.563</td>\n",
       "</tr>\n",
       "<tr>\n",
       "  <th>Model:</th>                   <td>OLS</td>       <th>  Adj. R-squared:    </th> <td>   0.543</td>\n",
       "</tr>\n",
       "<tr>\n",
       "  <th>Method:</th>             <td>Least Squares</td>  <th>  F-statistic:       </th> <td>   28.11</td>\n",
       "</tr>\n",
       "<tr>\n",
       "  <th>Date:</th>             <td>Fri, 07 May 2021</td> <th>  Prob (F-statistic):</th> <td>5.78e-50</td>\n",
       "</tr>\n",
       "<tr>\n",
       "  <th>Time:</th>                 <td>13:03:28</td>     <th>  Log-Likelihood:    </th> <td> -1897.2</td>\n",
       "</tr>\n",
       "<tr>\n",
       "  <th>No. Observations:</th>      <td>   343</td>      <th>  AIC:               </th> <td>   3826.</td>\n",
       "</tr>\n",
       "<tr>\n",
       "  <th>Df Residuals:</th>          <td>   327</td>      <th>  BIC:               </th> <td>   3888.</td>\n",
       "</tr>\n",
       "<tr>\n",
       "  <th>Df Model:</th>              <td>    15</td>      <th>                     </th>     <td> </td>   \n",
       "</tr>\n",
       "<tr>\n",
       "  <th>Covariance Type:</th>      <td>nonrobust</td>    <th>                     </th>     <td> </td>   \n",
       "</tr>\n",
       "</table>\n",
       "<table class=\"simpletable\">\n",
       "<tr>\n",
       "               <td></td>                  <th>coef</th>     <th>std err</th>      <th>t</th>      <th>P>|t|</th>  <th>[0.025</th>    <th>0.975]</th>  \n",
       "</tr>\n",
       "<tr>\n",
       "  <th>Intercept</th>                   <td>   39.2647</td> <td>   46.885</td> <td>    0.837</td> <td> 0.403</td> <td>  -52.969</td> <td>  131.498</td>\n",
       "</tr>\n",
       "<tr>\n",
       "  <th>neighborhood[T.Broadway]</th>    <td>  -38.1932</td> <td>   10.660</td> <td>   -3.583</td> <td> 0.000</td> <td>  -59.163</td> <td>  -17.223</td>\n",
       "</tr>\n",
       "<tr>\n",
       "  <th>neighborhood[T.Fremont]</th>     <td>  -37.2339</td> <td>   13.762</td> <td>   -2.706</td> <td> 0.007</td> <td>  -64.306</td> <td>  -10.161</td>\n",
       "</tr>\n",
       "<tr>\n",
       "  <th>neighborhood[T.Minor]</th>       <td>  -57.1604</td> <td>   14.270</td> <td>   -4.006</td> <td> 0.000</td> <td>  -85.234</td> <td>  -29.087</td>\n",
       "</tr>\n",
       "<tr>\n",
       "  <th>neighborhood[T.Wallingford]</th> <td>  -55.1055</td> <td>   12.987</td> <td>   -4.243</td> <td> 0.000</td> <td>  -80.654</td> <td>  -29.557</td>\n",
       "</tr>\n",
       "<tr>\n",
       "  <th>property_type[T.House]</th>      <td>   15.6228</td> <td>   10.097</td> <td>    1.547</td> <td> 0.123</td> <td>   -4.240</td> <td>   35.485</td>\n",
       "</tr>\n",
       "<tr>\n",
       "  <th>room_type[T.Private room]</th>   <td>  -48.5816</td> <td>   12.123</td> <td>   -4.007</td> <td> 0.000</td> <td>  -72.430</td> <td>  -24.733</td>\n",
       "</tr>\n",
       "<tr>\n",
       "  <th>room_type[T.Shared room]</th>    <td>  -63.2052</td> <td>   16.730</td> <td>   -3.778</td> <td> 0.000</td> <td>  -96.117</td> <td>  -30.293</td>\n",
       "</tr>\n",
       "<tr>\n",
       "  <th>review_scores_rating</th>        <td>    0.3439</td> <td>    0.484</td> <td>    0.710</td> <td> 0.478</td> <td>   -0.609</td> <td>    1.297</td>\n",
       "</tr>\n",
       "<tr>\n",
       "  <th>number_of_reviews</th>           <td>   -0.0186</td> <td>    0.099</td> <td>   -0.188</td> <td> 0.851</td> <td>   -0.213</td> <td>    0.176</td>\n",
       "</tr>\n",
       "<tr>\n",
       "  <th>security_deposit</th>            <td>    0.0470</td> <td>    0.017</td> <td>    2.818</td> <td> 0.005</td> <td>    0.014</td> <td>    0.080</td>\n",
       "</tr>\n",
       "<tr>\n",
       "  <th>cleaning_fee</th>                <td>    0.0713</td> <td>    0.134</td> <td>    0.533</td> <td> 0.595</td> <td>   -0.192</td> <td>    0.334</td>\n",
       "</tr>\n",
       "<tr>\n",
       "  <th>accommodates</th>                <td>   10.6229</td> <td>    3.932</td> <td>    2.701</td> <td> 0.007</td> <td>    2.887</td> <td>   18.359</td>\n",
       "</tr>\n",
       "<tr>\n",
       "  <th>bathrooms</th>                   <td>   21.6537</td> <td>    8.804</td> <td>    2.460</td> <td> 0.014</td> <td>    4.335</td> <td>   38.973</td>\n",
       "</tr>\n",
       "<tr>\n",
       "  <th>bedrooms</th>                    <td>   35.6395</td> <td>    7.141</td> <td>    4.991</td> <td> 0.000</td> <td>   21.592</td> <td>   49.687</td>\n",
       "</tr>\n",
       "<tr>\n",
       "  <th>beds</th>                        <td>  -10.7007</td> <td>    5.830</td> <td>   -1.835</td> <td> 0.067</td> <td>  -22.171</td> <td>    0.769</td>\n",
       "</tr>\n",
       "</table>\n",
       "<table class=\"simpletable\">\n",
       "<tr>\n",
       "  <th>Omnibus:</th>       <td>520.301</td> <th>  Durbin-Watson:     </th>  <td>   1.968</td> \n",
       "</tr>\n",
       "<tr>\n",
       "  <th>Prob(Omnibus):</th> <td> 0.000</td>  <th>  Jarque-Bera (JB):  </th> <td>140650.178</td>\n",
       "</tr>\n",
       "<tr>\n",
       "  <th>Skew:</th>          <td> 7.676</td>  <th>  Prob(JB):          </th>  <td>    0.00</td> \n",
       "</tr>\n",
       "<tr>\n",
       "  <th>Kurtosis:</th>      <td>101.009</td> <th>  Cond. No.          </th>  <td>5.49e+03</td> \n",
       "</tr>\n",
       "</table><br/><br/>Notes:<br/>[1] Standard Errors assume that the covariance matrix of the errors is correctly specified.<br/>[2] The condition number is large, 5.49e+03. This might indicate that there are<br/>strong multicollinearity or other numerical problems."
      ],
      "text/plain": [
       "<class 'statsmodels.iolib.summary.Summary'>\n",
       "\"\"\"\n",
       "                            OLS Regression Results                            \n",
       "==============================================================================\n",
       "Dep. Variable:                  price   R-squared:                       0.563\n",
       "Model:                            OLS   Adj. R-squared:                  0.543\n",
       "Method:                 Least Squares   F-statistic:                     28.11\n",
       "Date:                Fri, 07 May 2021   Prob (F-statistic):           5.78e-50\n",
       "Time:                        13:03:28   Log-Likelihood:                -1897.2\n",
       "No. Observations:                 343   AIC:                             3826.\n",
       "Df Residuals:                     327   BIC:                             3888.\n",
       "Df Model:                          15                                         \n",
       "Covariance Type:            nonrobust                                         \n",
       "===============================================================================================\n",
       "                                  coef    std err          t      P>|t|      [0.025      0.975]\n",
       "-----------------------------------------------------------------------------------------------\n",
       "Intercept                      39.2647     46.885      0.837      0.403     -52.969     131.498\n",
       "neighborhood[T.Broadway]      -38.1932     10.660     -3.583      0.000     -59.163     -17.223\n",
       "neighborhood[T.Fremont]       -37.2339     13.762     -2.706      0.007     -64.306     -10.161\n",
       "neighborhood[T.Minor]         -57.1604     14.270     -4.006      0.000     -85.234     -29.087\n",
       "neighborhood[T.Wallingford]   -55.1055     12.987     -4.243      0.000     -80.654     -29.557\n",
       "property_type[T.House]         15.6228     10.097      1.547      0.123      -4.240      35.485\n",
       "room_type[T.Private room]     -48.5816     12.123     -4.007      0.000     -72.430     -24.733\n",
       "room_type[T.Shared room]      -63.2052     16.730     -3.778      0.000     -96.117     -30.293\n",
       "review_scores_rating            0.3439      0.484      0.710      0.478      -0.609       1.297\n",
       "number_of_reviews              -0.0186      0.099     -0.188      0.851      -0.213       0.176\n",
       "security_deposit                0.0470      0.017      2.818      0.005       0.014       0.080\n",
       "cleaning_fee                    0.0713      0.134      0.533      0.595      -0.192       0.334\n",
       "accommodates                   10.6229      3.932      2.701      0.007       2.887      18.359\n",
       "bathrooms                      21.6537      8.804      2.460      0.014       4.335      38.973\n",
       "bedrooms                       35.6395      7.141      4.991      0.000      21.592      49.687\n",
       "beds                          -10.7007      5.830     -1.835      0.067     -22.171       0.769\n",
       "==============================================================================\n",
       "Omnibus:                      520.301   Durbin-Watson:                   1.968\n",
       "Prob(Omnibus):                  0.000   Jarque-Bera (JB):           140650.178\n",
       "Skew:                           7.676   Prob(JB):                         0.00\n",
       "Kurtosis:                     101.009   Cond. No.                     5.49e+03\n",
       "==============================================================================\n",
       "\n",
       "Notes:\n",
       "[1] Standard Errors assume that the covariance matrix of the errors is correctly specified.\n",
       "[2] The condition number is large, 5.49e+03. This might indicate that there are\n",
       "strong multicollinearity or other numerical problems.\n",
       "\"\"\""
      ]
     },
     "execution_count": 69,
     "metadata": {},
     "output_type": "execute_result"
    }
   ],
   "source": [
    "results = smf.ols('price~review_scores_rating+number_of_reviews+security_deposit+cleaning_fee+neighborhood+property_type+room_type+accommodates+bathrooms+bedrooms+beds', data=df).fit()\n",
    "results.summary()"
   ]
  },
  {
   "cell_type": "markdown",
   "metadata": {},
   "source": [
    "### 4.2. What percent of Airbnb listing price variability is explained by this model?"
   ]
  },
  {
   "cell_type": "code",
   "execution_count": 70,
   "metadata": {},
   "outputs": [
    {
     "data": {
      "text/plain": [
       "0.5631761688364993"
      ]
     },
     "execution_count": 70,
     "metadata": {},
     "output_type": "execute_result"
    }
   ],
   "source": [
    "results.rsquared"
   ]
  },
  {
   "cell_type": "markdown",
   "metadata": {},
   "source": [
    "R^2 = 56.3%"
   ]
  },
  {
   "cell_type": "markdown",
   "metadata": {},
   "source": [
    "### 4.3. Suppose you were planning on charging \\$100 a night for your Airbnb Seattle listing that:\n",
    "* is in the Broadway neighborhood\n",
    "* is in a **private room** in your **apartment**\n",
    "* you have a review score rating of 0 and 0 reviews so far on your listing\n",
    "* you will require a \\$0 security deposit\n",
    "* you will have a \\$0 cleaning fee\n",
    "* the listing will accommodate 2 people\n",
    "* the listing has 1 bathroom, 1 bedroom, and 1 bed.\n",
    "\n",
    "### By how much will you be charging for this listing above or below the predicted price?"
   ]
  },
  {
   "cell_type": "code",
   "execution_count": 76,
   "metadata": {},
   "outputs": [
    {
     "name": "stdout",
     "output_type": "stream",
     "text": [
      "$ 20.328199999999995\n"
     ]
    }
   ],
   "source": [
    "prediction = (39.2647 - 38.1932 + -48.5816 + (2*10.6229) + 21.6537 + 35.6395 - 10.7007)\n",
    "print('$', prediction)"
   ]
  },
  {
   "cell_type": "code",
   "execution_count": 77,
   "metadata": {},
   "outputs": [
    {
     "name": "stdout",
     "output_type": "stream",
     "text": [
      "We would be charging  79.6718 more than the predicted price\n"
     ]
    }
   ],
   "source": [
    "print('We would be charging ', 100-prediction, 'more than the predicted price' )"
   ]
  },
  {
   "cell_type": "markdown",
   "metadata": {},
   "source": [
    "### 4.4. Using a significance level of $\\alpha=0.05$, which explanatory variable population slopes do we *not* have sufficient evidence to suggest are non-zero in the corresponding population model? Explain."
   ]
  },
  {
   "cell_type": "markdown",
   "metadata": {},
   "source": [
    "Any of the slopes with a P value greater than or equal to 0.05 are slopes that we do not have sufficient vidence to suggest are non-zero. The following are slopes with P values greater than 0.05: property_type, review_scores_rating, number_of_reviews, cleaning_fee, beds"
   ]
  },
  {
   "cell_type": "markdown",
   "metadata": {},
   "source": [
    "### 4.5. Next, we would like to conduct a *single* hypotheses test that tests whether at least one of these population slopes (that you picked out in 4.4.) is non-zero.\n",
    "\n",
    "#### 4.5.1. Set up the hypotheses for this test. Make sure you label any population parameters you define."
   ]
  },
  {
   "cell_type": "markdown",
   "metadata": {},
   "source": [
    "Ho: Slope(property_type) = Slope(review_scores_rating) = Slope(number_of_reviews) = Slope(cleaning_fee) = Slope(beds) = 0;\n",
    "Ha: At least one of the slopes above does not equal zero."
   ]
  },
  {
   "cell_type": "markdown",
   "metadata": {},
   "source": [
    "#### 4.5.2. Calculate the test statistic and the p-value for this hypothesis test."
   ]
  },
  {
   "cell_type": "code",
   "execution_count": 78,
   "metadata": {},
   "outputs": [],
   "source": [
    "mod_full=smf.ols('price~review_scores_rating+number_of_reviews+security_deposit+cleaning_fee+neighborhood+property_type+room_type+accommodates+bathrooms+bedrooms+beds', data=df).fit()\n",
    "\n",
    "mod_red=smf.ols('price~security_deposit+neighborhood+room_type+accommodates+bathrooms+bedrooms', data=df).fit()"
   ]
  },
  {
   "cell_type": "code",
   "execution_count": 80,
   "metadata": {},
   "outputs": [
    {
     "data": {
      "text/html": [
       "<div>\n",
       "<style scoped>\n",
       "    .dataframe tbody tr th:only-of-type {\n",
       "        vertical-align: middle;\n",
       "    }\n",
       "\n",
       "    .dataframe tbody tr th {\n",
       "        vertical-align: top;\n",
       "    }\n",
       "\n",
       "    .dataframe thead th {\n",
       "        text-align: right;\n",
       "    }\n",
       "</style>\n",
       "<table border=\"1\" class=\"dataframe\">\n",
       "  <thead>\n",
       "    <tr style=\"text-align: right;\">\n",
       "      <th></th>\n",
       "      <th>f</th>\n",
       "      <th>p_value</th>\n",
       "      <th>df_diff</th>\n",
       "    </tr>\n",
       "  </thead>\n",
       "  <tbody>\n",
       "    <tr>\n",
       "      <th>0</th>\n",
       "      <td>1.306003</td>\n",
       "      <td>0.260967</td>\n",
       "      <td>5.0</td>\n",
       "    </tr>\n",
       "  </tbody>\n",
       "</table>\n",
       "</div>"
      ],
      "text/plain": [
       "          f   p_value  df_diff\n",
       "0  1.306003  0.260967      5.0"
      ]
     },
     "execution_count": 80,
     "metadata": {},
     "output_type": "execute_result"
    }
   ],
   "source": [
    "test_stat, pvalue, df_diff = mod_full.compare_f_test(mod_red)\n",
    "pd.DataFrame({'f': [test_stat], 'p_value': [pvalue], 'df_diff': [df_diff]})"
   ]
  },
  {
   "cell_type": "markdown",
   "metadata": {},
   "source": [
    "#### 4.5.3. Make a conclusion about your hypotheses using a significance level of $\\alpha=0.05$."
   ]
  },
  {
   "cell_type": "markdown",
   "metadata": {},
   "source": [
    "Because the p-value = 0.261 >= alpha = 0.05. We fail to reject the null hypothesis. Thus, there is not sufficient evidence to suggest that the population slopes that correspond to the values in the null hypothesis are non-zero in the population model. "
   ]
  },
  {
   "cell_type": "markdown",
   "metadata": {},
   "source": [
    "### 4.6. All else held equal *in the full model*, how much higher (or lower) would we expect the average price of a 'Shared Room' listing to be than an 'Entire home/apt' listing?"
   ]
  },
  {
   "cell_type": "markdown",
   "metadata": {},
   "source": [
    "We would expect the average price of a Shared room to be $63.2052 lower than an Entire Home/apt."
   ]
  },
  {
   "cell_type": "markdown",
   "metadata": {},
   "source": [
    "### 4.7. Create a 99% confidence interval for the population beds slope in the *full model*."
   ]
  },
  {
   "cell_type": "code",
   "execution_count": 82,
   "metadata": {},
   "outputs": [],
   "source": [
    "point_estimate = -10.7007\n",
    "standard_error = 5.83"
   ]
  },
  {
   "cell_type": "code",
   "execution_count": 83,
   "metadata": {},
   "outputs": [],
   "source": [
    "critical_value=norm.ppf(.995)"
   ]
  },
  {
   "cell_type": "code",
   "execution_count": 84,
   "metadata": {},
   "outputs": [
    {
     "name": "stdout",
     "output_type": "stream",
     "text": [
      "-25.71778483969009 4.316384839690089\n"
     ]
    }
   ],
   "source": [
    "lower_bound=point_estimate-critical_value*standard_error\n",
    "upper_bound=point_estimate+critical_value*standard_error\n",
    "print(lower_bound,upper_bound)"
   ]
  },
  {
   "cell_type": "markdown",
   "metadata": {},
   "source": [
    "## 5. <u>Case Study</u>: Predicting Super Host Status for New Users\n",
    "\n",
    "Finally, we would like to build a classifier model that will be effective at classifying whether the host of a listing is a superhost or not *for new data* using (some) of the following explanatory variables:\n",
    "* <u>price</u>: price of the listing (per night)(in US dollars)\n",
    "* <u>review_scores_rating</u>: the average rating of the listing [0,100] (100 is the best)\n",
    "* <u>number_of_reviews</u>: the number of reviews for the listing"
   ]
  },
  {
   "cell_type": "markdown",
   "metadata": {},
   "source": [
    "### 5.1. First, create a new variable in your dataframe that assigns a 1 to all listings hosted by superhosts and a 0 to all listings hosted by non-superhosts."
   ]
  },
  {
   "cell_type": "code",
   "execution_count": 85,
   "metadata": {},
   "outputs": [
    {
     "data": {
      "text/html": [
       "<div>\n",
       "<style scoped>\n",
       "    .dataframe tbody tr th:only-of-type {\n",
       "        vertical-align: middle;\n",
       "    }\n",
       "\n",
       "    .dataframe tbody tr th {\n",
       "        vertical-align: top;\n",
       "    }\n",
       "\n",
       "    .dataframe thead th {\n",
       "        text-align: right;\n",
       "    }\n",
       "</style>\n",
       "<table border=\"1\" class=\"dataframe\">\n",
       "  <thead>\n",
       "    <tr style=\"text-align: right;\">\n",
       "      <th></th>\n",
       "      <th>price</th>\n",
       "      <th>review_scores_rating</th>\n",
       "      <th>number_of_reviews</th>\n",
       "      <th>security_deposit</th>\n",
       "      <th>cleaning_fee</th>\n",
       "      <th>neighborhood</th>\n",
       "      <th>property_type</th>\n",
       "      <th>room_type</th>\n",
       "      <th>accommodates</th>\n",
       "      <th>bathrooms</th>\n",
       "      <th>bedrooms</th>\n",
       "      <th>beds</th>\n",
       "      <th>host_response_time</th>\n",
       "      <th>host_response_rate</th>\n",
       "      <th>host_acceptance_rate</th>\n",
       "      <th>host_is_superhost</th>\n",
       "      <th>host_has_profile_pic</th>\n",
       "      <th>host_identity_verified</th>\n",
       "      <th>y</th>\n",
       "    </tr>\n",
       "  </thead>\n",
       "  <tbody>\n",
       "    <tr>\n",
       "      <th>0</th>\n",
       "      <td>300</td>\n",
       "      <td>100.0</td>\n",
       "      <td>24</td>\n",
       "      <td>500.0</td>\n",
       "      <td>95.0</td>\n",
       "      <td>Wallingford</td>\n",
       "      <td>House</td>\n",
       "      <td>Entire home/apt</td>\n",
       "      <td>5</td>\n",
       "      <td>1.5</td>\n",
       "      <td>3.0</td>\n",
       "      <td>3</td>\n",
       "      <td>within a few hours</td>\n",
       "      <td>1.0</td>\n",
       "      <td>1.0</td>\n",
       "      <td>t</td>\n",
       "      <td>t</td>\n",
       "      <td>t</td>\n",
       "      <td>1</td>\n",
       "    </tr>\n",
       "    <tr>\n",
       "      <th>2</th>\n",
       "      <td>149</td>\n",
       "      <td>96.0</td>\n",
       "      <td>11</td>\n",
       "      <td>300.0</td>\n",
       "      <td>105.0</td>\n",
       "      <td>Wallingford</td>\n",
       "      <td>Apartment</td>\n",
       "      <td>Entire home/apt</td>\n",
       "      <td>6</td>\n",
       "      <td>1.0</td>\n",
       "      <td>2.0</td>\n",
       "      <td>3</td>\n",
       "      <td>within an hour</td>\n",
       "      <td>1.0</td>\n",
       "      <td>1.0</td>\n",
       "      <td>f</td>\n",
       "      <td>t</td>\n",
       "      <td>t</td>\n",
       "      <td>0</td>\n",
       "    </tr>\n",
       "    <tr>\n",
       "      <th>3</th>\n",
       "      <td>95</td>\n",
       "      <td>95.0</td>\n",
       "      <td>79</td>\n",
       "      <td>150.0</td>\n",
       "      <td>40.0</td>\n",
       "      <td>Wallingford</td>\n",
       "      <td>Apartment</td>\n",
       "      <td>Entire home/apt</td>\n",
       "      <td>3</td>\n",
       "      <td>1.0</td>\n",
       "      <td>1.0</td>\n",
       "      <td>2</td>\n",
       "      <td>within an hour</td>\n",
       "      <td>1.0</td>\n",
       "      <td>1.0</td>\n",
       "      <td>f</td>\n",
       "      <td>t</td>\n",
       "      <td>t</td>\n",
       "      <td>0</td>\n",
       "    </tr>\n",
       "    <tr>\n",
       "      <th>6</th>\n",
       "      <td>105</td>\n",
       "      <td>100.0</td>\n",
       "      <td>13</td>\n",
       "      <td>500.0</td>\n",
       "      <td>50.0</td>\n",
       "      <td>Wallingford</td>\n",
       "      <td>House</td>\n",
       "      <td>Private room</td>\n",
       "      <td>2</td>\n",
       "      <td>2.0</td>\n",
       "      <td>1.0</td>\n",
       "      <td>1</td>\n",
       "      <td>within a few hours</td>\n",
       "      <td>1.0</td>\n",
       "      <td>1.0</td>\n",
       "      <td>t</td>\n",
       "      <td>t</td>\n",
       "      <td>t</td>\n",
       "      <td>1</td>\n",
       "    </tr>\n",
       "    <tr>\n",
       "      <th>8</th>\n",
       "      <td>140</td>\n",
       "      <td>99.0</td>\n",
       "      <td>30</td>\n",
       "      <td>250.0</td>\n",
       "      <td>65.0</td>\n",
       "      <td>Wallingford</td>\n",
       "      <td>House</td>\n",
       "      <td>Entire home/apt</td>\n",
       "      <td>2</td>\n",
       "      <td>1.0</td>\n",
       "      <td>1.0</td>\n",
       "      <td>1</td>\n",
       "      <td>within an hour</td>\n",
       "      <td>1.0</td>\n",
       "      <td>1.0</td>\n",
       "      <td>t</td>\n",
       "      <td>t</td>\n",
       "      <td>t</td>\n",
       "      <td>1</td>\n",
       "    </tr>\n",
       "  </tbody>\n",
       "</table>\n",
       "</div>"
      ],
      "text/plain": [
       "   price  review_scores_rating  number_of_reviews  security_deposit  \\\n",
       "0    300                 100.0                 24             500.0   \n",
       "2    149                  96.0                 11             300.0   \n",
       "3     95                  95.0                 79             150.0   \n",
       "6    105                 100.0                 13             500.0   \n",
       "8    140                  99.0                 30             250.0   \n",
       "\n",
       "   cleaning_fee neighborhood property_type        room_type  accommodates  \\\n",
       "0          95.0  Wallingford         House  Entire home/apt             5   \n",
       "2         105.0  Wallingford     Apartment  Entire home/apt             6   \n",
       "3          40.0  Wallingford     Apartment  Entire home/apt             3   \n",
       "6          50.0  Wallingford         House     Private room             2   \n",
       "8          65.0  Wallingford         House  Entire home/apt             2   \n",
       "\n",
       "   bathrooms  bedrooms  beds  host_response_time  host_response_rate  \\\n",
       "0        1.5       3.0     3  within a few hours                 1.0   \n",
       "2        1.0       2.0     3      within an hour                 1.0   \n",
       "3        1.0       1.0     2      within an hour                 1.0   \n",
       "6        2.0       1.0     1  within a few hours                 1.0   \n",
       "8        1.0       1.0     1      within an hour                 1.0   \n",
       "\n",
       "   host_acceptance_rate host_is_superhost host_has_profile_pic  \\\n",
       "0                   1.0                 t                    t   \n",
       "2                   1.0                 f                    t   \n",
       "3                   1.0                 f                    t   \n",
       "6                   1.0                 t                    t   \n",
       "8                   1.0                 t                    t   \n",
       "\n",
       "  host_identity_verified  y  \n",
       "0                      t  1  \n",
       "2                      t  0  \n",
       "3                      t  0  \n",
       "6                      t  1  \n",
       "8                      t  1  "
      ]
     },
     "execution_count": 85,
     "metadata": {},
     "output_type": "execute_result"
    }
   ],
   "source": [
    "df['y']=df['host_is_superhost'].map({'t':1,'f':0})\n",
    "df.head()"
   ]
  },
  {
   "cell_type": "markdown",
   "metadata": {},
   "source": [
    "### 5.2. Next, from your dataframe, create a training dataset that is a random selection of 75% of the observations and a test dataset that is the remaining 25% of the observations. Use a random state of 100 to do this."
   ]
  },
  {
   "cell_type": "code",
   "execution_count": 86,
   "metadata": {},
   "outputs": [],
   "source": [
    "df_train, df_test = train_test_split(df, test_size=0.25, random_state=100)"
   ]
  },
  {
   "cell_type": "markdown",
   "metadata": {},
   "source": [
    "### 5.3. <u>Full Model</u> Train your logistic regression model with this training dataset and display the summary output table.\n",
    "\n",
    "We will call this model your \"full logistic regression model\" in this exam."
   ]
  },
  {
   "cell_type": "code",
   "execution_count": 87,
   "metadata": {},
   "outputs": [
    {
     "name": "stdout",
     "output_type": "stream",
     "text": [
      "Warning: Maximum number of iterations has been exceeded.\n",
      "         Current function value: 0.484753\n",
      "         Iterations: 35\n"
     ]
    },
    {
     "name": "stderr",
     "output_type": "stream",
     "text": [
      "C:\\Users\\MJHam\\miniconda3\\lib\\site-packages\\statsmodels\\base\\model.py:566: ConvergenceWarning: Maximum Likelihood optimization failed to converge. Check mle_retvals\n",
      "  warnings.warn(\"Maximum Likelihood optimization failed to \"\n"
     ]
    },
    {
     "data": {
      "text/html": [
       "<table class=\"simpletable\">\n",
       "<caption>Logit Regression Results</caption>\n",
       "<tr>\n",
       "  <th>Dep. Variable:</th>           <td>y</td>        <th>  No. Observations:  </th>  <td>   257</td>  \n",
       "</tr>\n",
       "<tr>\n",
       "  <th>Model:</th>                 <td>Logit</td>      <th>  Df Residuals:      </th>  <td>   241</td>  \n",
       "</tr>\n",
       "<tr>\n",
       "  <th>Method:</th>                 <td>MLE</td>       <th>  Df Model:          </th>  <td>    15</td>  \n",
       "</tr>\n",
       "<tr>\n",
       "  <th>Date:</th>            <td>Fri, 07 May 2021</td> <th>  Pseudo R-squ.:     </th>  <td>0.1971</td>  \n",
       "</tr>\n",
       "<tr>\n",
       "  <th>Time:</th>                <td>13:40:14</td>     <th>  Log-Likelihood:    </th> <td> -124.58</td> \n",
       "</tr>\n",
       "<tr>\n",
       "  <th>converged:</th>             <td>False</td>      <th>  LL-Null:           </th> <td> -155.17</td> \n",
       "</tr>\n",
       "<tr>\n",
       "  <th>Covariance Type:</th>     <td>nonrobust</td>    <th>  LLR p-value:       </th> <td>1.579e-07</td>\n",
       "</tr>\n",
       "</table>\n",
       "<table class=\"simpletable\">\n",
       "<tr>\n",
       "               <td></td>                  <th>coef</th>     <th>std err</th>      <th>z</th>      <th>P>|z|</th>  <th>[0.025</th>    <th>0.975]</th>  \n",
       "</tr>\n",
       "<tr>\n",
       "  <th>Intercept</th>                   <td>  -21.0350</td> <td>    5.389</td> <td>   -3.903</td> <td> 0.000</td> <td>  -31.597</td> <td>  -10.473</td>\n",
       "</tr>\n",
       "<tr>\n",
       "  <th>neighborhood[T.Broadway]</th>    <td>   -1.1689</td> <td>    0.475</td> <td>   -2.462</td> <td> 0.014</td> <td>   -2.099</td> <td>   -0.238</td>\n",
       "</tr>\n",
       "<tr>\n",
       "  <th>neighborhood[T.Fremont]</th>     <td>   -0.4503</td> <td>    0.594</td> <td>   -0.758</td> <td> 0.449</td> <td>   -1.615</td> <td>    0.715</td>\n",
       "</tr>\n",
       "<tr>\n",
       "  <th>neighborhood[T.Minor]</th>       <td>    0.0085</td> <td>    0.577</td> <td>    0.015</td> <td> 0.988</td> <td>   -1.121</td> <td>    1.139</td>\n",
       "</tr>\n",
       "<tr>\n",
       "  <th>neighborhood[T.Wallingford]</th> <td>   -0.0869</td> <td>    0.582</td> <td>   -0.149</td> <td> 0.881</td> <td>   -1.228</td> <td>    1.055</td>\n",
       "</tr>\n",
       "<tr>\n",
       "  <th>property_type[T.House]</th>      <td>   -0.1114</td> <td>    0.464</td> <td>   -0.240</td> <td> 0.810</td> <td>   -1.021</td> <td>    0.798</td>\n",
       "</tr>\n",
       "<tr>\n",
       "  <th>room_type[T.Private room]</th>   <td>   -0.0712</td> <td>    0.545</td> <td>   -0.131</td> <td> 0.896</td> <td>   -1.140</td> <td>    0.998</td>\n",
       "</tr>\n",
       "<tr>\n",
       "  <th>room_type[T.Shared room]</th>    <td>  -33.7679</td> <td> 9.41e+06</td> <td>-3.59e-06</td> <td> 1.000</td> <td>-1.84e+07</td> <td> 1.84e+07</td>\n",
       "</tr>\n",
       "<tr>\n",
       "  <th>review_scores_rating</th>        <td>    0.2134</td> <td>    0.055</td> <td>    3.863</td> <td> 0.000</td> <td>    0.105</td> <td>    0.322</td>\n",
       "</tr>\n",
       "<tr>\n",
       "  <th>number_of_reviews</th>           <td>    0.0129</td> <td>    0.005</td> <td>    2.818</td> <td> 0.005</td> <td>    0.004</td> <td>    0.022</td>\n",
       "</tr>\n",
       "<tr>\n",
       "  <th>security_deposit</th>            <td>    0.0012</td> <td>    0.001</td> <td>    1.284</td> <td> 0.199</td> <td>   -0.001</td> <td>    0.003</td>\n",
       "</tr>\n",
       "<tr>\n",
       "  <th>cleaning_fee</th>                <td>   -0.0026</td> <td>    0.006</td> <td>   -0.426</td> <td> 0.670</td> <td>   -0.015</td> <td>    0.009</td>\n",
       "</tr>\n",
       "<tr>\n",
       "  <th>accommodates</th>                <td>   -0.0152</td> <td>    0.174</td> <td>   -0.087</td> <td> 0.930</td> <td>   -0.356</td> <td>    0.326</td>\n",
       "</tr>\n",
       "<tr>\n",
       "  <th>bathrooms</th>                   <td>    0.1921</td> <td>    0.411</td> <td>    0.467</td> <td> 0.641</td> <td>   -0.614</td> <td>    0.999</td>\n",
       "</tr>\n",
       "<tr>\n",
       "  <th>bedrooms</th>                    <td>    0.2492</td> <td>    0.319</td> <td>    0.781</td> <td> 0.435</td> <td>   -0.376</td> <td>    0.875</td>\n",
       "</tr>\n",
       "<tr>\n",
       "  <th>beds</th>                        <td>   -0.4418</td> <td>    0.286</td> <td>   -1.545</td> <td> 0.122</td> <td>   -1.002</td> <td>    0.119</td>\n",
       "</tr>\n",
       "</table>"
      ],
      "text/plain": [
       "<class 'statsmodels.iolib.summary.Summary'>\n",
       "\"\"\"\n",
       "                           Logit Regression Results                           \n",
       "==============================================================================\n",
       "Dep. Variable:                      y   No. Observations:                  257\n",
       "Model:                          Logit   Df Residuals:                      241\n",
       "Method:                           MLE   Df Model:                           15\n",
       "Date:                Fri, 07 May 2021   Pseudo R-squ.:                  0.1971\n",
       "Time:                        13:40:14   Log-Likelihood:                -124.58\n",
       "converged:                      False   LL-Null:                       -155.17\n",
       "Covariance Type:            nonrobust   LLR p-value:                 1.579e-07\n",
       "===============================================================================================\n",
       "                                  coef    std err          z      P>|z|      [0.025      0.975]\n",
       "-----------------------------------------------------------------------------------------------\n",
       "Intercept                     -21.0350      5.389     -3.903      0.000     -31.597     -10.473\n",
       "neighborhood[T.Broadway]       -1.1689      0.475     -2.462      0.014      -2.099      -0.238\n",
       "neighborhood[T.Fremont]        -0.4503      0.594     -0.758      0.449      -1.615       0.715\n",
       "neighborhood[T.Minor]           0.0085      0.577      0.015      0.988      -1.121       1.139\n",
       "neighborhood[T.Wallingford]    -0.0869      0.582     -0.149      0.881      -1.228       1.055\n",
       "property_type[T.House]         -0.1114      0.464     -0.240      0.810      -1.021       0.798\n",
       "room_type[T.Private room]      -0.0712      0.545     -0.131      0.896      -1.140       0.998\n",
       "room_type[T.Shared room]      -33.7679   9.41e+06  -3.59e-06      1.000   -1.84e+07    1.84e+07\n",
       "review_scores_rating            0.2134      0.055      3.863      0.000       0.105       0.322\n",
       "number_of_reviews               0.0129      0.005      2.818      0.005       0.004       0.022\n",
       "security_deposit                0.0012      0.001      1.284      0.199      -0.001       0.003\n",
       "cleaning_fee                   -0.0026      0.006     -0.426      0.670      -0.015       0.009\n",
       "accommodates                   -0.0152      0.174     -0.087      0.930      -0.356       0.326\n",
       "bathrooms                       0.1921      0.411      0.467      0.641      -0.614       0.999\n",
       "bedrooms                        0.2492      0.319      0.781      0.435      -0.376       0.875\n",
       "beds                           -0.4418      0.286     -1.545      0.122      -1.002       0.119\n",
       "===============================================================================================\n",
       "\"\"\""
      ]
     },
     "execution_count": 87,
     "metadata": {},
     "output_type": "execute_result"
    }
   ],
   "source": [
    "mod_full=smf.logit('y~review_scores_rating+number_of_reviews+security_deposit+cleaning_fee+neighborhood+property_type+room_type+accommodates+bathrooms+bedrooms+beds', data=df_train).fit()\n",
    "mod_full.summary()"
   ]
  },
  {
   "cell_type": "markdown",
   "metadata": {},
   "source": [
    "### 5.4. <u>Finding a Reduced Model</u>: Then, starting with your full logistic regression model (from 5.3) perform a backwards elimination algorithm (using AIC). Print the summary output tables for your final model that you get from this algorithm when you are done.\n",
    "\n",
    "You can call this final model your \"reduced logistic regression model\" in this exam."
   ]
  },
  {
   "cell_type": "code",
   "execution_count": 88,
   "metadata": {},
   "outputs": [
    {
     "data": {
      "text/plain": [
       "281.16324104192614"
      ]
     },
     "execution_count": 88,
     "metadata": {},
     "output_type": "execute_result"
    }
   ],
   "source": [
    "mod_full.aic"
   ]
  },
  {
   "cell_type": "code",
   "execution_count": 91,
   "metadata": {},
   "outputs": [
    {
     "name": "stdout",
     "output_type": "stream",
     "text": [
      "Warning: Maximum number of iterations has been exceeded.\n",
      "         Current function value: 0.530356\n",
      "         Iterations: 35\n"
     ]
    },
    {
     "name": "stderr",
     "output_type": "stream",
     "text": [
      "C:\\Users\\MJHam\\miniconda3\\lib\\site-packages\\statsmodels\\base\\model.py:566: ConvergenceWarning: Maximum Likelihood optimization failed to converge. Check mle_retvals\n",
      "  warnings.warn(\"Maximum Likelihood optimization failed to \"\n"
     ]
    },
    {
     "data": {
      "text/plain": [
       "302.60276646950126"
      ]
     },
     "execution_count": 91,
     "metadata": {},
     "output_type": "execute_result"
    }
   ],
   "source": [
    "# Test model that deletes review_scores_rating from model\n",
    "test_mod=smf.logit('y~number_of_reviews+security_deposit+cleaning_fee+neighborhood+property_type+room_type+accommodates+bathrooms+bedrooms+beds', data=df_train).fit()\n",
    "test_mod.aic"
   ]
  },
  {
   "cell_type": "code",
   "execution_count": 90,
   "metadata": {},
   "outputs": [
    {
     "name": "stdout",
     "output_type": "stream",
     "text": [
      "Warning: Maximum number of iterations has been exceeded.\n",
      "         Current function value: 0.499958\n",
      "         Iterations: 35\n"
     ]
    },
    {
     "name": "stderr",
     "output_type": "stream",
     "text": [
      "C:\\Users\\MJHam\\miniconda3\\lib\\site-packages\\statsmodels\\base\\model.py:566: ConvergenceWarning: Maximum Likelihood optimization failed to converge. Check mle_retvals\n",
      "  warnings.warn(\"Maximum Likelihood optimization failed to \"\n"
     ]
    },
    {
     "data": {
      "text/plain": [
       "286.9786077348491"
      ]
     },
     "execution_count": 90,
     "metadata": {},
     "output_type": "execute_result"
    }
   ],
   "source": [
    "# Test model that deletes number_of_reviews from model\n",
    "test_mod=smf.logit('y~review_scores_rating+security_deposit+cleaning_fee+neighborhood+property_type+room_type+accommodates+bathrooms+bedrooms+beds', data=df_train).fit()\n",
    "test_mod.aic"
   ]
  },
  {
   "cell_type": "code",
   "execution_count": 93,
   "metadata": {},
   "outputs": [
    {
     "name": "stdout",
     "output_type": "stream",
     "text": [
      "Warning: Maximum number of iterations has been exceeded.\n",
      "         Current function value: 0.487658\n",
      "         Iterations: 35\n"
     ]
    },
    {
     "name": "stderr",
     "output_type": "stream",
     "text": [
      "C:\\Users\\MJHam\\miniconda3\\lib\\site-packages\\statsmodels\\base\\model.py:566: ConvergenceWarning: Maximum Likelihood optimization failed to converge. Check mle_retvals\n",
      "  warnings.warn(\"Maximum Likelihood optimization failed to \"\n"
     ]
    },
    {
     "data": {
      "text/plain": [
       "280.65604556742926"
      ]
     },
     "execution_count": 93,
     "metadata": {},
     "output_type": "execute_result"
    }
   ],
   "source": [
    "# Test model that deletes security_deposit from model\n",
    "test_mod=smf.logit('y~review_scores_rating+number_of_reviews+cleaning_fee+neighborhood+property_type+room_type+accommodates+bathrooms+bedrooms+beds', data=df_train).fit()\n",
    "test_mod.aic"
   ]
  },
  {
   "cell_type": "code",
   "execution_count": 94,
   "metadata": {},
   "outputs": [
    {
     "name": "stdout",
     "output_type": "stream",
     "text": [
      "Optimization terminated successfully.\n",
      "         Current function value: 0.485109\n",
      "         Iterations 29\n"
     ]
    },
    {
     "data": {
      "text/plain": [
       "279.34612799876834"
      ]
     },
     "execution_count": 94,
     "metadata": {},
     "output_type": "execute_result"
    }
   ],
   "source": [
    "# Test model that deletes cleaning_fee from model\n",
    "test_mod=smf.logit('y~review_scores_rating+number_of_reviews+security_deposit+neighborhood+property_type+room_type+accommodates+bathrooms+bedrooms+beds', data=df_train).fit()\n",
    "test_mod.aic"
   ]
  },
  {
   "cell_type": "code",
   "execution_count": 95,
   "metadata": {},
   "outputs": [
    {
     "name": "stdout",
     "output_type": "stream",
     "text": [
      "Warning: Maximum number of iterations has been exceeded.\n",
      "         Current function value: 0.503654\n",
      "         Iterations: 35\n"
     ]
    },
    {
     "name": "stderr",
     "output_type": "stream",
     "text": [
      "C:\\Users\\MJHam\\miniconda3\\lib\\site-packages\\statsmodels\\base\\model.py:566: ConvergenceWarning: Maximum Likelihood optimization failed to converge. Check mle_retvals\n",
      "  warnings.warn(\"Maximum Likelihood optimization failed to \"\n"
     ]
    },
    {
     "data": {
      "text/plain": [
       "282.8782165948695"
      ]
     },
     "execution_count": 95,
     "metadata": {},
     "output_type": "execute_result"
    }
   ],
   "source": [
    "# Test model that deletes neighborhood from model\n",
    "test_mod=smf.logit('y~review_scores_rating+number_of_reviews+security_deposit+cleaning_fee+property_type+room_type+accommodates+bathrooms+bedrooms+beds', data=df_train).fit()\n",
    "test_mod.aic"
   ]
  },
  {
   "cell_type": "code",
   "execution_count": 96,
   "metadata": {},
   "outputs": [
    {
     "name": "stdout",
     "output_type": "stream",
     "text": [
      "Warning: Maximum number of iterations has been exceeded.\n",
      "         Current function value: 0.484866\n",
      "         Iterations: 35\n"
     ]
    },
    {
     "name": "stderr",
     "output_type": "stream",
     "text": [
      "C:\\Users\\MJHam\\miniconda3\\lib\\site-packages\\statsmodels\\base\\model.py:566: ConvergenceWarning: Maximum Likelihood optimization failed to converge. Check mle_retvals\n",
      "  warnings.warn(\"Maximum Likelihood optimization failed to \"\n"
     ]
    },
    {
     "data": {
      "text/plain": [
       "279.22101603483316"
      ]
     },
     "execution_count": 96,
     "metadata": {},
     "output_type": "execute_result"
    }
   ],
   "source": [
    "# Test model that deletes property_type from model\n",
    "test_mod=smf.logit('y~review_scores_rating+number_of_reviews+security_deposit+cleaning_fee+neighborhood+room_type+accommodates+bathrooms+bedrooms+beds', data=df_train).fit()\n",
    "test_mod.aic"
   ]
  },
  {
   "cell_type": "code",
   "execution_count": 97,
   "metadata": {},
   "outputs": [
    {
     "name": "stdout",
     "output_type": "stream",
     "text": [
      "Optimization terminated successfully.\n",
      "         Current function value: 0.496949\n",
      "         Iterations 7\n"
     ]
    },
    {
     "data": {
      "text/plain": [
       "283.4317152899835"
      ]
     },
     "execution_count": 97,
     "metadata": {},
     "output_type": "execute_result"
    }
   ],
   "source": [
    "# Test model that deletes room_type from model\n",
    "test_mod=smf.logit('y~review_scores_rating+number_of_reviews+security_deposit+cleaning_fee+neighborhood+property_type+accommodates+bathrooms+bedrooms+beds', data=df_train).fit()\n",
    "test_mod.aic"
   ]
  },
  {
   "cell_type": "code",
   "execution_count": 98,
   "metadata": {},
   "outputs": [
    {
     "name": "stdout",
     "output_type": "stream",
     "text": [
      "Warning: Maximum number of iterations has been exceeded.\n",
      "         Current function value: 0.484768\n",
      "         Iterations: 35\n"
     ]
    },
    {
     "name": "stderr",
     "output_type": "stream",
     "text": [
      "C:\\Users\\MJHam\\miniconda3\\lib\\site-packages\\statsmodels\\base\\model.py:566: ConvergenceWarning: Maximum Likelihood optimization failed to converge. Check mle_retvals\n",
      "  warnings.warn(\"Maximum Likelihood optimization failed to \"\n"
     ]
    },
    {
     "data": {
      "text/plain": [
       "279.1708884679264"
      ]
     },
     "execution_count": 98,
     "metadata": {},
     "output_type": "execute_result"
    }
   ],
   "source": [
    "# Test model that deletes accommodates from model\n",
    "test_mod=smf.logit('y~review_scores_rating+number_of_reviews+security_deposit+cleaning_fee+neighborhood+property_type+room_type+bathrooms+bedrooms+beds', data=df_train).fit()\n",
    "test_mod.aic"
   ]
  },
  {
   "cell_type": "code",
   "execution_count": 99,
   "metadata": {},
   "outputs": [
    {
     "name": "stdout",
     "output_type": "stream",
     "text": [
      "Warning: Maximum number of iterations has been exceeded.\n",
      "         Current function value: 0.485181\n",
      "         Iterations: 35\n"
     ]
    },
    {
     "name": "stderr",
     "output_type": "stream",
     "text": [
      "C:\\Users\\MJHam\\miniconda3\\lib\\site-packages\\statsmodels\\base\\model.py:566: ConvergenceWarning: Maximum Likelihood optimization failed to converge. Check mle_retvals\n",
      "  warnings.warn(\"Maximum Likelihood optimization failed to \"\n"
     ]
    },
    {
     "data": {
      "text/plain": [
       "279.38289876438813"
      ]
     },
     "execution_count": 99,
     "metadata": {},
     "output_type": "execute_result"
    }
   ],
   "source": [
    "# Test model that deletes bathrooms from model\n",
    "test_mod=smf.logit('y~review_scores_rating+number_of_reviews+security_deposit+cleaning_fee+neighborhood+property_type+room_type+accommodates+bedrooms+beds', data=df_train).fit()\n",
    "test_mod.aic"
   ]
  },
  {
   "cell_type": "code",
   "execution_count": 100,
   "metadata": {},
   "outputs": [
    {
     "name": "stdout",
     "output_type": "stream",
     "text": [
      "Warning: Maximum number of iterations has been exceeded.\n",
      "         Current function value: 0.485954\n",
      "         Iterations: 35\n"
     ]
    },
    {
     "name": "stderr",
     "output_type": "stream",
     "text": [
      "C:\\Users\\MJHam\\miniconda3\\lib\\site-packages\\statsmodels\\base\\model.py:566: ConvergenceWarning: Maximum Likelihood optimization failed to converge. Check mle_retvals\n",
      "  warnings.warn(\"Maximum Likelihood optimization failed to \"\n"
     ]
    },
    {
     "data": {
      "text/plain": [
       "279.7803215539124"
      ]
     },
     "execution_count": 100,
     "metadata": {},
     "output_type": "execute_result"
    }
   ],
   "source": [
    "# Test model that deletes bedrooms from model\n",
    "test_mod=smf.logit('y~review_scores_rating+number_of_reviews+security_deposit+cleaning_fee+neighborhood+property_type+room_type+accommodates+bathrooms+beds', data=df_train).fit()\n",
    "test_mod.aic"
   ]
  },
  {
   "cell_type": "code",
   "execution_count": 101,
   "metadata": {},
   "outputs": [
    {
     "name": "stdout",
     "output_type": "stream",
     "text": [
      "Warning: Maximum number of iterations has been exceeded.\n",
      "         Current function value: 0.489698\n",
      "         Iterations: 35\n"
     ]
    },
    {
     "name": "stderr",
     "output_type": "stream",
     "text": [
      "C:\\Users\\MJHam\\miniconda3\\lib\\site-packages\\statsmodels\\base\\model.py:566: ConvergenceWarning: Maximum Likelihood optimization failed to converge. Check mle_retvals\n",
      "  warnings.warn(\"Maximum Likelihood optimization failed to \"\n"
     ]
    },
    {
     "data": {
      "text/plain": [
       "281.7049231514299"
      ]
     },
     "execution_count": 101,
     "metadata": {},
     "output_type": "execute_result"
    }
   ],
   "source": [
    "# Test model that deletes beds from model\n",
    "test_mod=smf.logit('y~review_scores_rating+number_of_reviews+security_deposit+cleaning_fee+neighborhood+property_type+room_type+accommodates+bathrooms+bedrooms', data=df_train).fit()\n",
    "test_mod.aic"
   ]
  },
  {
   "cell_type": "code",
   "execution_count": 102,
   "metadata": {},
   "outputs": [
    {
     "name": "stdout",
     "output_type": "stream",
     "text": [
      "Warning: Maximum number of iterations has been exceeded.\n",
      "         Current function value: 0.490306\n",
      "         Iterations: 35\n"
     ]
    },
    {
     "name": "stderr",
     "output_type": "stream",
     "text": [
      "C:\\Users\\MJHam\\miniconda3\\lib\\site-packages\\statsmodels\\base\\model.py:566: ConvergenceWarning: Maximum Likelihood optimization failed to converge. Check mle_retvals\n",
      "  warnings.warn(\"Maximum Likelihood optimization failed to \"\n"
     ]
    },
    {
     "data": {
      "text/html": [
       "<table class=\"simpletable\">\n",
       "<caption>Logit Regression Results</caption>\n",
       "<tr>\n",
       "  <th>Dep. Variable:</th>           <td>y</td>        <th>  No. Observations:  </th>  <td>   257</td>  \n",
       "</tr>\n",
       "<tr>\n",
       "  <th>Model:</th>                 <td>Logit</td>      <th>  Df Residuals:      </th>  <td>   247</td>  \n",
       "</tr>\n",
       "<tr>\n",
       "  <th>Method:</th>                 <td>MLE</td>       <th>  Df Model:          </th>  <td>     9</td>  \n",
       "</tr>\n",
       "<tr>\n",
       "  <th>Date:</th>            <td>Fri, 07 May 2021</td> <th>  Pseudo R-squ.:     </th>  <td>0.1879</td>  \n",
       "</tr>\n",
       "<tr>\n",
       "  <th>Time:</th>                <td>13:50:49</td>     <th>  Log-Likelihood:    </th> <td> -126.01</td> \n",
       "</tr>\n",
       "<tr>\n",
       "  <th>converged:</th>             <td>False</td>      <th>  LL-Null:           </th> <td> -155.17</td> \n",
       "</tr>\n",
       "<tr>\n",
       "  <th>Covariance Type:</th>     <td>nonrobust</td>    <th>  LLR p-value:       </th> <td>2.814e-09</td>\n",
       "</tr>\n",
       "</table>\n",
       "<table class=\"simpletable\">\n",
       "<tr>\n",
       "               <td></td>                  <th>coef</th>     <th>std err</th>      <th>z</th>      <th>P>|z|</th>  <th>[0.025</th>    <th>0.975]</th>  \n",
       "</tr>\n",
       "<tr>\n",
       "  <th>Intercept</th>                   <td>  -21.8613</td> <td>    5.353</td> <td>   -4.084</td> <td> 0.000</td> <td>  -32.353</td> <td>  -11.370</td>\n",
       "</tr>\n",
       "<tr>\n",
       "  <th>neighborhood[T.Broadway]</th>    <td>   -1.0244</td> <td>    0.452</td> <td>   -2.264</td> <td> 0.024</td> <td>   -1.911</td> <td>   -0.138</td>\n",
       "</tr>\n",
       "<tr>\n",
       "  <th>neighborhood[T.Fremont]</th>     <td>   -0.5298</td> <td>    0.548</td> <td>   -0.966</td> <td> 0.334</td> <td>   -1.604</td> <td>    0.545</td>\n",
       "</tr>\n",
       "<tr>\n",
       "  <th>neighborhood[T.Minor]</th>       <td>    0.1177</td> <td>    0.504</td> <td>    0.234</td> <td> 0.815</td> <td>   -0.869</td> <td>    1.105</td>\n",
       "</tr>\n",
       "<tr>\n",
       "  <th>neighborhood[T.Wallingford]</th> <td>   -0.1195</td> <td>    0.507</td> <td>   -0.236</td> <td> 0.814</td> <td>   -1.113</td> <td>    0.874</td>\n",
       "</tr>\n",
       "<tr>\n",
       "  <th>room_type[T.Private room]</th>   <td>   -0.0685</td> <td>    0.443</td> <td>   -0.155</td> <td> 0.877</td> <td>   -0.937</td> <td>    0.800</td>\n",
       "</tr>\n",
       "<tr>\n",
       "  <th>room_type[T.Shared room]</th>    <td>  -19.5320</td> <td> 8420.030</td> <td>   -0.002</td> <td> 0.998</td> <td>-1.65e+04</td> <td> 1.65e+04</td>\n",
       "</tr>\n",
       "<tr>\n",
       "  <th>review_scores_rating</th>        <td>    0.2235</td> <td>    0.055</td> <td>    4.092</td> <td> 0.000</td> <td>    0.116</td> <td>    0.331</td>\n",
       "</tr>\n",
       "<tr>\n",
       "  <th>number_of_reviews</th>           <td>    0.0128</td> <td>    0.005</td> <td>    2.841</td> <td> 0.004</td> <td>    0.004</td> <td>    0.022</td>\n",
       "</tr>\n",
       "<tr>\n",
       "  <th>beds</th>                        <td>   -0.2157</td> <td>    0.162</td> <td>   -1.335</td> <td> 0.182</td> <td>   -0.532</td> <td>    0.101</td>\n",
       "</tr>\n",
       "</table>"
      ],
      "text/plain": [
       "<class 'statsmodels.iolib.summary.Summary'>\n",
       "\"\"\"\n",
       "                           Logit Regression Results                           \n",
       "==============================================================================\n",
       "Dep. Variable:                      y   No. Observations:                  257\n",
       "Model:                          Logit   Df Residuals:                      247\n",
       "Method:                           MLE   Df Model:                            9\n",
       "Date:                Fri, 07 May 2021   Pseudo R-squ.:                  0.1879\n",
       "Time:                        13:50:49   Log-Likelihood:                -126.01\n",
       "converged:                      False   LL-Null:                       -155.17\n",
       "Covariance Type:            nonrobust   LLR p-value:                 2.814e-09\n",
       "===============================================================================================\n",
       "                                  coef    std err          z      P>|z|      [0.025      0.975]\n",
       "-----------------------------------------------------------------------------------------------\n",
       "Intercept                     -21.8613      5.353     -4.084      0.000     -32.353     -11.370\n",
       "neighborhood[T.Broadway]       -1.0244      0.452     -2.264      0.024      -1.911      -0.138\n",
       "neighborhood[T.Fremont]        -0.5298      0.548     -0.966      0.334      -1.604       0.545\n",
       "neighborhood[T.Minor]           0.1177      0.504      0.234      0.815      -0.869       1.105\n",
       "neighborhood[T.Wallingford]    -0.1195      0.507     -0.236      0.814      -1.113       0.874\n",
       "room_type[T.Private room]      -0.0685      0.443     -0.155      0.877      -0.937       0.800\n",
       "room_type[T.Shared room]      -19.5320   8420.030     -0.002      0.998   -1.65e+04    1.65e+04\n",
       "review_scores_rating            0.2235      0.055      4.092      0.000       0.116       0.331\n",
       "number_of_reviews               0.0128      0.005      2.841      0.004       0.004       0.022\n",
       "beds                           -0.2157      0.162     -1.335      0.182      -0.532       0.101\n",
       "===============================================================================================\n",
       "\"\"\""
      ]
     },
     "execution_count": 102,
     "metadata": {},
     "output_type": "execute_result"
    }
   ],
   "source": [
    "mod_red=smf.logit('y~review_scores_rating+number_of_reviews+neighborhood+room_type+beds', data=df_train).fit()\n",
    "mod_red.summary()"
   ]
  },
  {
   "cell_type": "code",
   "execution_count": 103,
   "metadata": {},
   "outputs": [
    {
     "data": {
      "text/plain": [
       "272.01725393163986"
      ]
     },
     "execution_count": 103,
     "metadata": {},
     "output_type": "execute_result"
    }
   ],
   "source": [
    "mod_red.aic"
   ]
  },
  {
   "cell_type": "markdown",
   "metadata": {},
   "source": [
    "### 5.5. Use the BIC score to determine whether the full model or the reduced model is more parsimonious."
   ]
  },
  {
   "cell_type": "code",
   "execution_count": 104,
   "metadata": {},
   "outputs": [
    {
     "data": {
      "text/plain": [
       "337.94845840024965"
      ]
     },
     "execution_count": 104,
     "metadata": {},
     "output_type": "execute_result"
    }
   ],
   "source": [
    "mod_full.bic"
   ]
  },
  {
   "cell_type": "code",
   "execution_count": 105,
   "metadata": {},
   "outputs": [
    {
     "data": {
      "text/plain": [
       "307.5080147805921"
      ]
     },
     "execution_count": 105,
     "metadata": {},
     "output_type": "execute_result"
    }
   ],
   "source": [
    "mod_red.bic"
   ]
  },
  {
   "cell_type": "markdown",
   "metadata": {},
   "source": [
    "Because the final reduced model has a lower BIC score, we consider this model to be more of a parsimonious model. "
   ]
  },
  {
   "cell_type": "markdown",
   "metadata": {},
   "source": [
    "### 5.6. Use the log likelihood ratio test to compare these the full model to the reduced model.\n",
    "\n",
    "#### 5.6.1. Set up your hypotheses below."
   ]
  },
  {
   "cell_type": "markdown",
   "metadata": {},
   "source": [
    "Ho: Reduced Model is correct\n",
    "Ha: Reduced Model is incorrect because the missing coefficients in the Reduced Model is not."
   ]
  },
  {
   "cell_type": "markdown",
   "metadata": {},
   "source": [
    "#### 5.6.2. Calculate the test statistic and p-value for this hypothesis test."
   ]
  },
  {
   "cell_type": "code",
   "execution_count": 106,
   "metadata": {},
   "outputs": [
    {
     "data": {
      "text/plain": [
       "-126.00862696581993"
      ]
     },
     "execution_count": 106,
     "metadata": {},
     "output_type": "execute_result"
    }
   ],
   "source": [
    "llf_red=mod_red.llf\n",
    "llf_red"
   ]
  },
  {
   "cell_type": "code",
   "execution_count": 108,
   "metadata": {},
   "outputs": [
    {
     "data": {
      "text/plain": [
       "-124.58162052096307"
      ]
     },
     "execution_count": 108,
     "metadata": {},
     "output_type": "execute_result"
    }
   ],
   "source": [
    "llf_full=mod_full.llf\n",
    "llf_full"
   ]
  },
  {
   "cell_type": "code",
   "execution_count": 109,
   "metadata": {},
   "outputs": [
    {
     "data": {
      "text/plain": [
       "2.854012889713715"
      ]
     },
     "execution_count": 109,
     "metadata": {},
     "output_type": "execute_result"
    }
   ],
   "source": [
    "llr= -2*(llf_red - llf_full)\n",
    "llr"
   ]
  },
  {
   "cell_type": "code",
   "execution_count": 111,
   "metadata": {},
   "outputs": [
    {
     "data": {
      "text/plain": [
       "0.8269341179871861"
      ]
     },
     "execution_count": 111,
     "metadata": {},
     "output_type": "execute_result"
    }
   ],
   "source": [
    "pvalue = 1 - chi2.cdf(llr, df=6)\n",
    "pvalue"
   ]
  },
  {
   "cell_type": "markdown",
   "metadata": {},
   "source": [
    "#### 5.6.3. Make a conclusion about your hypotheses using a significance level of $\\alpha=0.05$."
   ]
  },
  {
   "cell_type": "markdown",
   "metadata": {},
   "source": [
    "Because the p-value = 0.827 >= alpha = 0.05, we fail to reject the null hypothesis. Thus there is not sufficient evidence to suggest that the reduced model is incorrect because the missing 'number_of_posts' coefficient in the Reduced Model is not zero. "
   ]
  },
  {
   "cell_type": "markdown",
   "metadata": {},
   "source": [
    "### 5.7. Compare the ROC curve and the AUC of your full and your reduced logistic regression model <u>*on your test dataset*</u>. Which one is better, using these methods of evaluation? Explain."
   ]
  },
  {
   "cell_type": "code",
   "execution_count": 115,
   "metadata": {},
   "outputs": [
    {
     "data": {
      "text/plain": [
       "537    0.656699\n",
       "580    0.272761\n",
       "12     0.230723\n",
       "112    0.428759\n",
       "938    0.244966\n",
       "dtype: float64"
      ]
     },
     "execution_count": 115,
     "metadata": {},
     "output_type": "execute_result"
    }
   ],
   "source": [
    "phat_test = mod_full.predict(exog=df_test)\n",
    "phat_test.head()"
   ]
  },
  {
   "cell_type": "code",
   "execution_count": 116,
   "metadata": {},
   "outputs": [
    {
     "name": "stderr",
     "output_type": "stream",
     "text": [
      "<ipython-input-116-c185c916a8e2>:1: SettingWithCopyWarning: \n",
      "A value is trying to be set on a copy of a slice from a DataFrame.\n",
      "Try using .loc[row_indexer,col_indexer] = value instead\n",
      "\n",
      "See the caveats in the documentation: https://pandas.pydata.org/pandas-docs/stable/user_guide/indexing.html#returning-a-view-versus-a-copy\n",
      "  df_test['phat_test']=phat_test\n"
     ]
    },
    {
     "data": {
      "text/html": [
       "<div>\n",
       "<style scoped>\n",
       "    .dataframe tbody tr th:only-of-type {\n",
       "        vertical-align: middle;\n",
       "    }\n",
       "\n",
       "    .dataframe tbody tr th {\n",
       "        vertical-align: top;\n",
       "    }\n",
       "\n",
       "    .dataframe thead th {\n",
       "        text-align: right;\n",
       "    }\n",
       "</style>\n",
       "<table border=\"1\" class=\"dataframe\">\n",
       "  <thead>\n",
       "    <tr style=\"text-align: right;\">\n",
       "      <th></th>\n",
       "      <th>price</th>\n",
       "      <th>review_scores_rating</th>\n",
       "      <th>number_of_reviews</th>\n",
       "      <th>security_deposit</th>\n",
       "      <th>cleaning_fee</th>\n",
       "      <th>neighborhood</th>\n",
       "      <th>property_type</th>\n",
       "      <th>room_type</th>\n",
       "      <th>accommodates</th>\n",
       "      <th>bathrooms</th>\n",
       "      <th>bedrooms</th>\n",
       "      <th>beds</th>\n",
       "      <th>host_response_time</th>\n",
       "      <th>host_response_rate</th>\n",
       "      <th>host_acceptance_rate</th>\n",
       "      <th>host_is_superhost</th>\n",
       "      <th>host_has_profile_pic</th>\n",
       "      <th>host_identity_verified</th>\n",
       "      <th>y</th>\n",
       "      <th>phat_test</th>\n",
       "    </tr>\n",
       "  </thead>\n",
       "  <tbody>\n",
       "    <tr>\n",
       "      <th>537</th>\n",
       "      <td>90</td>\n",
       "      <td>97.0</td>\n",
       "      <td>175</td>\n",
       "      <td>150.0</td>\n",
       "      <td>25.0</td>\n",
       "      <td>Broadway</td>\n",
       "      <td>House</td>\n",
       "      <td>Private room</td>\n",
       "      <td>2</td>\n",
       "      <td>1.0</td>\n",
       "      <td>1.0</td>\n",
       "      <td>1</td>\n",
       "      <td>within an hour</td>\n",
       "      <td>1.0</td>\n",
       "      <td>1.0</td>\n",
       "      <td>t</td>\n",
       "      <td>t</td>\n",
       "      <td>t</td>\n",
       "      <td>1</td>\n",
       "      <td>6.566988e-01</td>\n",
       "    </tr>\n",
       "    <tr>\n",
       "      <th>580</th>\n",
       "      <td>114</td>\n",
       "      <td>100.0</td>\n",
       "      <td>6</td>\n",
       "      <td>95.0</td>\n",
       "      <td>10.0</td>\n",
       "      <td>Broadway</td>\n",
       "      <td>Apartment</td>\n",
       "      <td>Entire home/apt</td>\n",
       "      <td>2</td>\n",
       "      <td>1.0</td>\n",
       "      <td>0.0</td>\n",
       "      <td>1</td>\n",
       "      <td>within an hour</td>\n",
       "      <td>1.0</td>\n",
       "      <td>1.0</td>\n",
       "      <td>f</td>\n",
       "      <td>t</td>\n",
       "      <td>t</td>\n",
       "      <td>0</td>\n",
       "      <td>2.727612e-01</td>\n",
       "    </tr>\n",
       "    <tr>\n",
       "      <th>12</th>\n",
       "      <td>209</td>\n",
       "      <td>96.0</td>\n",
       "      <td>5</td>\n",
       "      <td>300.0</td>\n",
       "      <td>95.0</td>\n",
       "      <td>Wallingford</td>\n",
       "      <td>House</td>\n",
       "      <td>Entire home/apt</td>\n",
       "      <td>6</td>\n",
       "      <td>1.5</td>\n",
       "      <td>2.0</td>\n",
       "      <td>3</td>\n",
       "      <td>within an hour</td>\n",
       "      <td>1.0</td>\n",
       "      <td>1.0</td>\n",
       "      <td>f</td>\n",
       "      <td>t</td>\n",
       "      <td>t</td>\n",
       "      <td>0</td>\n",
       "      <td>2.307228e-01</td>\n",
       "    </tr>\n",
       "    <tr>\n",
       "      <th>112</th>\n",
       "      <td>100</td>\n",
       "      <td>98.0</td>\n",
       "      <td>12</td>\n",
       "      <td>500.0</td>\n",
       "      <td>50.0</td>\n",
       "      <td>Wallingford</td>\n",
       "      <td>Apartment</td>\n",
       "      <td>Entire home/apt</td>\n",
       "      <td>4</td>\n",
       "      <td>1.0</td>\n",
       "      <td>2.0</td>\n",
       "      <td>3</td>\n",
       "      <td>within an hour</td>\n",
       "      <td>1.0</td>\n",
       "      <td>1.0</td>\n",
       "      <td>f</td>\n",
       "      <td>t</td>\n",
       "      <td>f</td>\n",
       "      <td>0</td>\n",
       "      <td>4.287586e-01</td>\n",
       "    </tr>\n",
       "    <tr>\n",
       "      <th>938</th>\n",
       "      <td>67</td>\n",
       "      <td>95.0</td>\n",
       "      <td>4</td>\n",
       "      <td>100.0</td>\n",
       "      <td>20.0</td>\n",
       "      <td>Fremont</td>\n",
       "      <td>Apartment</td>\n",
       "      <td>Entire home/apt</td>\n",
       "      <td>2</td>\n",
       "      <td>1.0</td>\n",
       "      <td>1.0</td>\n",
       "      <td>1</td>\n",
       "      <td>within an hour</td>\n",
       "      <td>1.0</td>\n",
       "      <td>1.0</td>\n",
       "      <td>f</td>\n",
       "      <td>t</td>\n",
       "      <td>f</td>\n",
       "      <td>0</td>\n",
       "      <td>2.449658e-01</td>\n",
       "    </tr>\n",
       "    <tr>\n",
       "      <th>...</th>\n",
       "      <td>...</td>\n",
       "      <td>...</td>\n",
       "      <td>...</td>\n",
       "      <td>...</td>\n",
       "      <td>...</td>\n",
       "      <td>...</td>\n",
       "      <td>...</td>\n",
       "      <td>...</td>\n",
       "      <td>...</td>\n",
       "      <td>...</td>\n",
       "      <td>...</td>\n",
       "      <td>...</td>\n",
       "      <td>...</td>\n",
       "      <td>...</td>\n",
       "      <td>...</td>\n",
       "      <td>...</td>\n",
       "      <td>...</td>\n",
       "      <td>...</td>\n",
       "      <td>...</td>\n",
       "      <td>...</td>\n",
       "    </tr>\n",
       "    <tr>\n",
       "      <th>916</th>\n",
       "      <td>185</td>\n",
       "      <td>95.0</td>\n",
       "      <td>9</td>\n",
       "      <td>500.0</td>\n",
       "      <td>100.0</td>\n",
       "      <td>Fremont</td>\n",
       "      <td>Apartment</td>\n",
       "      <td>Entire home/apt</td>\n",
       "      <td>4</td>\n",
       "      <td>1.0</td>\n",
       "      <td>2.0</td>\n",
       "      <td>2</td>\n",
       "      <td>within an hour</td>\n",
       "      <td>1.0</td>\n",
       "      <td>1.0</td>\n",
       "      <td>f</td>\n",
       "      <td>t</td>\n",
       "      <td>t</td>\n",
       "      <td>0</td>\n",
       "      <td>2.655547e-01</td>\n",
       "    </tr>\n",
       "    <tr>\n",
       "      <th>67</th>\n",
       "      <td>150</td>\n",
       "      <td>97.0</td>\n",
       "      <td>6</td>\n",
       "      <td>300.0</td>\n",
       "      <td>75.0</td>\n",
       "      <td>Wallingford</td>\n",
       "      <td>House</td>\n",
       "      <td>Entire home/apt</td>\n",
       "      <td>5</td>\n",
       "      <td>1.0</td>\n",
       "      <td>2.0</td>\n",
       "      <td>2</td>\n",
       "      <td>within an hour</td>\n",
       "      <td>1.0</td>\n",
       "      <td>1.0</td>\n",
       "      <td>f</td>\n",
       "      <td>t</td>\n",
       "      <td>t</td>\n",
       "      <td>0</td>\n",
       "      <td>3.624023e-01</td>\n",
       "    </tr>\n",
       "    <tr>\n",
       "      <th>900</th>\n",
       "      <td>43</td>\n",
       "      <td>88.0</td>\n",
       "      <td>5</td>\n",
       "      <td>300.0</td>\n",
       "      <td>19.0</td>\n",
       "      <td>Fremont</td>\n",
       "      <td>Apartment</td>\n",
       "      <td>Private room</td>\n",
       "      <td>2</td>\n",
       "      <td>1.0</td>\n",
       "      <td>1.0</td>\n",
       "      <td>1</td>\n",
       "      <td>within an hour</td>\n",
       "      <td>1.0</td>\n",
       "      <td>1.0</td>\n",
       "      <td>f</td>\n",
       "      <td>t</td>\n",
       "      <td>f</td>\n",
       "      <td>0</td>\n",
       "      <td>8.035025e-02</td>\n",
       "    </tr>\n",
       "    <tr>\n",
       "      <th>295</th>\n",
       "      <td>130</td>\n",
       "      <td>20.0</td>\n",
       "      <td>1</td>\n",
       "      <td>200.0</td>\n",
       "      <td>61.0</td>\n",
       "      <td>Belltown</td>\n",
       "      <td>Apartment</td>\n",
       "      <td>Entire home/apt</td>\n",
       "      <td>2</td>\n",
       "      <td>1.0</td>\n",
       "      <td>1.0</td>\n",
       "      <td>1</td>\n",
       "      <td>within an hour</td>\n",
       "      <td>1.0</td>\n",
       "      <td>1.0</td>\n",
       "      <td>f</td>\n",
       "      <td>t</td>\n",
       "      <td>f</td>\n",
       "      <td>0</td>\n",
       "      <td>5.553332e-08</td>\n",
       "    </tr>\n",
       "    <tr>\n",
       "      <th>741</th>\n",
       "      <td>109</td>\n",
       "      <td>94.0</td>\n",
       "      <td>44</td>\n",
       "      <td>200.0</td>\n",
       "      <td>88.0</td>\n",
       "      <td>Broadway</td>\n",
       "      <td>Apartment</td>\n",
       "      <td>Entire home/apt</td>\n",
       "      <td>4</td>\n",
       "      <td>1.0</td>\n",
       "      <td>1.0</td>\n",
       "      <td>2</td>\n",
       "      <td>within an hour</td>\n",
       "      <td>1.0</td>\n",
       "      <td>1.0</td>\n",
       "      <td>f</td>\n",
       "      <td>t</td>\n",
       "      <td>t</td>\n",
       "      <td>0</td>\n",
       "      <td>1.117675e-01</td>\n",
       "    </tr>\n",
       "  </tbody>\n",
       "</table>\n",
       "<p>86 rows × 20 columns</p>\n",
       "</div>"
      ],
      "text/plain": [
       "     price  review_scores_rating  number_of_reviews  security_deposit  \\\n",
       "537     90                  97.0                175             150.0   \n",
       "580    114                 100.0                  6              95.0   \n",
       "12     209                  96.0                  5             300.0   \n",
       "112    100                  98.0                 12             500.0   \n",
       "938     67                  95.0                  4             100.0   \n",
       "..     ...                   ...                ...               ...   \n",
       "916    185                  95.0                  9             500.0   \n",
       "67     150                  97.0                  6             300.0   \n",
       "900     43                  88.0                  5             300.0   \n",
       "295    130                  20.0                  1             200.0   \n",
       "741    109                  94.0                 44             200.0   \n",
       "\n",
       "     cleaning_fee neighborhood property_type        room_type  accommodates  \\\n",
       "537          25.0     Broadway         House     Private room             2   \n",
       "580          10.0     Broadway     Apartment  Entire home/apt             2   \n",
       "12           95.0  Wallingford         House  Entire home/apt             6   \n",
       "112          50.0  Wallingford     Apartment  Entire home/apt             4   \n",
       "938          20.0      Fremont     Apartment  Entire home/apt             2   \n",
       "..            ...          ...           ...              ...           ...   \n",
       "916         100.0      Fremont     Apartment  Entire home/apt             4   \n",
       "67           75.0  Wallingford         House  Entire home/apt             5   \n",
       "900          19.0      Fremont     Apartment     Private room             2   \n",
       "295          61.0     Belltown     Apartment  Entire home/apt             2   \n",
       "741          88.0     Broadway     Apartment  Entire home/apt             4   \n",
       "\n",
       "     bathrooms  bedrooms  beds host_response_time  host_response_rate  \\\n",
       "537        1.0       1.0     1     within an hour                 1.0   \n",
       "580        1.0       0.0     1     within an hour                 1.0   \n",
       "12         1.5       2.0     3     within an hour                 1.0   \n",
       "112        1.0       2.0     3     within an hour                 1.0   \n",
       "938        1.0       1.0     1     within an hour                 1.0   \n",
       "..         ...       ...   ...                ...                 ...   \n",
       "916        1.0       2.0     2     within an hour                 1.0   \n",
       "67         1.0       2.0     2     within an hour                 1.0   \n",
       "900        1.0       1.0     1     within an hour                 1.0   \n",
       "295        1.0       1.0     1     within an hour                 1.0   \n",
       "741        1.0       1.0     2     within an hour                 1.0   \n",
       "\n",
       "     host_acceptance_rate host_is_superhost host_has_profile_pic  \\\n",
       "537                   1.0                 t                    t   \n",
       "580                   1.0                 f                    t   \n",
       "12                    1.0                 f                    t   \n",
       "112                   1.0                 f                    t   \n",
       "938                   1.0                 f                    t   \n",
       "..                    ...               ...                  ...   \n",
       "916                   1.0                 f                    t   \n",
       "67                    1.0                 f                    t   \n",
       "900                   1.0                 f                    t   \n",
       "295                   1.0                 f                    t   \n",
       "741                   1.0                 f                    t   \n",
       "\n",
       "    host_identity_verified  y     phat_test  \n",
       "537                      t  1  6.566988e-01  \n",
       "580                      t  0  2.727612e-01  \n",
       "12                       t  0  2.307228e-01  \n",
       "112                      f  0  4.287586e-01  \n",
       "938                      f  0  2.449658e-01  \n",
       "..                     ... ..           ...  \n",
       "916                      t  0  2.655547e-01  \n",
       "67                       t  0  3.624023e-01  \n",
       "900                      f  0  8.035025e-02  \n",
       "295                      f  0  5.553332e-08  \n",
       "741                      t  0  1.117675e-01  \n",
       "\n",
       "[86 rows x 20 columns]"
      ]
     },
     "execution_count": 116,
     "metadata": {},
     "output_type": "execute_result"
    }
   ],
   "source": [
    "df_test['phat_test']=phat_test\n",
    "df_test"
   ]
  },
  {
   "cell_type": "code",
   "execution_count": 117,
   "metadata": {},
   "outputs": [],
   "source": [
    "fpr_pew, tpr_pew, score_pew = roc_curve(y_true=df_test['y'], y_score=df_test['phat_test'])\n",
    "auc_pew = roc_auc_score(y_true=df_test['y'], y_score=df_test['phat_test'])"
   ]
  },
  {
   "cell_type": "code",
   "execution_count": 118,
   "metadata": {},
   "outputs": [],
   "source": [
    "def plot_roc(fpr, tpr, auc, lw=2):\n",
    "    plt.plot(fpr,tpr, color='darkorange', lw=lw, label='ROC curve (area = '+str(round(auc,3))+')')\n",
    "    plt.plot([0,1], [0,1], color='navy', lw=lw, linestyle='--')\n",
    "    plt.xlabel('False Positivity Rate')\n",
    "    plt.ylabel('True Positivity Rate')\n",
    "    plt.title('ROC Curve')\n",
    "    plt.legend(loc=\"lower right\")\n",
    "    plt.show()"
   ]
  },
  {
   "cell_type": "code",
   "execution_count": 119,
   "metadata": {},
   "outputs": [
    {
     "data": {
      "image/png": "[encoded data removed]",
      "text/plain": [
       "<Figure size 432x288 with 1 Axes>"
      ]
     },
     "metadata": {},
     "output_type": "display_data"
    }
   ],
   "source": [
    "plot_roc(fpr_pew, tpr_pew, auc_pew)"
   ]
  },
  {
   "cell_type": "code",
   "execution_count": 120,
   "metadata": {},
   "outputs": [
    {
     "data": {
      "text/plain": [
       "537    0.678680\n",
       "580    0.337619\n",
       "12     0.248404\n",
       "112    0.361091\n",
       "938    0.210414\n",
       "dtype: float64"
      ]
     },
     "execution_count": 120,
     "metadata": {},
     "output_type": "execute_result"
    }
   ],
   "source": [
    "phat_test = mod_red.predict(exog=df_test)\n",
    "phat_test.head()"
   ]
  },
  {
   "cell_type": "code",
   "execution_count": 121,
   "metadata": {},
   "outputs": [
    {
     "name": "stderr",
     "output_type": "stream",
     "text": [
      "<ipython-input-121-c185c916a8e2>:1: SettingWithCopyWarning: \n",
      "A value is trying to be set on a copy of a slice from a DataFrame.\n",
      "Try using .loc[row_indexer,col_indexer] = value instead\n",
      "\n",
      "See the caveats in the documentation: https://pandas.pydata.org/pandas-docs/stable/user_guide/indexing.html#returning-a-view-versus-a-copy\n",
      "  df_test['phat_test']=phat_test\n"
     ]
    },
    {
     "data": {
      "text/html": [
       "<div>\n",
       "<style scoped>\n",
       "    .dataframe tbody tr th:only-of-type {\n",
       "        vertical-align: middle;\n",
       "    }\n",
       "\n",
       "    .dataframe tbody tr th {\n",
       "        vertical-align: top;\n",
       "    }\n",
       "\n",
       "    .dataframe thead th {\n",
       "        text-align: right;\n",
       "    }\n",
       "</style>\n",
       "<table border=\"1\" class=\"dataframe\">\n",
       "  <thead>\n",
       "    <tr style=\"text-align: right;\">\n",
       "      <th></th>\n",
       "      <th>price</th>\n",
       "      <th>review_scores_rating</th>\n",
       "      <th>number_of_reviews</th>\n",
       "      <th>security_deposit</th>\n",
       "      <th>cleaning_fee</th>\n",
       "      <th>neighborhood</th>\n",
       "      <th>property_type</th>\n",
       "      <th>room_type</th>\n",
       "      <th>accommodates</th>\n",
       "      <th>bathrooms</th>\n",
       "      <th>bedrooms</th>\n",
       "      <th>beds</th>\n",
       "      <th>host_response_time</th>\n",
       "      <th>host_response_rate</th>\n",
       "      <th>host_acceptance_rate</th>\n",
       "      <th>host_is_superhost</th>\n",
       "      <th>host_has_profile_pic</th>\n",
       "      <th>host_identity_verified</th>\n",
       "      <th>y</th>\n",
       "      <th>phat_test</th>\n",
       "    </tr>\n",
       "  </thead>\n",
       "  <tbody>\n",
       "    <tr>\n",
       "      <th>537</th>\n",
       "      <td>90</td>\n",
       "      <td>97.0</td>\n",
       "      <td>175</td>\n",
       "      <td>150.0</td>\n",
       "      <td>25.0</td>\n",
       "      <td>Broadway</td>\n",
       "      <td>House</td>\n",
       "      <td>Private room</td>\n",
       "      <td>2</td>\n",
       "      <td>1.0</td>\n",
       "      <td>1.0</td>\n",
       "      <td>1</td>\n",
       "      <td>within an hour</td>\n",
       "      <td>1.0</td>\n",
       "      <td>1.0</td>\n",
       "      <td>t</td>\n",
       "      <td>t</td>\n",
       "      <td>t</td>\n",
       "      <td>1</td>\n",
       "      <td>6.786803e-01</td>\n",
       "    </tr>\n",
       "    <tr>\n",
       "      <th>580</th>\n",
       "      <td>114</td>\n",
       "      <td>100.0</td>\n",
       "      <td>6</td>\n",
       "      <td>95.0</td>\n",
       "      <td>10.0</td>\n",
       "      <td>Broadway</td>\n",
       "      <td>Apartment</td>\n",
       "      <td>Entire home/apt</td>\n",
       "      <td>2</td>\n",
       "      <td>1.0</td>\n",
       "      <td>0.0</td>\n",
       "      <td>1</td>\n",
       "      <td>within an hour</td>\n",
       "      <td>1.0</td>\n",
       "      <td>1.0</td>\n",
       "      <td>f</td>\n",
       "      <td>t</td>\n",
       "      <td>t</td>\n",
       "      <td>0</td>\n",
       "      <td>3.376192e-01</td>\n",
       "    </tr>\n",
       "    <tr>\n",
       "      <th>12</th>\n",
       "      <td>209</td>\n",
       "      <td>96.0</td>\n",
       "      <td>5</td>\n",
       "      <td>300.0</td>\n",
       "      <td>95.0</td>\n",
       "      <td>Wallingford</td>\n",
       "      <td>House</td>\n",
       "      <td>Entire home/apt</td>\n",
       "      <td>6</td>\n",
       "      <td>1.5</td>\n",
       "      <td>2.0</td>\n",
       "      <td>3</td>\n",
       "      <td>within an hour</td>\n",
       "      <td>1.0</td>\n",
       "      <td>1.0</td>\n",
       "      <td>f</td>\n",
       "      <td>t</td>\n",
       "      <td>t</td>\n",
       "      <td>0</td>\n",
       "      <td>2.484037e-01</td>\n",
       "    </tr>\n",
       "    <tr>\n",
       "      <th>112</th>\n",
       "      <td>100</td>\n",
       "      <td>98.0</td>\n",
       "      <td>12</td>\n",
       "      <td>500.0</td>\n",
       "      <td>50.0</td>\n",
       "      <td>Wallingford</td>\n",
       "      <td>Apartment</td>\n",
       "      <td>Entire home/apt</td>\n",
       "      <td>4</td>\n",
       "      <td>1.0</td>\n",
       "      <td>2.0</td>\n",
       "      <td>3</td>\n",
       "      <td>within an hour</td>\n",
       "      <td>1.0</td>\n",
       "      <td>1.0</td>\n",
       "      <td>f</td>\n",
       "      <td>t</td>\n",
       "      <td>f</td>\n",
       "      <td>0</td>\n",
       "      <td>3.610909e-01</td>\n",
       "    </tr>\n",
       "    <tr>\n",
       "      <th>938</th>\n",
       "      <td>67</td>\n",
       "      <td>95.0</td>\n",
       "      <td>4</td>\n",
       "      <td>100.0</td>\n",
       "      <td>20.0</td>\n",
       "      <td>Fremont</td>\n",
       "      <td>Apartment</td>\n",
       "      <td>Entire home/apt</td>\n",
       "      <td>2</td>\n",
       "      <td>1.0</td>\n",
       "      <td>1.0</td>\n",
       "      <td>1</td>\n",
       "      <td>within an hour</td>\n",
       "      <td>1.0</td>\n",
       "      <td>1.0</td>\n",
       "      <td>f</td>\n",
       "      <td>t</td>\n",
       "      <td>f</td>\n",
       "      <td>0</td>\n",
       "      <td>2.104143e-01</td>\n",
       "    </tr>\n",
       "    <tr>\n",
       "      <th>...</th>\n",
       "      <td>...</td>\n",
       "      <td>...</td>\n",
       "      <td>...</td>\n",
       "      <td>...</td>\n",
       "      <td>...</td>\n",
       "      <td>...</td>\n",
       "      <td>...</td>\n",
       "      <td>...</td>\n",
       "      <td>...</td>\n",
       "      <td>...</td>\n",
       "      <td>...</td>\n",
       "      <td>...</td>\n",
       "      <td>...</td>\n",
       "      <td>...</td>\n",
       "      <td>...</td>\n",
       "      <td>...</td>\n",
       "      <td>...</td>\n",
       "      <td>...</td>\n",
       "      <td>...</td>\n",
       "      <td>...</td>\n",
       "    </tr>\n",
       "    <tr>\n",
       "      <th>916</th>\n",
       "      <td>185</td>\n",
       "      <td>95.0</td>\n",
       "      <td>9</td>\n",
       "      <td>500.0</td>\n",
       "      <td>100.0</td>\n",
       "      <td>Fremont</td>\n",
       "      <td>Apartment</td>\n",
       "      <td>Entire home/apt</td>\n",
       "      <td>4</td>\n",
       "      <td>1.0</td>\n",
       "      <td>2.0</td>\n",
       "      <td>2</td>\n",
       "      <td>within an hour</td>\n",
       "      <td>1.0</td>\n",
       "      <td>1.0</td>\n",
       "      <td>f</td>\n",
       "      <td>t</td>\n",
       "      <td>t</td>\n",
       "      <td>0</td>\n",
       "      <td>1.863116e-01</td>\n",
       "    </tr>\n",
       "    <tr>\n",
       "      <th>67</th>\n",
       "      <td>150</td>\n",
       "      <td>97.0</td>\n",
       "      <td>6</td>\n",
       "      <td>300.0</td>\n",
       "      <td>75.0</td>\n",
       "      <td>Wallingford</td>\n",
       "      <td>House</td>\n",
       "      <td>Entire home/apt</td>\n",
       "      <td>5</td>\n",
       "      <td>1.0</td>\n",
       "      <td>2.0</td>\n",
       "      <td>2</td>\n",
       "      <td>within an hour</td>\n",
       "      <td>1.0</td>\n",
       "      <td>1.0</td>\n",
       "      <td>f</td>\n",
       "      <td>t</td>\n",
       "      <td>t</td>\n",
       "      <td>0</td>\n",
       "      <td>3.418191e-01</td>\n",
       "    </tr>\n",
       "    <tr>\n",
       "      <th>900</th>\n",
       "      <td>43</td>\n",
       "      <td>88.0</td>\n",
       "      <td>5</td>\n",
       "      <td>300.0</td>\n",
       "      <td>19.0</td>\n",
       "      <td>Fremont</td>\n",
       "      <td>Apartment</td>\n",
       "      <td>Private room</td>\n",
       "      <td>2</td>\n",
       "      <td>1.0</td>\n",
       "      <td>1.0</td>\n",
       "      <td>1</td>\n",
       "      <td>within an hour</td>\n",
       "      <td>1.0</td>\n",
       "      <td>1.0</td>\n",
       "      <td>f</td>\n",
       "      <td>t</td>\n",
       "      <td>f</td>\n",
       "      <td>0</td>\n",
       "      <td>5.008090e-02</td>\n",
       "    </tr>\n",
       "    <tr>\n",
       "      <th>295</th>\n",
       "      <td>130</td>\n",
       "      <td>20.0</td>\n",
       "      <td>1</td>\n",
       "      <td>200.0</td>\n",
       "      <td>61.0</td>\n",
       "      <td>Belltown</td>\n",
       "      <td>Apartment</td>\n",
       "      <td>Entire home/apt</td>\n",
       "      <td>2</td>\n",
       "      <td>1.0</td>\n",
       "      <td>1.0</td>\n",
       "      <td>1</td>\n",
       "      <td>within an hour</td>\n",
       "      <td>1.0</td>\n",
       "      <td>1.0</td>\n",
       "      <td>f</td>\n",
       "      <td>t</td>\n",
       "      <td>f</td>\n",
       "      <td>0</td>\n",
       "      <td>2.285597e-08</td>\n",
       "    </tr>\n",
       "    <tr>\n",
       "      <th>741</th>\n",
       "      <td>109</td>\n",
       "      <td>94.0</td>\n",
       "      <td>44</td>\n",
       "      <td>200.0</td>\n",
       "      <td>88.0</td>\n",
       "      <td>Broadway</td>\n",
       "      <td>Apartment</td>\n",
       "      <td>Entire home/apt</td>\n",
       "      <td>4</td>\n",
       "      <td>1.0</td>\n",
       "      <td>1.0</td>\n",
       "      <td>2</td>\n",
       "      <td>within an hour</td>\n",
       "      <td>1.0</td>\n",
       "      <td>1.0</td>\n",
       "      <td>f</td>\n",
       "      <td>t</td>\n",
       "      <td>t</td>\n",
       "      <td>0</td>\n",
       "      <td>1.487062e-01</td>\n",
       "    </tr>\n",
       "  </tbody>\n",
       "</table>\n",
       "<p>86 rows × 20 columns</p>\n",
       "</div>"
      ],
      "text/plain": [
       "     price  review_scores_rating  number_of_reviews  security_deposit  \\\n",
       "537     90                  97.0                175             150.0   \n",
       "580    114                 100.0                  6              95.0   \n",
       "12     209                  96.0                  5             300.0   \n",
       "112    100                  98.0                 12             500.0   \n",
       "938     67                  95.0                  4             100.0   \n",
       "..     ...                   ...                ...               ...   \n",
       "916    185                  95.0                  9             500.0   \n",
       "67     150                  97.0                  6             300.0   \n",
       "900     43                  88.0                  5             300.0   \n",
       "295    130                  20.0                  1             200.0   \n",
       "741    109                  94.0                 44             200.0   \n",
       "\n",
       "     cleaning_fee neighborhood property_type        room_type  accommodates  \\\n",
       "537          25.0     Broadway         House     Private room             2   \n",
       "580          10.0     Broadway     Apartment  Entire home/apt             2   \n",
       "12           95.0  Wallingford         House  Entire home/apt             6   \n",
       "112          50.0  Wallingford     Apartment  Entire home/apt             4   \n",
       "938          20.0      Fremont     Apartment  Entire home/apt             2   \n",
       "..            ...          ...           ...              ...           ...   \n",
       "916         100.0      Fremont     Apartment  Entire home/apt             4   \n",
       "67           75.0  Wallingford         House  Entire home/apt             5   \n",
       "900          19.0      Fremont     Apartment     Private room             2   \n",
       "295          61.0     Belltown     Apartment  Entire home/apt             2   \n",
       "741          88.0     Broadway     Apartment  Entire home/apt             4   \n",
       "\n",
       "     bathrooms  bedrooms  beds host_response_time  host_response_rate  \\\n",
       "537        1.0       1.0     1     within an hour                 1.0   \n",
       "580        1.0       0.0     1     within an hour                 1.0   \n",
       "12         1.5       2.0     3     within an hour                 1.0   \n",
       "112        1.0       2.0     3     within an hour                 1.0   \n",
       "938        1.0       1.0     1     within an hour                 1.0   \n",
       "..         ...       ...   ...                ...                 ...   \n",
       "916        1.0       2.0     2     within an hour                 1.0   \n",
       "67         1.0       2.0     2     within an hour                 1.0   \n",
       "900        1.0       1.0     1     within an hour                 1.0   \n",
       "295        1.0       1.0     1     within an hour                 1.0   \n",
       "741        1.0       1.0     2     within an hour                 1.0   \n",
       "\n",
       "     host_acceptance_rate host_is_superhost host_has_profile_pic  \\\n",
       "537                   1.0                 t                    t   \n",
       "580                   1.0                 f                    t   \n",
       "12                    1.0                 f                    t   \n",
       "112                   1.0                 f                    t   \n",
       "938                   1.0                 f                    t   \n",
       "..                    ...               ...                  ...   \n",
       "916                   1.0                 f                    t   \n",
       "67                    1.0                 f                    t   \n",
       "900                   1.0                 f                    t   \n",
       "295                   1.0                 f                    t   \n",
       "741                   1.0                 f                    t   \n",
       "\n",
       "    host_identity_verified  y     phat_test  \n",
       "537                      t  1  6.786803e-01  \n",
       "580                      t  0  3.376192e-01  \n",
       "12                       t  0  2.484037e-01  \n",
       "112                      f  0  3.610909e-01  \n",
       "938                      f  0  2.104143e-01  \n",
       "..                     ... ..           ...  \n",
       "916                      t  0  1.863116e-01  \n",
       "67                       t  0  3.418191e-01  \n",
       "900                      f  0  5.008090e-02  \n",
       "295                      f  0  2.285597e-08  \n",
       "741                      t  0  1.487062e-01  \n",
       "\n",
       "[86 rows x 20 columns]"
      ]
     },
     "execution_count": 121,
     "metadata": {},
     "output_type": "execute_result"
    }
   ],
   "source": [
    "df_test['phat_test']=phat_test\n",
    "df_test"
   ]
  },
  {
   "cell_type": "code",
   "execution_count": 122,
   "metadata": {},
   "outputs": [],
   "source": [
    "fpr_pew, tpr_pew, score_pew = roc_curve(y_true=df_test['y'], y_score=df_test['phat_test'])\n",
    "auc_pew = roc_auc_score(y_true=df_test['y'], y_score=df_test['phat_test'])"
   ]
  },
  {
   "cell_type": "code",
   "execution_count": 123,
   "metadata": {},
   "outputs": [
    {
     "data": {
      "image/png": "[encoded data removed]",
      "text/plain": [
       "<Figure size 432x288 with 1 Axes>"
      ]
     },
     "metadata": {},
     "output_type": "display_data"
    }
   ],
   "source": [
    "plot_roc(fpr_pew, tpr_pew, auc_pew)"
   ]
  },
  {
   "cell_type": "markdown",
   "metadata": {},
   "source": [
    "The full model is a better method of evaluating the data because while both graphs have the same AUC, the red model tends to hug the left and upper borders of the graph, which gives us a better true positivity rate. "
   ]
  },
  {
   "cell_type": "markdown",
   "metadata": {},
   "source": [
    "### 5.8. Next, using the reduced model, find a predictive probability threshold that will give you the lowest false positive rate while the true positive rate is 100% <u>for the test dataset</u>."
   ]
  },
  {
   "cell_type": "code",
   "execution_count": 124,
   "metadata": {},
   "outputs": [
    {
     "name": "stdout",
     "output_type": "stream",
     "text": [
      "Threshold: 0.0 FPR: 1.0 TPR: 1.0\n",
      "Threshold: 0.01 FPR: 0.8135593220338984 TPR: 0.9629629629629629\n",
      "Threshold: 0.02 FPR: 0.7966101694915254 TPR: 0.9629629629629629\n",
      "Threshold: 0.03 FPR: 0.7627118644067796 TPR: 0.9629629629629629\n",
      "Threshold: 0.04 FPR: 0.7627118644067796 TPR: 0.9629629629629629\n",
      "Threshold: 0.05 FPR: 0.7288135593220338 TPR: 0.9629629629629629\n",
      "Threshold: 0.06 FPR: 0.6779661016949152 TPR: 0.9629629629629629\n",
      "Threshold: 0.07 FPR: 0.6610169491525424 TPR: 0.9629629629629629\n",
      "Threshold: 0.08 FPR: 0.6610169491525424 TPR: 0.9629629629629629\n",
      "Threshold: 0.09 FPR: 0.6610169491525424 TPR: 0.9629629629629629\n",
      "Threshold: 0.1 FPR: 0.6610169491525424 TPR: 0.9629629629629629\n",
      "Threshold: 0.11 FPR: 0.6610169491525424 TPR: 0.9629629629629629\n",
      "Threshold: 0.12 FPR: 0.6440677966101694 TPR: 0.9629629629629629\n",
      "Threshold: 0.13 FPR: 0.6101694915254238 TPR: 0.9629629629629629\n",
      "Threshold: 0.14 FPR: 0.6101694915254238 TPR: 0.9629629629629629\n",
      "Threshold: 0.15 FPR: 0.576271186440678 TPR: 0.9629629629629629\n",
      "Threshold: 0.16 FPR: 0.576271186440678 TPR: 0.9629629629629629\n",
      "Threshold: 0.17 FPR: 0.576271186440678 TPR: 0.9629629629629629\n",
      "Threshold: 0.18 FPR: 0.559322033898305 TPR: 0.9629629629629629\n",
      "Threshold: 0.19 FPR: 0.5423728813559322 TPR: 0.9629629629629629\n",
      "Threshold: 0.2 FPR: 0.5254237288135594 TPR: 0.9629629629629629\n",
      "Threshold: 0.21 FPR: 0.5084745762711864 TPR: 0.9629629629629629\n",
      "Threshold: 0.22 FPR: 0.4406779661016949 TPR: 0.9629629629629629\n",
      "Threshold: 0.23 FPR: 0.4406779661016949 TPR: 0.8888888888888888\n",
      "Threshold: 0.24 FPR: 0.4406779661016949 TPR: 0.8518518518518519\n",
      "Threshold: 0.25 FPR: 0.423728813559322 TPR: 0.8518518518518519\n",
      "Threshold: 0.26 FPR: 0.423728813559322 TPR: 0.8518518518518519\n",
      "Threshold: 0.27 FPR: 0.3898305084745763 TPR: 0.8148148148148148\n",
      "Threshold: 0.28 FPR: 0.3728813559322034 TPR: 0.8148148148148148\n",
      "Threshold: 0.29 FPR: 0.3728813559322034 TPR: 0.8148148148148148\n",
      "Threshold: 0.3 FPR: 0.3728813559322034 TPR: 0.8148148148148148\n",
      "Threshold: 0.31 FPR: 0.3389830508474576 TPR: 0.7777777777777778\n",
      "Threshold: 0.32 FPR: 0.3220338983050847 TPR: 0.7777777777777778\n",
      "Threshold: 0.33 FPR: 0.288135593220339 TPR: 0.7407407407407407\n",
      "Threshold: 0.34 FPR: 0.2542372881355932 TPR: 0.7037037037037037\n",
      "Threshold: 0.35000000000000003 FPR: 0.22033898305084745 TPR: 0.7037037037037037\n",
      "Threshold: 0.36 FPR: 0.22033898305084745 TPR: 0.6666666666666666\n",
      "Threshold: 0.37 FPR: 0.2033898305084746 TPR: 0.6666666666666666\n",
      "Threshold: 0.38 FPR: 0.1864406779661017 TPR: 0.6666666666666666\n",
      "Threshold: 0.39 FPR: 0.15254237288135594 TPR: 0.6666666666666666\n",
      "Threshold: 0.4 FPR: 0.15254237288135594 TPR: 0.6666666666666666\n",
      "Threshold: 0.41000000000000003 FPR: 0.13559322033898305 TPR: 0.6666666666666666\n",
      "Threshold: 0.42 FPR: 0.13559322033898305 TPR: 0.6296296296296297\n",
      "Threshold: 0.43 FPR: 0.11864406779661017 TPR: 0.6296296296296297\n",
      "Threshold: 0.44 FPR: 0.1016949152542373 TPR: 0.6296296296296297\n",
      "Threshold: 0.45 FPR: 0.1016949152542373 TPR: 0.5925925925925926\n",
      "Threshold: 0.46 FPR: 0.1016949152542373 TPR: 0.5925925925925926\n",
      "Threshold: 0.47000000000000003 FPR: 0.0847457627118644 TPR: 0.5555555555555556\n",
      "Threshold: 0.48 FPR: 0.0847457627118644 TPR: 0.5555555555555556\n",
      "Threshold: 0.49 FPR: 0.0847457627118644 TPR: 0.5555555555555556\n",
      "Threshold: 0.5 FPR: 0.0847457627118644 TPR: 0.5555555555555556\n",
      "Threshold: 0.51 FPR: 0.06779661016949153 TPR: 0.5555555555555556\n",
      "Threshold: 0.52 FPR: 0.06779661016949153 TPR: 0.5555555555555556\n",
      "Threshold: 0.53 FPR: 0.06779661016949153 TPR: 0.5185185185185185\n",
      "Threshold: 0.54 FPR: 0.06779661016949153 TPR: 0.5185185185185185\n",
      "Threshold: 0.55 FPR: 0.05084745762711865 TPR: 0.48148148148148145\n",
      "Threshold: 0.56 FPR: 0.05084745762711865 TPR: 0.4074074074074074\n",
      "Threshold: 0.5700000000000001 FPR: 0.05084745762711865 TPR: 0.3333333333333333\n",
      "Threshold: 0.58 FPR: 0.03389830508474576 TPR: 0.18518518518518517\n",
      "Threshold: 0.59 FPR: 0.01694915254237288 TPR: 0.18518518518518517\n",
      "Threshold: 0.6 FPR: 0.01694915254237288 TPR: 0.1111111111111111\n",
      "Threshold: 0.61 FPR: 0.0 TPR: 0.1111111111111111\n",
      "Threshold: 0.62 FPR: 0.0 TPR: 0.1111111111111111\n",
      "Threshold: 0.63 FPR: 0.0 TPR: 0.1111111111111111\n",
      "Threshold: 0.64 FPR: 0.0 TPR: 0.07407407407407407\n",
      "Threshold: 0.65 FPR: 0.0 TPR: 0.07407407407407407\n",
      "Threshold: 0.66 FPR: 0.0 TPR: 0.07407407407407407\n",
      "Threshold: 0.67 FPR: 0.0 TPR: 0.07407407407407407\n",
      "Threshold: 0.68 FPR: 0.0 TPR: 0.037037037037037035\n",
      "Threshold: 0.6900000000000001 FPR: 0.0 TPR: 0.037037037037037035\n",
      "Threshold: 0.7000000000000001 FPR: 0.0 TPR: 0.037037037037037035\n",
      "Threshold: 0.71 FPR: 0.0 TPR: 0.037037037037037035\n",
      "Threshold: 0.72 FPR: 0.0 TPR: 0.037037037037037035\n",
      "Threshold: 0.73 FPR: 0.0 TPR: 0.0\n",
      "Threshold: 0.74 FPR: 0.0 TPR: 0.0\n",
      "Threshold: 0.75 FPR: 0.0 TPR: 0.0\n",
      "Threshold: 0.76 FPR: 0.0 TPR: 0.0\n",
      "Threshold: 0.77 FPR: 0.0 TPR: 0.0\n",
      "Threshold: 0.78 FPR: 0.0 TPR: 0.0\n",
      "Threshold: 0.79 FPR: 0.0 TPR: 0.0\n",
      "Threshold: 0.8 FPR: 0.0 TPR: 0.0\n",
      "Threshold: 0.81 FPR: 0.0 TPR: 0.0\n",
      "Threshold: 0.8200000000000001 FPR: 0.0 TPR: 0.0\n",
      "Threshold: 0.8300000000000001 FPR: 0.0 TPR: 0.0\n",
      "Threshold: 0.84 FPR: 0.0 TPR: 0.0\n",
      "Threshold: 0.85 FPR: 0.0 TPR: 0.0\n",
      "Threshold: 0.86 FPR: 0.0 TPR: 0.0\n",
      "Threshold: 0.87 FPR: 0.0 TPR: 0.0\n",
      "Threshold: 0.88 FPR: 0.0 TPR: 0.0\n",
      "Threshold: 0.89 FPR: 0.0 TPR: 0.0\n",
      "Threshold: 0.9 FPR: 0.0 TPR: 0.0\n",
      "Threshold: 0.91 FPR: 0.0 TPR: 0.0\n",
      "Threshold: 0.92 FPR: 0.0 TPR: 0.0\n",
      "Threshold: 0.93 FPR: 0.0 TPR: 0.0\n",
      "Threshold: 0.9400000000000001 FPR: 0.0 TPR: 0.0\n",
      "Threshold: 0.9500000000000001 FPR: 0.0 TPR: 0.0\n",
      "Threshold: 0.96 FPR: 0.0 TPR: 0.0\n",
      "Threshold: 0.97 FPR: 0.0 TPR: 0.0\n",
      "Threshold: 0.98 FPR: 0.0 TPR: 0.0\n",
      "Threshold: 0.99 FPR: 0.0 TPR: 0.0\n",
      "Threshold: 1.0 FPR: 0.0 TPR: 0.0\n"
     ]
    },
    {
     "name": "stderr",
     "output_type": "stream",
     "text": [
      "<ipython-input-124-f609bee7b8a1>:2: SettingWithCopyWarning: \n",
      "A value is trying to be set on a copy of a slice from a DataFrame.\n",
      "Try using .loc[row_indexer,col_indexer] = value instead\n",
      "\n",
      "See the caveats in the documentation: https://pandas.pydata.org/pandas-docs/stable/user_guide/indexing.html#returning-a-view-versus-a-copy\n",
      "  df_test['yhat']=1*(df_test['phat_test']>p)\n",
      "<ipython-input-124-f609bee7b8a1>:2: SettingWithCopyWarning: \n",
      "A value is trying to be set on a copy of a slice from a DataFrame.\n",
      "Try using .loc[row_indexer,col_indexer] = value instead\n",
      "\n",
      "See the caveats in the documentation: https://pandas.pydata.org/pandas-docs/stable/user_guide/indexing.html#returning-a-view-versus-a-copy\n",
      "  df_test['yhat']=1*(df_test['phat_test']>p)\n",
      "<ipython-input-124-f609bee7b8a1>:2: SettingWithCopyWarning: \n",
      "A value is trying to be set on a copy of a slice from a DataFrame.\n",
      "Try using .loc[row_indexer,col_indexer] = value instead\n",
      "\n",
      "See the caveats in the documentation: https://pandas.pydata.org/pandas-docs/stable/user_guide/indexing.html#returning-a-view-versus-a-copy\n",
      "  df_test['yhat']=1*(df_test['phat_test']>p)\n",
      "<ipython-input-124-f609bee7b8a1>:2: SettingWithCopyWarning: \n",
      "A value is trying to be set on a copy of a slice from a DataFrame.\n",
      "Try using .loc[row_indexer,col_indexer] = value instead\n",
      "\n",
      "See the caveats in the documentation: https://pandas.pydata.org/pandas-docs/stable/user_guide/indexing.html#returning-a-view-versus-a-copy\n",
      "  df_test['yhat']=1*(df_test['phat_test']>p)\n",
      "<ipython-input-124-f609bee7b8a1>:2: SettingWithCopyWarning: \n",
      "A value is trying to be set on a copy of a slice from a DataFrame.\n",
      "Try using .loc[row_indexer,col_indexer] = value instead\n",
      "\n",
      "See the caveats in the documentation: https://pandas.pydata.org/pandas-docs/stable/user_guide/indexing.html#returning-a-view-versus-a-copy\n",
      "  df_test['yhat']=1*(df_test['phat_test']>p)\n",
      "<ipython-input-124-f609bee7b8a1>:2: SettingWithCopyWarning: \n",
      "A value is trying to be set on a copy of a slice from a DataFrame.\n",
      "Try using .loc[row_indexer,col_indexer] = value instead\n",
      "\n",
      "See the caveats in the documentation: https://pandas.pydata.org/pandas-docs/stable/user_guide/indexing.html#returning-a-view-versus-a-copy\n",
      "  df_test['yhat']=1*(df_test['phat_test']>p)\n",
      "<ipython-input-124-f609bee7b8a1>:2: SettingWithCopyWarning: \n",
      "A value is trying to be set on a copy of a slice from a DataFrame.\n",
      "Try using .loc[row_indexer,col_indexer] = value instead\n",
      "\n",
      "See the caveats in the documentation: https://pandas.pydata.org/pandas-docs/stable/user_guide/indexing.html#returning-a-view-versus-a-copy\n",
      "  df_test['yhat']=1*(df_test['phat_test']>p)\n",
      "<ipython-input-124-f609bee7b8a1>:2: SettingWithCopyWarning: \n",
      "A value is trying to be set on a copy of a slice from a DataFrame.\n",
      "Try using .loc[row_indexer,col_indexer] = value instead\n",
      "\n",
      "See the caveats in the documentation: https://pandas.pydata.org/pandas-docs/stable/user_guide/indexing.html#returning-a-view-versus-a-copy\n",
      "  df_test['yhat']=1*(df_test['phat_test']>p)\n",
      "<ipython-input-124-f609bee7b8a1>:2: SettingWithCopyWarning: \n",
      "A value is trying to be set on a copy of a slice from a DataFrame.\n",
      "Try using .loc[row_indexer,col_indexer] = value instead\n",
      "\n",
      "See the caveats in the documentation: https://pandas.pydata.org/pandas-docs/stable/user_guide/indexing.html#returning-a-view-versus-a-copy\n",
      "  df_test['yhat']=1*(df_test['phat_test']>p)\n",
      "<ipython-input-124-f609bee7b8a1>:2: SettingWithCopyWarning: \n",
      "A value is trying to be set on a copy of a slice from a DataFrame.\n",
      "Try using .loc[row_indexer,col_indexer] = value instead\n",
      "\n",
      "See the caveats in the documentation: https://pandas.pydata.org/pandas-docs/stable/user_guide/indexing.html#returning-a-view-versus-a-copy\n",
      "  df_test['yhat']=1*(df_test['phat_test']>p)\n",
      "<ipython-input-124-f609bee7b8a1>:2: SettingWithCopyWarning: \n",
      "A value is trying to be set on a copy of a slice from a DataFrame.\n",
      "Try using .loc[row_indexer,col_indexer] = value instead\n",
      "\n",
      "See the caveats in the documentation: https://pandas.pydata.org/pandas-docs/stable/user_guide/indexing.html#returning-a-view-versus-a-copy\n",
      "  df_test['yhat']=1*(df_test['phat_test']>p)\n",
      "<ipython-input-124-f609bee7b8a1>:2: SettingWithCopyWarning: \n",
      "A value is trying to be set on a copy of a slice from a DataFrame.\n",
      "Try using .loc[row_indexer,col_indexer] = value instead\n",
      "\n",
      "See the caveats in the documentation: https://pandas.pydata.org/pandas-docs/stable/user_guide/indexing.html#returning-a-view-versus-a-copy\n",
      "  df_test['yhat']=1*(df_test['phat_test']>p)\n",
      "<ipython-input-124-f609bee7b8a1>:2: SettingWithCopyWarning: \n",
      "A value is trying to be set on a copy of a slice from a DataFrame.\n",
      "Try using .loc[row_indexer,col_indexer] = value instead\n",
      "\n",
      "See the caveats in the documentation: https://pandas.pydata.org/pandas-docs/stable/user_guide/indexing.html#returning-a-view-versus-a-copy\n",
      "  df_test['yhat']=1*(df_test['phat_test']>p)\n",
      "<ipython-input-124-f609bee7b8a1>:2: SettingWithCopyWarning: \n",
      "A value is trying to be set on a copy of a slice from a DataFrame.\n",
      "Try using .loc[row_indexer,col_indexer] = value instead\n",
      "\n",
      "See the caveats in the documentation: https://pandas.pydata.org/pandas-docs/stable/user_guide/indexing.html#returning-a-view-versus-a-copy\n",
      "  df_test['yhat']=1*(df_test['phat_test']>p)\n",
      "<ipython-input-124-f609bee7b8a1>:2: SettingWithCopyWarning: \n",
      "A value is trying to be set on a copy of a slice from a DataFrame.\n",
      "Try using .loc[row_indexer,col_indexer] = value instead\n",
      "\n",
      "See the caveats in the documentation: https://pandas.pydata.org/pandas-docs/stable/user_guide/indexing.html#returning-a-view-versus-a-copy\n",
      "  df_test['yhat']=1*(df_test['phat_test']>p)\n",
      "<ipython-input-124-f609bee7b8a1>:2: SettingWithCopyWarning: \n",
      "A value is trying to be set on a copy of a slice from a DataFrame.\n",
      "Try using .loc[row_indexer,col_indexer] = value instead\n",
      "\n",
      "See the caveats in the documentation: https://pandas.pydata.org/pandas-docs/stable/user_guide/indexing.html#returning-a-view-versus-a-copy\n",
      "  df_test['yhat']=1*(df_test['phat_test']>p)\n",
      "<ipython-input-124-f609bee7b8a1>:2: SettingWithCopyWarning: \n",
      "A value is trying to be set on a copy of a slice from a DataFrame.\n",
      "Try using .loc[row_indexer,col_indexer] = value instead\n",
      "\n",
      "See the caveats in the documentation: https://pandas.pydata.org/pandas-docs/stable/user_guide/indexing.html#returning-a-view-versus-a-copy\n",
      "  df_test['yhat']=1*(df_test['phat_test']>p)\n",
      "<ipython-input-124-f609bee7b8a1>:2: SettingWithCopyWarning: \n",
      "A value is trying to be set on a copy of a slice from a DataFrame.\n",
      "Try using .loc[row_indexer,col_indexer] = value instead\n",
      "\n",
      "See the caveats in the documentation: https://pandas.pydata.org/pandas-docs/stable/user_guide/indexing.html#returning-a-view-versus-a-copy\n",
      "  df_test['yhat']=1*(df_test['phat_test']>p)\n",
      "<ipython-input-124-f609bee7b8a1>:2: SettingWithCopyWarning: \n",
      "A value is trying to be set on a copy of a slice from a DataFrame.\n",
      "Try using .loc[row_indexer,col_indexer] = value instead\n",
      "\n",
      "See the caveats in the documentation: https://pandas.pydata.org/pandas-docs/stable/user_guide/indexing.html#returning-a-view-versus-a-copy\n",
      "  df_test['yhat']=1*(df_test['phat_test']>p)\n",
      "<ipython-input-124-f609bee7b8a1>:2: SettingWithCopyWarning: \n",
      "A value is trying to be set on a copy of a slice from a DataFrame.\n",
      "Try using .loc[row_indexer,col_indexer] = value instead\n",
      "\n",
      "See the caveats in the documentation: https://pandas.pydata.org/pandas-docs/stable/user_guide/indexing.html#returning-a-view-versus-a-copy\n",
      "  df_test['yhat']=1*(df_test['phat_test']>p)\n",
      "<ipython-input-124-f609bee7b8a1>:2: SettingWithCopyWarning: \n",
      "A value is trying to be set on a copy of a slice from a DataFrame.\n",
      "Try using .loc[row_indexer,col_indexer] = value instead\n",
      "\n",
      "See the caveats in the documentation: https://pandas.pydata.org/pandas-docs/stable/user_guide/indexing.html#returning-a-view-versus-a-copy\n",
      "  df_test['yhat']=1*(df_test['phat_test']>p)\n",
      "<ipython-input-124-f609bee7b8a1>:2: SettingWithCopyWarning: \n",
      "A value is trying to be set on a copy of a slice from a DataFrame.\n",
      "Try using .loc[row_indexer,col_indexer] = value instead\n",
      "\n",
      "See the caveats in the documentation: https://pandas.pydata.org/pandas-docs/stable/user_guide/indexing.html#returning-a-view-versus-a-copy\n",
      "  df_test['yhat']=1*(df_test['phat_test']>p)\n",
      "<ipython-input-124-f609bee7b8a1>:2: SettingWithCopyWarning: \n",
      "A value is trying to be set on a copy of a slice from a DataFrame.\n",
      "Try using .loc[row_indexer,col_indexer] = value instead\n",
      "\n",
      "See the caveats in the documentation: https://pandas.pydata.org/pandas-docs/stable/user_guide/indexing.html#returning-a-view-versus-a-copy\n",
      "  df_test['yhat']=1*(df_test['phat_test']>p)\n",
      "<ipython-input-124-f609bee7b8a1>:2: SettingWithCopyWarning: \n",
      "A value is trying to be set on a copy of a slice from a DataFrame.\n",
      "Try using .loc[row_indexer,col_indexer] = value instead\n",
      "\n",
      "See the caveats in the documentation: https://pandas.pydata.org/pandas-docs/stable/user_guide/indexing.html#returning-a-view-versus-a-copy\n",
      "  df_test['yhat']=1*(df_test['phat_test']>p)\n",
      "<ipython-input-124-f609bee7b8a1>:2: SettingWithCopyWarning: \n",
      "A value is trying to be set on a copy of a slice from a DataFrame.\n",
      "Try using .loc[row_indexer,col_indexer] = value instead\n",
      "\n",
      "See the caveats in the documentation: https://pandas.pydata.org/pandas-docs/stable/user_guide/indexing.html#returning-a-view-versus-a-copy\n",
      "  df_test['yhat']=1*(df_test['phat_test']>p)\n",
      "<ipython-input-124-f609bee7b8a1>:2: SettingWithCopyWarning: \n",
      "A value is trying to be set on a copy of a slice from a DataFrame.\n",
      "Try using .loc[row_indexer,col_indexer] = value instead\n",
      "\n",
      "See the caveats in the documentation: https://pandas.pydata.org/pandas-docs/stable/user_guide/indexing.html#returning-a-view-versus-a-copy\n",
      "  df_test['yhat']=1*(df_test['phat_test']>p)\n",
      "<ipython-input-124-f609bee7b8a1>:2: SettingWithCopyWarning: \n",
      "A value is trying to be set on a copy of a slice from a DataFrame.\n",
      "Try using .loc[row_indexer,col_indexer] = value instead\n",
      "\n",
      "See the caveats in the documentation: https://pandas.pydata.org/pandas-docs/stable/user_guide/indexing.html#returning-a-view-versus-a-copy\n",
      "  df_test['yhat']=1*(df_test['phat_test']>p)\n",
      "<ipython-input-124-f609bee7b8a1>:2: SettingWithCopyWarning: \n",
      "A value is trying to be set on a copy of a slice from a DataFrame.\n",
      "Try using .loc[row_indexer,col_indexer] = value instead\n",
      "\n",
      "See the caveats in the documentation: https://pandas.pydata.org/pandas-docs/stable/user_guide/indexing.html#returning-a-view-versus-a-copy\n",
      "  df_test['yhat']=1*(df_test['phat_test']>p)\n",
      "<ipython-input-124-f609bee7b8a1>:2: SettingWithCopyWarning: \n",
      "A value is trying to be set on a copy of a slice from a DataFrame.\n",
      "Try using .loc[row_indexer,col_indexer] = value instead\n",
      "\n",
      "See the caveats in the documentation: https://pandas.pydata.org/pandas-docs/stable/user_guide/indexing.html#returning-a-view-versus-a-copy\n",
      "  df_test['yhat']=1*(df_test['phat_test']>p)\n",
      "<ipython-input-124-f609bee7b8a1>:2: SettingWithCopyWarning: \n",
      "A value is trying to be set on a copy of a slice from a DataFrame.\n",
      "Try using .loc[row_indexer,col_indexer] = value instead\n",
      "\n",
      "See the caveats in the documentation: https://pandas.pydata.org/pandas-docs/stable/user_guide/indexing.html#returning-a-view-versus-a-copy\n",
      "  df_test['yhat']=1*(df_test['phat_test']>p)\n",
      "<ipython-input-124-f609bee7b8a1>:2: SettingWithCopyWarning: \n",
      "A value is trying to be set on a copy of a slice from a DataFrame.\n",
      "Try using .loc[row_indexer,col_indexer] = value instead\n",
      "\n",
      "See the caveats in the documentation: https://pandas.pydata.org/pandas-docs/stable/user_guide/indexing.html#returning-a-view-versus-a-copy\n",
      "  df_test['yhat']=1*(df_test['phat_test']>p)\n",
      "<ipython-input-124-f609bee7b8a1>:2: SettingWithCopyWarning: \n",
      "A value is trying to be set on a copy of a slice from a DataFrame.\n",
      "Try using .loc[row_indexer,col_indexer] = value instead\n",
      "\n",
      "See the caveats in the documentation: https://pandas.pydata.org/pandas-docs/stable/user_guide/indexing.html#returning-a-view-versus-a-copy\n",
      "  df_test['yhat']=1*(df_test['phat_test']>p)\n",
      "<ipython-input-124-f609bee7b8a1>:2: SettingWithCopyWarning: \n",
      "A value is trying to be set on a copy of a slice from a DataFrame.\n",
      "Try using .loc[row_indexer,col_indexer] = value instead\n",
      "\n",
      "See the caveats in the documentation: https://pandas.pydata.org/pandas-docs/stable/user_guide/indexing.html#returning-a-view-versus-a-copy\n",
      "  df_test['yhat']=1*(df_test['phat_test']>p)\n",
      "<ipython-input-124-f609bee7b8a1>:2: SettingWithCopyWarning: \n",
      "A value is trying to be set on a copy of a slice from a DataFrame.\n",
      "Try using .loc[row_indexer,col_indexer] = value instead\n",
      "\n",
      "See the caveats in the documentation: https://pandas.pydata.org/pandas-docs/stable/user_guide/indexing.html#returning-a-view-versus-a-copy\n",
      "  df_test['yhat']=1*(df_test['phat_test']>p)\n",
      "<ipython-input-124-f609bee7b8a1>:2: SettingWithCopyWarning: \n",
      "A value is trying to be set on a copy of a slice from a DataFrame.\n",
      "Try using .loc[row_indexer,col_indexer] = value instead\n",
      "\n",
      "See the caveats in the documentation: https://pandas.pydata.org/pandas-docs/stable/user_guide/indexing.html#returning-a-view-versus-a-copy\n",
      "  df_test['yhat']=1*(df_test['phat_test']>p)\n",
      "<ipython-input-124-f609bee7b8a1>:2: SettingWithCopyWarning: \n",
      "A value is trying to be set on a copy of a slice from a DataFrame.\n",
      "Try using .loc[row_indexer,col_indexer] = value instead\n",
      "\n",
      "See the caveats in the documentation: https://pandas.pydata.org/pandas-docs/stable/user_guide/indexing.html#returning-a-view-versus-a-copy\n",
      "  df_test['yhat']=1*(df_test['phat_test']>p)\n",
      "<ipython-input-124-f609bee7b8a1>:2: SettingWithCopyWarning: \n",
      "A value is trying to be set on a copy of a slice from a DataFrame.\n",
      "Try using .loc[row_indexer,col_indexer] = value instead\n",
      "\n",
      "See the caveats in the documentation: https://pandas.pydata.org/pandas-docs/stable/user_guide/indexing.html#returning-a-view-versus-a-copy\n",
      "  df_test['yhat']=1*(df_test['phat_test']>p)\n",
      "<ipython-input-124-f609bee7b8a1>:2: SettingWithCopyWarning: \n",
      "A value is trying to be set on a copy of a slice from a DataFrame.\n",
      "Try using .loc[row_indexer,col_indexer] = value instead\n",
      "\n",
      "See the caveats in the documentation: https://pandas.pydata.org/pandas-docs/stable/user_guide/indexing.html#returning-a-view-versus-a-copy\n",
      "  df_test['yhat']=1*(df_test['phat_test']>p)\n",
      "<ipython-input-124-f609bee7b8a1>:2: SettingWithCopyWarning: \n",
      "A value is trying to be set on a copy of a slice from a DataFrame.\n",
      "Try using .loc[row_indexer,col_indexer] = value instead\n",
      "\n",
      "See the caveats in the documentation: https://pandas.pydata.org/pandas-docs/stable/user_guide/indexing.html#returning-a-view-versus-a-copy\n",
      "  df_test['yhat']=1*(df_test['phat_test']>p)\n",
      "<ipython-input-124-f609bee7b8a1>:2: SettingWithCopyWarning: \n",
      "A value is trying to be set on a copy of a slice from a DataFrame.\n",
      "Try using .loc[row_indexer,col_indexer] = value instead\n",
      "\n",
      "See the caveats in the documentation: https://pandas.pydata.org/pandas-docs/stable/user_guide/indexing.html#returning-a-view-versus-a-copy\n",
      "  df_test['yhat']=1*(df_test['phat_test']>p)\n",
      "<ipython-input-124-f609bee7b8a1>:2: SettingWithCopyWarning: \n",
      "A value is trying to be set on a copy of a slice from a DataFrame.\n",
      "Try using .loc[row_indexer,col_indexer] = value instead\n",
      "\n",
      "See the caveats in the documentation: https://pandas.pydata.org/pandas-docs/stable/user_guide/indexing.html#returning-a-view-versus-a-copy\n",
      "  df_test['yhat']=1*(df_test['phat_test']>p)\n",
      "<ipython-input-124-f609bee7b8a1>:2: SettingWithCopyWarning: \n",
      "A value is trying to be set on a copy of a slice from a DataFrame.\n",
      "Try using .loc[row_indexer,col_indexer] = value instead\n",
      "\n",
      "See the caveats in the documentation: https://pandas.pydata.org/pandas-docs/stable/user_guide/indexing.html#returning-a-view-versus-a-copy\n",
      "  df_test['yhat']=1*(df_test['phat_test']>p)\n",
      "<ipython-input-124-f609bee7b8a1>:2: SettingWithCopyWarning: \n",
      "A value is trying to be set on a copy of a slice from a DataFrame.\n",
      "Try using .loc[row_indexer,col_indexer] = value instead\n",
      "\n",
      "See the caveats in the documentation: https://pandas.pydata.org/pandas-docs/stable/user_guide/indexing.html#returning-a-view-versus-a-copy\n",
      "  df_test['yhat']=1*(df_test['phat_test']>p)\n",
      "<ipython-input-124-f609bee7b8a1>:2: SettingWithCopyWarning: \n",
      "A value is trying to be set on a copy of a slice from a DataFrame.\n",
      "Try using .loc[row_indexer,col_indexer] = value instead\n",
      "\n",
      "See the caveats in the documentation: https://pandas.pydata.org/pandas-docs/stable/user_guide/indexing.html#returning-a-view-versus-a-copy\n",
      "  df_test['yhat']=1*(df_test['phat_test']>p)\n",
      "<ipython-input-124-f609bee7b8a1>:2: SettingWithCopyWarning: \n",
      "A value is trying to be set on a copy of a slice from a DataFrame.\n",
      "Try using .loc[row_indexer,col_indexer] = value instead\n",
      "\n",
      "See the caveats in the documentation: https://pandas.pydata.org/pandas-docs/stable/user_guide/indexing.html#returning-a-view-versus-a-copy\n",
      "  df_test['yhat']=1*(df_test['phat_test']>p)\n",
      "<ipython-input-124-f609bee7b8a1>:2: SettingWithCopyWarning: \n",
      "A value is trying to be set on a copy of a slice from a DataFrame.\n",
      "Try using .loc[row_indexer,col_indexer] = value instead\n",
      "\n",
      "See the caveats in the documentation: https://pandas.pydata.org/pandas-docs/stable/user_guide/indexing.html#returning-a-view-versus-a-copy\n",
      "  df_test['yhat']=1*(df_test['phat_test']>p)\n",
      "<ipython-input-124-f609bee7b8a1>:2: SettingWithCopyWarning: \n",
      "A value is trying to be set on a copy of a slice from a DataFrame.\n",
      "Try using .loc[row_indexer,col_indexer] = value instead\n",
      "\n",
      "See the caveats in the documentation: https://pandas.pydata.org/pandas-docs/stable/user_guide/indexing.html#returning-a-view-versus-a-copy\n",
      "  df_test['yhat']=1*(df_test['phat_test']>p)\n",
      "<ipython-input-124-f609bee7b8a1>:2: SettingWithCopyWarning: \n",
      "A value is trying to be set on a copy of a slice from a DataFrame.\n",
      "Try using .loc[row_indexer,col_indexer] = value instead\n",
      "\n",
      "See the caveats in the documentation: https://pandas.pydata.org/pandas-docs/stable/user_guide/indexing.html#returning-a-view-versus-a-copy\n",
      "  df_test['yhat']=1*(df_test['phat_test']>p)\n",
      "<ipython-input-124-f609bee7b8a1>:2: SettingWithCopyWarning: \n",
      "A value is trying to be set on a copy of a slice from a DataFrame.\n",
      "Try using .loc[row_indexer,col_indexer] = value instead\n",
      "\n",
      "See the caveats in the documentation: https://pandas.pydata.org/pandas-docs/stable/user_guide/indexing.html#returning-a-view-versus-a-copy\n",
      "  df_test['yhat']=1*(df_test['phat_test']>p)\n",
      "<ipython-input-124-f609bee7b8a1>:2: SettingWithCopyWarning: \n",
      "A value is trying to be set on a copy of a slice from a DataFrame.\n",
      "Try using .loc[row_indexer,col_indexer] = value instead\n",
      "\n",
      "See the caveats in the documentation: https://pandas.pydata.org/pandas-docs/stable/user_guide/indexing.html#returning-a-view-versus-a-copy\n",
      "  df_test['yhat']=1*(df_test['phat_test']>p)\n",
      "<ipython-input-124-f609bee7b8a1>:2: SettingWithCopyWarning: \n",
      "A value is trying to be set on a copy of a slice from a DataFrame.\n",
      "Try using .loc[row_indexer,col_indexer] = value instead\n",
      "\n",
      "See the caveats in the documentation: https://pandas.pydata.org/pandas-docs/stable/user_guide/indexing.html#returning-a-view-versus-a-copy\n",
      "  df_test['yhat']=1*(df_test['phat_test']>p)\n",
      "<ipython-input-124-f609bee7b8a1>:2: SettingWithCopyWarning: \n",
      "A value is trying to be set on a copy of a slice from a DataFrame.\n",
      "Try using .loc[row_indexer,col_indexer] = value instead\n",
      "\n",
      "See the caveats in the documentation: https://pandas.pydata.org/pandas-docs/stable/user_guide/indexing.html#returning-a-view-versus-a-copy\n",
      "  df_test['yhat']=1*(df_test['phat_test']>p)\n",
      "<ipython-input-124-f609bee7b8a1>:2: SettingWithCopyWarning: \n",
      "A value is trying to be set on a copy of a slice from a DataFrame.\n",
      "Try using .loc[row_indexer,col_indexer] = value instead\n",
      "\n",
      "See the caveats in the documentation: https://pandas.pydata.org/pandas-docs/stable/user_guide/indexing.html#returning-a-view-versus-a-copy\n",
      "  df_test['yhat']=1*(df_test['phat_test']>p)\n",
      "<ipython-input-124-f609bee7b8a1>:2: SettingWithCopyWarning: \n",
      "A value is trying to be set on a copy of a slice from a DataFrame.\n",
      "Try using .loc[row_indexer,col_indexer] = value instead\n",
      "\n",
      "See the caveats in the documentation: https://pandas.pydata.org/pandas-docs/stable/user_guide/indexing.html#returning-a-view-versus-a-copy\n",
      "  df_test['yhat']=1*(df_test['phat_test']>p)\n",
      "<ipython-input-124-f609bee7b8a1>:2: SettingWithCopyWarning: \n",
      "A value is trying to be set on a copy of a slice from a DataFrame.\n",
      "Try using .loc[row_indexer,col_indexer] = value instead\n",
      "\n",
      "See the caveats in the documentation: https://pandas.pydata.org/pandas-docs/stable/user_guide/indexing.html#returning-a-view-versus-a-copy\n",
      "  df_test['yhat']=1*(df_test['phat_test']>p)\n",
      "<ipython-input-124-f609bee7b8a1>:2: SettingWithCopyWarning: \n",
      "A value is trying to be set on a copy of a slice from a DataFrame.\n",
      "Try using .loc[row_indexer,col_indexer] = value instead\n",
      "\n",
      "See the caveats in the documentation: https://pandas.pydata.org/pandas-docs/stable/user_guide/indexing.html#returning-a-view-versus-a-copy\n",
      "  df_test['yhat']=1*(df_test['phat_test']>p)\n",
      "<ipython-input-124-f609bee7b8a1>:2: SettingWithCopyWarning: \n",
      "A value is trying to be set on a copy of a slice from a DataFrame.\n",
      "Try using .loc[row_indexer,col_indexer] = value instead\n",
      "\n",
      "See the caveats in the documentation: https://pandas.pydata.org/pandas-docs/stable/user_guide/indexing.html#returning-a-view-versus-a-copy\n",
      "  df_test['yhat']=1*(df_test['phat_test']>p)\n",
      "<ipython-input-124-f609bee7b8a1>:2: SettingWithCopyWarning: \n",
      "A value is trying to be set on a copy of a slice from a DataFrame.\n",
      "Try using .loc[row_indexer,col_indexer] = value instead\n",
      "\n",
      "See the caveats in the documentation: https://pandas.pydata.org/pandas-docs/stable/user_guide/indexing.html#returning-a-view-versus-a-copy\n",
      "  df_test['yhat']=1*(df_test['phat_test']>p)\n",
      "<ipython-input-124-f609bee7b8a1>:2: SettingWithCopyWarning: \n",
      "A value is trying to be set on a copy of a slice from a DataFrame.\n",
      "Try using .loc[row_indexer,col_indexer] = value instead\n",
      "\n",
      "See the caveats in the documentation: https://pandas.pydata.org/pandas-docs/stable/user_guide/indexing.html#returning-a-view-versus-a-copy\n",
      "  df_test['yhat']=1*(df_test['phat_test']>p)\n",
      "<ipython-input-124-f609bee7b8a1>:2: SettingWithCopyWarning: \n",
      "A value is trying to be set on a copy of a slice from a DataFrame.\n",
      "Try using .loc[row_indexer,col_indexer] = value instead\n",
      "\n",
      "See the caveats in the documentation: https://pandas.pydata.org/pandas-docs/stable/user_guide/indexing.html#returning-a-view-versus-a-copy\n",
      "  df_test['yhat']=1*(df_test['phat_test']>p)\n",
      "<ipython-input-124-f609bee7b8a1>:2: SettingWithCopyWarning: \n",
      "A value is trying to be set on a copy of a slice from a DataFrame.\n",
      "Try using .loc[row_indexer,col_indexer] = value instead\n",
      "\n",
      "See the caveats in the documentation: https://pandas.pydata.org/pandas-docs/stable/user_guide/indexing.html#returning-a-view-versus-a-copy\n",
      "  df_test['yhat']=1*(df_test['phat_test']>p)\n",
      "<ipython-input-124-f609bee7b8a1>:2: SettingWithCopyWarning: \n",
      "A value is trying to be set on a copy of a slice from a DataFrame.\n",
      "Try using .loc[row_indexer,col_indexer] = value instead\n",
      "\n",
      "See the caveats in the documentation: https://pandas.pydata.org/pandas-docs/stable/user_guide/indexing.html#returning-a-view-versus-a-copy\n",
      "  df_test['yhat']=1*(df_test['phat_test']>p)\n",
      "<ipython-input-124-f609bee7b8a1>:2: SettingWithCopyWarning: \n",
      "A value is trying to be set on a copy of a slice from a DataFrame.\n",
      "Try using .loc[row_indexer,col_indexer] = value instead\n",
      "\n",
      "See the caveats in the documentation: https://pandas.pydata.org/pandas-docs/stable/user_guide/indexing.html#returning-a-view-versus-a-copy\n",
      "  df_test['yhat']=1*(df_test['phat_test']>p)\n",
      "<ipython-input-124-f609bee7b8a1>:2: SettingWithCopyWarning: \n",
      "A value is trying to be set on a copy of a slice from a DataFrame.\n",
      "Try using .loc[row_indexer,col_indexer] = value instead\n",
      "\n",
      "See the caveats in the documentation: https://pandas.pydata.org/pandas-docs/stable/user_guide/indexing.html#returning-a-view-versus-a-copy\n",
      "  df_test['yhat']=1*(df_test['phat_test']>p)\n",
      "<ipython-input-124-f609bee7b8a1>:2: SettingWithCopyWarning: \n",
      "A value is trying to be set on a copy of a slice from a DataFrame.\n",
      "Try using .loc[row_indexer,col_indexer] = value instead\n",
      "\n",
      "See the caveats in the documentation: https://pandas.pydata.org/pandas-docs/stable/user_guide/indexing.html#returning-a-view-versus-a-copy\n",
      "  df_test['yhat']=1*(df_test['phat_test']>p)\n",
      "<ipython-input-124-f609bee7b8a1>:2: SettingWithCopyWarning: \n",
      "A value is trying to be set on a copy of a slice from a DataFrame.\n",
      "Try using .loc[row_indexer,col_indexer] = value instead\n",
      "\n",
      "See the caveats in the documentation: https://pandas.pydata.org/pandas-docs/stable/user_guide/indexing.html#returning-a-view-versus-a-copy\n",
      "  df_test['yhat']=1*(df_test['phat_test']>p)\n",
      "<ipython-input-124-f609bee7b8a1>:2: SettingWithCopyWarning: \n",
      "A value is trying to be set on a copy of a slice from a DataFrame.\n",
      "Try using .loc[row_indexer,col_indexer] = value instead\n",
      "\n",
      "See the caveats in the documentation: https://pandas.pydata.org/pandas-docs/stable/user_guide/indexing.html#returning-a-view-versus-a-copy\n",
      "  df_test['yhat']=1*(df_test['phat_test']>p)\n",
      "<ipython-input-124-f609bee7b8a1>:2: SettingWithCopyWarning: \n",
      "A value is trying to be set on a copy of a slice from a DataFrame.\n",
      "Try using .loc[row_indexer,col_indexer] = value instead\n",
      "\n",
      "See the caveats in the documentation: https://pandas.pydata.org/pandas-docs/stable/user_guide/indexing.html#returning-a-view-versus-a-copy\n",
      "  df_test['yhat']=1*(df_test['phat_test']>p)\n",
      "<ipython-input-124-f609bee7b8a1>:2: SettingWithCopyWarning: \n",
      "A value is trying to be set on a copy of a slice from a DataFrame.\n",
      "Try using .loc[row_indexer,col_indexer] = value instead\n",
      "\n",
      "See the caveats in the documentation: https://pandas.pydata.org/pandas-docs/stable/user_guide/indexing.html#returning-a-view-versus-a-copy\n",
      "  df_test['yhat']=1*(df_test['phat_test']>p)\n",
      "<ipython-input-124-f609bee7b8a1>:2: SettingWithCopyWarning: \n",
      "A value is trying to be set on a copy of a slice from a DataFrame.\n",
      "Try using .loc[row_indexer,col_indexer] = value instead\n",
      "\n",
      "See the caveats in the documentation: https://pandas.pydata.org/pandas-docs/stable/user_guide/indexing.html#returning-a-view-versus-a-copy\n",
      "  df_test['yhat']=1*(df_test['phat_test']>p)\n",
      "<ipython-input-124-f609bee7b8a1>:2: SettingWithCopyWarning: \n",
      "A value is trying to be set on a copy of a slice from a DataFrame.\n",
      "Try using .loc[row_indexer,col_indexer] = value instead\n",
      "\n",
      "See the caveats in the documentation: https://pandas.pydata.org/pandas-docs/stable/user_guide/indexing.html#returning-a-view-versus-a-copy\n",
      "  df_test['yhat']=1*(df_test['phat_test']>p)\n",
      "<ipython-input-124-f609bee7b8a1>:2: SettingWithCopyWarning: \n",
      "A value is trying to be set on a copy of a slice from a DataFrame.\n",
      "Try using .loc[row_indexer,col_indexer] = value instead\n",
      "\n",
      "See the caveats in the documentation: https://pandas.pydata.org/pandas-docs/stable/user_guide/indexing.html#returning-a-view-versus-a-copy\n",
      "  df_test['yhat']=1*(df_test['phat_test']>p)\n",
      "<ipython-input-124-f609bee7b8a1>:2: SettingWithCopyWarning: \n",
      "A value is trying to be set on a copy of a slice from a DataFrame.\n",
      "Try using .loc[row_indexer,col_indexer] = value instead\n",
      "\n",
      "See the caveats in the documentation: https://pandas.pydata.org/pandas-docs/stable/user_guide/indexing.html#returning-a-view-versus-a-copy\n",
      "  df_test['yhat']=1*(df_test['phat_test']>p)\n",
      "<ipython-input-124-f609bee7b8a1>:2: SettingWithCopyWarning: \n",
      "A value is trying to be set on a copy of a slice from a DataFrame.\n",
      "Try using .loc[row_indexer,col_indexer] = value instead\n",
      "\n",
      "See the caveats in the documentation: https://pandas.pydata.org/pandas-docs/stable/user_guide/indexing.html#returning-a-view-versus-a-copy\n",
      "  df_test['yhat']=1*(df_test['phat_test']>p)\n",
      "<ipython-input-124-f609bee7b8a1>:2: SettingWithCopyWarning: \n",
      "A value is trying to be set on a copy of a slice from a DataFrame.\n",
      "Try using .loc[row_indexer,col_indexer] = value instead\n",
      "\n",
      "See the caveats in the documentation: https://pandas.pydata.org/pandas-docs/stable/user_guide/indexing.html#returning-a-view-versus-a-copy\n",
      "  df_test['yhat']=1*(df_test['phat_test']>p)\n",
      "<ipython-input-124-f609bee7b8a1>:2: SettingWithCopyWarning: \n",
      "A value is trying to be set on a copy of a slice from a DataFrame.\n",
      "Try using .loc[row_indexer,col_indexer] = value instead\n",
      "\n",
      "See the caveats in the documentation: https://pandas.pydata.org/pandas-docs/stable/user_guide/indexing.html#returning-a-view-versus-a-copy\n",
      "  df_test['yhat']=1*(df_test['phat_test']>p)\n",
      "<ipython-input-124-f609bee7b8a1>:2: SettingWithCopyWarning: \n",
      "A value is trying to be set on a copy of a slice from a DataFrame.\n",
      "Try using .loc[row_indexer,col_indexer] = value instead\n",
      "\n",
      "See the caveats in the documentation: https://pandas.pydata.org/pandas-docs/stable/user_guide/indexing.html#returning-a-view-versus-a-copy\n",
      "  df_test['yhat']=1*(df_test['phat_test']>p)\n",
      "<ipython-input-124-f609bee7b8a1>:2: SettingWithCopyWarning: \n",
      "A value is trying to be set on a copy of a slice from a DataFrame.\n",
      "Try using .loc[row_indexer,col_indexer] = value instead\n",
      "\n",
      "See the caveats in the documentation: https://pandas.pydata.org/pandas-docs/stable/user_guide/indexing.html#returning-a-view-versus-a-copy\n",
      "  df_test['yhat']=1*(df_test['phat_test']>p)\n",
      "<ipython-input-124-f609bee7b8a1>:2: SettingWithCopyWarning: \n",
      "A value is trying to be set on a copy of a slice from a DataFrame.\n",
      "Try using .loc[row_indexer,col_indexer] = value instead\n",
      "\n",
      "See the caveats in the documentation: https://pandas.pydata.org/pandas-docs/stable/user_guide/indexing.html#returning-a-view-versus-a-copy\n",
      "  df_test['yhat']=1*(df_test['phat_test']>p)\n",
      "<ipython-input-124-f609bee7b8a1>:2: SettingWithCopyWarning: \n",
      "A value is trying to be set on a copy of a slice from a DataFrame.\n",
      "Try using .loc[row_indexer,col_indexer] = value instead\n",
      "\n",
      "See the caveats in the documentation: https://pandas.pydata.org/pandas-docs/stable/user_guide/indexing.html#returning-a-view-versus-a-copy\n",
      "  df_test['yhat']=1*(df_test['phat_test']>p)\n",
      "<ipython-input-124-f609bee7b8a1>:2: SettingWithCopyWarning: \n",
      "A value is trying to be set on a copy of a slice from a DataFrame.\n",
      "Try using .loc[row_indexer,col_indexer] = value instead\n",
      "\n",
      "See the caveats in the documentation: https://pandas.pydata.org/pandas-docs/stable/user_guide/indexing.html#returning-a-view-versus-a-copy\n",
      "  df_test['yhat']=1*(df_test['phat_test']>p)\n",
      "<ipython-input-124-f609bee7b8a1>:2: SettingWithCopyWarning: \n",
      "A value is trying to be set on a copy of a slice from a DataFrame.\n",
      "Try using .loc[row_indexer,col_indexer] = value instead\n",
      "\n",
      "See the caveats in the documentation: https://pandas.pydata.org/pandas-docs/stable/user_guide/indexing.html#returning-a-view-versus-a-copy\n",
      "  df_test['yhat']=1*(df_test['phat_test']>p)\n",
      "<ipython-input-124-f609bee7b8a1>:2: SettingWithCopyWarning: \n",
      "A value is trying to be set on a copy of a slice from a DataFrame.\n",
      "Try using .loc[row_indexer,col_indexer] = value instead\n",
      "\n",
      "See the caveats in the documentation: https://pandas.pydata.org/pandas-docs/stable/user_guide/indexing.html#returning-a-view-versus-a-copy\n",
      "  df_test['yhat']=1*(df_test['phat_test']>p)\n",
      "<ipython-input-124-f609bee7b8a1>:2: SettingWithCopyWarning: \n",
      "A value is trying to be set on a copy of a slice from a DataFrame.\n",
      "Try using .loc[row_indexer,col_indexer] = value instead\n",
      "\n",
      "See the caveats in the documentation: https://pandas.pydata.org/pandas-docs/stable/user_guide/indexing.html#returning-a-view-versus-a-copy\n",
      "  df_test['yhat']=1*(df_test['phat_test']>p)\n",
      "<ipython-input-124-f609bee7b8a1>:2: SettingWithCopyWarning: \n",
      "A value is trying to be set on a copy of a slice from a DataFrame.\n",
      "Try using .loc[row_indexer,col_indexer] = value instead\n",
      "\n",
      "See the caveats in the documentation: https://pandas.pydata.org/pandas-docs/stable/user_guide/indexing.html#returning-a-view-versus-a-copy\n",
      "  df_test['yhat']=1*(df_test['phat_test']>p)\n",
      "<ipython-input-124-f609bee7b8a1>:2: SettingWithCopyWarning: \n",
      "A value is trying to be set on a copy of a slice from a DataFrame.\n",
      "Try using .loc[row_indexer,col_indexer] = value instead\n",
      "\n",
      "See the caveats in the documentation: https://pandas.pydata.org/pandas-docs/stable/user_guide/indexing.html#returning-a-view-versus-a-copy\n",
      "  df_test['yhat']=1*(df_test['phat_test']>p)\n",
      "<ipython-input-124-f609bee7b8a1>:2: SettingWithCopyWarning: \n",
      "A value is trying to be set on a copy of a slice from a DataFrame.\n",
      "Try using .loc[row_indexer,col_indexer] = value instead\n",
      "\n",
      "See the caveats in the documentation: https://pandas.pydata.org/pandas-docs/stable/user_guide/indexing.html#returning-a-view-versus-a-copy\n",
      "  df_test['yhat']=1*(df_test['phat_test']>p)\n",
      "<ipython-input-124-f609bee7b8a1>:2: SettingWithCopyWarning: \n",
      "A value is trying to be set on a copy of a slice from a DataFrame.\n",
      "Try using .loc[row_indexer,col_indexer] = value instead\n",
      "\n",
      "See the caveats in the documentation: https://pandas.pydata.org/pandas-docs/stable/user_guide/indexing.html#returning-a-view-versus-a-copy\n",
      "  df_test['yhat']=1*(df_test['phat_test']>p)\n",
      "<ipython-input-124-f609bee7b8a1>:2: SettingWithCopyWarning: \n",
      "A value is trying to be set on a copy of a slice from a DataFrame.\n",
      "Try using .loc[row_indexer,col_indexer] = value instead\n",
      "\n",
      "See the caveats in the documentation: https://pandas.pydata.org/pandas-docs/stable/user_guide/indexing.html#returning-a-view-versus-a-copy\n",
      "  df_test['yhat']=1*(df_test['phat_test']>p)\n",
      "<ipython-input-124-f609bee7b8a1>:2: SettingWithCopyWarning: \n",
      "A value is trying to be set on a copy of a slice from a DataFrame.\n",
      "Try using .loc[row_indexer,col_indexer] = value instead\n",
      "\n",
      "See the caveats in the documentation: https://pandas.pydata.org/pandas-docs/stable/user_guide/indexing.html#returning-a-view-versus-a-copy\n",
      "  df_test['yhat']=1*(df_test['phat_test']>p)\n",
      "<ipython-input-124-f609bee7b8a1>:2: SettingWithCopyWarning: \n",
      "A value is trying to be set on a copy of a slice from a DataFrame.\n",
      "Try using .loc[row_indexer,col_indexer] = value instead\n",
      "\n",
      "See the caveats in the documentation: https://pandas.pydata.org/pandas-docs/stable/user_guide/indexing.html#returning-a-view-versus-a-copy\n",
      "  df_test['yhat']=1*(df_test['phat_test']>p)\n",
      "<ipython-input-124-f609bee7b8a1>:2: SettingWithCopyWarning: \n",
      "A value is trying to be set on a copy of a slice from a DataFrame.\n",
      "Try using .loc[row_indexer,col_indexer] = value instead\n",
      "\n",
      "See the caveats in the documentation: https://pandas.pydata.org/pandas-docs/stable/user_guide/indexing.html#returning-a-view-versus-a-copy\n",
      "  df_test['yhat']=1*(df_test['phat_test']>p)\n",
      "<ipython-input-124-f609bee7b8a1>:2: SettingWithCopyWarning: \n",
      "A value is trying to be set on a copy of a slice from a DataFrame.\n",
      "Try using .loc[row_indexer,col_indexer] = value instead\n",
      "\n",
      "See the caveats in the documentation: https://pandas.pydata.org/pandas-docs/stable/user_guide/indexing.html#returning-a-view-versus-a-copy\n",
      "  df_test['yhat']=1*(df_test['phat_test']>p)\n",
      "<ipython-input-124-f609bee7b8a1>:2: SettingWithCopyWarning: \n",
      "A value is trying to be set on a copy of a slice from a DataFrame.\n",
      "Try using .loc[row_indexer,col_indexer] = value instead\n",
      "\n",
      "See the caveats in the documentation: https://pandas.pydata.org/pandas-docs/stable/user_guide/indexing.html#returning-a-view-versus-a-copy\n",
      "  df_test['yhat']=1*(df_test['phat_test']>p)\n",
      "<ipython-input-124-f609bee7b8a1>:2: SettingWithCopyWarning: \n",
      "A value is trying to be set on a copy of a slice from a DataFrame.\n",
      "Try using .loc[row_indexer,col_indexer] = value instead\n",
      "\n",
      "See the caveats in the documentation: https://pandas.pydata.org/pandas-docs/stable/user_guide/indexing.html#returning-a-view-versus-a-copy\n",
      "  df_test['yhat']=1*(df_test['phat_test']>p)\n",
      "<ipython-input-124-f609bee7b8a1>:2: SettingWithCopyWarning: \n",
      "A value is trying to be set on a copy of a slice from a DataFrame.\n",
      "Try using .loc[row_indexer,col_indexer] = value instead\n",
      "\n",
      "See the caveats in the documentation: https://pandas.pydata.org/pandas-docs/stable/user_guide/indexing.html#returning-a-view-versus-a-copy\n",
      "  df_test['yhat']=1*(df_test['phat_test']>p)\n",
      "<ipython-input-124-f609bee7b8a1>:2: SettingWithCopyWarning: \n",
      "A value is trying to be set on a copy of a slice from a DataFrame.\n",
      "Try using .loc[row_indexer,col_indexer] = value instead\n",
      "\n",
      "See the caveats in the documentation: https://pandas.pydata.org/pandas-docs/stable/user_guide/indexing.html#returning-a-view-versus-a-copy\n",
      "  df_test['yhat']=1*(df_test['phat_test']>p)\n",
      "<ipython-input-124-f609bee7b8a1>:2: SettingWithCopyWarning: \n",
      "A value is trying to be set on a copy of a slice from a DataFrame.\n",
      "Try using .loc[row_indexer,col_indexer] = value instead\n",
      "\n",
      "See the caveats in the documentation: https://pandas.pydata.org/pandas-docs/stable/user_guide/indexing.html#returning-a-view-versus-a-copy\n",
      "  df_test['yhat']=1*(df_test['phat_test']>p)\n",
      "<ipython-input-124-f609bee7b8a1>:2: SettingWithCopyWarning: \n",
      "A value is trying to be set on a copy of a slice from a DataFrame.\n",
      "Try using .loc[row_indexer,col_indexer] = value instead\n",
      "\n",
      "See the caveats in the documentation: https://pandas.pydata.org/pandas-docs/stable/user_guide/indexing.html#returning-a-view-versus-a-copy\n",
      "  df_test['yhat']=1*(df_test['phat_test']>p)\n",
      "<ipython-input-124-f609bee7b8a1>:2: SettingWithCopyWarning: \n",
      "A value is trying to be set on a copy of a slice from a DataFrame.\n",
      "Try using .loc[row_indexer,col_indexer] = value instead\n",
      "\n",
      "See the caveats in the documentation: https://pandas.pydata.org/pandas-docs/stable/user_guide/indexing.html#returning-a-view-versus-a-copy\n",
      "  df_test['yhat']=1*(df_test['phat_test']>p)\n",
      "<ipython-input-124-f609bee7b8a1>:2: SettingWithCopyWarning: \n",
      "A value is trying to be set on a copy of a slice from a DataFrame.\n",
      "Try using .loc[row_indexer,col_indexer] = value instead\n",
      "\n",
      "See the caveats in the documentation: https://pandas.pydata.org/pandas-docs/stable/user_guide/indexing.html#returning-a-view-versus-a-copy\n",
      "  df_test['yhat']=1*(df_test['phat_test']>p)\n"
     ]
    }
   ],
   "source": [
    "for p in np.arange(0,1.01,.01):\n",
    "    df_test['yhat']=1*(df_test['phat_test']>p)\n",
    "    tn, fp, fn, tp = confusion_matrix(y_true=df_test['y'], y_pred=df_test['yhat']).ravel()\n",
    "    tpr=tp/(tp+fn)\n",
    "    fpr=fp/(tn+fp)\n",
    "    print('Threshold:', p, 'FPR:', fpr, 'TPR:', tpr)"
   ]
  },
  {
   "cell_type": "code",
   "execution_count": null,
   "metadata": {
    "scrolled": false
   },
   "outputs": [],
   "source": []
  },
  {
   "cell_type": "markdown",
   "metadata": {},
   "source": [
    "At a threshold of 0.22, we will receuve the lowest FPR."
   ]
  },
  {
   "cell_type": "markdown",
   "metadata": {},
   "source": [
    "### 5.9. Use this predictive probabilty threshold (from 5.8) to classify the *test data*. Then calculate the sensitivity and the specificity of this classification."
   ]
  },
  {
   "cell_type": "code",
   "execution_count": 126,
   "metadata": {},
   "outputs": [
    {
     "name": "stderr",
     "output_type": "stream",
     "text": [
      "<ipython-input-126-631e2e3ed19e>:1: SettingWithCopyWarning: \n",
      "A value is trying to be set on a copy of a slice from a DataFrame.\n",
      "Try using .loc[row_indexer,col_indexer] = value instead\n",
      "\n",
      "See the caveats in the documentation: https://pandas.pydata.org/pandas-docs/stable/user_guide/indexing.html#returning-a-view-versus-a-copy\n",
      "  df_test['yhat']=1*(df_test['phat_test']>0.22)\n"
     ]
    }
   ],
   "source": [
    "df_test['yhat']=1*(df_test['phat_test']>0.22)\n",
    "tn, fp, fn, tp = confusion_matrix(y_true=df_test['y'], y_pred=df_test['yhat']).ravel()"
   ]
  },
  {
   "cell_type": "code",
   "execution_count": 127,
   "metadata": {},
   "outputs": [
    {
     "data": {
      "text/plain": [
       "0.9629629629629629"
      ]
     },
     "execution_count": 127,
     "metadata": {},
     "output_type": "execute_result"
    }
   ],
   "source": [
    "sensitivity = tp/(tp+fn)\n",
    "sensitivity"
   ]
  },
  {
   "cell_type": "code",
   "execution_count": 128,
   "metadata": {},
   "outputs": [
    {
     "data": {
      "text/plain": [
       "0.559322033898305"
      ]
     },
     "execution_count": 128,
     "metadata": {},
     "output_type": "execute_result"
    }
   ],
   "source": [
    "specificity = tn/(tn+fp)\n",
    "specificity"
   ]
  },
  {
   "cell_type": "markdown",
   "metadata": {},
   "source": [
    "## 6. Probability\n",
    "\n",
    "In this last section, we will use this dataset to review some probability concepts from the beginning of the semester.\n",
    "\n",
    "### 6.1. What is the probability of randomly selecting a listing that has a superhost from the cleaned dataset?"
   ]
  },
  {
   "cell_type": "code",
   "execution_count": 132,
   "metadata": {},
   "outputs": [
    {
     "name": "stdout",
     "output_type": "stream",
     "text": [
      "0.29737609329446063\n"
     ]
    }
   ],
   "source": [
    "df_superhost = df[df['host_is_superhost'] == 't']\n",
    "print(df_superhost.shape[0]/df.shape[0])"
   ]
  },
  {
   "cell_type": "markdown",
   "metadata": {},
   "source": [
    "### 6.2. *Theoretical* Probability Calculation\n",
    "\n",
    "Suppose we were to randomly select a random sample of 5 listings from our cleaned dataset. What is the probability that <u>exactly 2</u> of these listings would have a host that is a super host?\n",
    "\n",
    "(<u>Note</u>:I'm not looking for you to *actually* collect this random sample in 6.2. You should use the mathematical equations that we learned in this class to calculate this probability)."
   ]
  },
  {
   "cell_type": "markdown",
   "metadata": {},
   "source": [
    "We know the probability of choosing 5 listings with exactly two of these listings being superhost listings is equal to:\n",
    "\n",
    "(P(choosing not-superhost))^3 * (P(choosing superhost))^2\n",
    "\n",
    "However, the order in which we choose does not matter, so we must account for all the different arrangements of this. Since there are 5 choose 2 = 10 different ways to randomly select a sample with exactly 2 listings being a superhost, we can multiply the equation above by 10."
   ]
  },
  {
   "cell_type": "code",
   "execution_count": 135,
   "metadata": {},
   "outputs": [
    {
     "name": "stdout",
     "output_type": "stream",
     "text": [
      "0.3067473863771981\n"
     ]
    }
   ],
   "source": [
    "print(((df_superhost.shape[0]/df.shape[0])**2 * (1-(df_superhost.shape[0]/df.shape[0]))**3)*10)"
   ]
  },
  {
   "cell_type": "markdown",
   "metadata": {},
   "source": [
    "### 6.3. *Approximate* Probability Calculation\n",
    "\n",
    "Finally, we would like to approximate the probability that <u>exactly 2</u> of these listings would have a host that is a super host. We will do this with the following approximation procedure.\n",
    "\n",
    "1. Do the following 100 times.\n",
    "    * Collect a random sample of size 5 (without replacement) from the cleaned dataframe.\n",
    "    * Calculate the number of listings in the sample that had a superhost and add this number to a list.\n",
    "2. Your completed list should have 100 numbers in it. Put this list into a dataframe.\n",
    "3. Finally calculate the percent of numbers in this list that are equal to 2."
   ]
  },
  {
   "cell_type": "code",
   "execution_count": 173,
   "metadata": {},
   "outputs": [],
   "source": [
    "def test_two_superhosts(df):\n",
    "    counts=df['host_is_superhost'].value_counts()\n",
    "    if 't' not in counts.index:\n",
    "        return False\n",
    "    else:\n",
    "        if counts['t'] != 2:\n",
    "            return False\n",
    "        else:\n",
    "            return True"
   ]
  },
  {
   "cell_type": "code",
   "execution_count": 182,
   "metadata": {},
   "outputs": [],
   "source": [
    "count = 0\n",
    "n_iterations = 100\n",
    "for i in range(n_iterations):\n",
    "\n",
    " #Draws a sample of 5 cards\n",
    " new_sample=df.sample(5)\n",
    "\n",
    " #Tests whether the randomly sampled hand has exactly two diamonds.\n",
    " count+=test_two_superhosts(new_sample)"
   ]
  },
  {
   "cell_type": "code",
   "execution_count": 183,
   "metadata": {},
   "outputs": [
    {
     "name": "stdout",
     "output_type": "stream",
     "text": [
      "0.31\n"
     ]
    }
   ],
   "source": [
    "print(count/100)"
   ]
  },
  {
   "cell_type": "markdown",
   "metadata": {},
   "source": [
    "### 6.4. How far apart are your answers from 6.2 and 6.3?"
   ]
  },
  {
   "cell_type": "code",
   "execution_count": 163,
   "metadata": {},
   "outputs": [
    {
     "name": "stdout",
     "output_type": "stream",
     "text": [
      "0.003252613622801881\n"
     ]
    }
   ],
   "source": [
    "print(0.31 - 0.3067473863771981)"
   ]
  },
  {
   "cell_type": "markdown",
   "metadata": {},
   "source": [
    "They're pretty close."
   ]
  }
 ],
 "metadata": {
  "kernelspec": {
   "display_name": "Python 3",
   "language": "python",
   "name": "python3"
  },
  "language_info": {
   "codemirror_mode": {
    "name": "ipython",
    "version": 3
   },
   "file_extension": ".py",
   "mimetype": "text/x-python",
   "name": "python",
   "nbconvert_exporter": "python",
   "pygments_lexer": "ipython3",
   "version": "3.8.5"
  }
 },
 "nbformat": 4,
 "nbformat_minor": 4
}
