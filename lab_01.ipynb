{
 "cells": [
  {
   "cell_type": "markdown",
   "metadata": {},
   "source": [
    "## STAT 207 Lab 1: Python with Jupyter Notebooks [25 total points]"
   ]
  },
  {
   "cell_type": "markdown",
   "metadata": {},
   "source": [
    "Due: Wednesday, February 3, 11:59pm CST"
   ]
  },
  {
   "cell_type": "markdown",
   "metadata": {},
   "source": [
    "Matt Hamilton (mjh16)"
   ]
  },
  {
   "cell_type": "markdown",
   "metadata": {},
   "source": [
    "## Instructions:\n",
    "\n",
    "**Part 1.** [10 pts for successfully submitting this notebook to Github]\n",
    "\n",
    "Make sure you have the following packages installed for Python on your computer: pandas, matplotlib.pyplot, seaborn.\n",
    "To install them, launch a **command line window** and issue commands of the form:\n",
    "\n",
    "    conda install *package_name_here*\n",
    "    \n",
    "To check if they are installed issue the command:\n",
    "\n",
    "    conda list\n",
    "    \n",
    "and look through the list to make sure the packages you need are there. When done, return to this notebook."
   ]
  },
  {
   "cell_type": "markdown",
   "metadata": {},
   "source": [
    "**Part 2.** [5 points for getting the code below to run]\n",
    "\n",
    "After ensuring that the packages listed above are installed on your computer import them here in the notebook by running the following commands. You should be able to do this by clicking anywhere inside the cell to select it and then hitting the 'Run' button in the menu at the top of this page."
   ]
  },
  {
   "cell_type": "code",
   "execution_count": 2,
   "metadata": {},
   "outputs": [],
   "source": [
    "import pandas as pd                    # imports pandas and calls the imported version 'pd'\n",
    "import matplotlib.pyplot as plt        # imports the package and calls it 'plt'\n",
    "import seaborn as sns                  # imports the seaborn package with the imported name 'sns'\n",
    "sns.set()                              # sets the default plotting style"
   ]
  },
  {
   "cell_type": "markdown",
   "metadata": {
    "scrolled": true
   },
   "source": [
    "**Part 3.**\n",
    "\n",
    "**a)** [3 points] You should have a file \"smoking.csv\" in the same folder as this notebook. Read the file into a pandas data frame. You may call it \"df\" or whatever you like. As illustrated in the class notes, use the .head() function to display the first several lines of the data frame. "
   ]
  },
  {
   "cell_type": "code",
   "execution_count": 5,
   "metadata": {
    "scrolled": true
   },
   "outputs": [
    {
     "data": {
      "text/html": [
       "<div>\n",
       "<style scoped>\n",
       "    .dataframe tbody tr th:only-of-type {\n",
       "        vertical-align: middle;\n",
       "    }\n",
       "\n",
       "    .dataframe tbody tr th {\n",
       "        vertical-align: top;\n",
       "    }\n",
       "\n",
       "    .dataframe thead th {\n",
       "        text-align: right;\n",
       "    }\n",
       "</style>\n",
       "<table border=\"1\" class=\"dataframe\">\n",
       "  <thead>\n",
       "    <tr style=\"text-align: right;\">\n",
       "      <th></th>\n",
       "      <th>age</th>\n",
       "      <th>marital_status</th>\n",
       "      <th>highest_qualification</th>\n",
       "      <th>nationality</th>\n",
       "      <th>gross_income</th>\n",
       "      <th>region</th>\n",
       "      <th>smoke</th>\n",
       "      <th>amt_weekends</th>\n",
       "      <th>amt_weekdays</th>\n",
       "      <th>type</th>\n",
       "    </tr>\n",
       "    <tr>\n",
       "      <th>sex</th>\n",
       "      <th></th>\n",
       "      <th></th>\n",
       "      <th></th>\n",
       "      <th></th>\n",
       "      <th></th>\n",
       "      <th></th>\n",
       "      <th></th>\n",
       "      <th></th>\n",
       "      <th></th>\n",
       "      <th></th>\n",
       "    </tr>\n",
       "  </thead>\n",
       "  <tbody>\n",
       "    <tr>\n",
       "      <th>Female</th>\n",
       "      <td>42</td>\n",
       "      <td>Single</td>\n",
       "      <td>No Qualification</td>\n",
       "      <td>British</td>\n",
       "      <td>Under 2,600</td>\n",
       "      <td>The North</td>\n",
       "      <td>Yes</td>\n",
       "      <td>12</td>\n",
       "      <td>12</td>\n",
       "      <td>Packets</td>\n",
       "    </tr>\n",
       "    <tr>\n",
       "      <th>Male</th>\n",
       "      <td>53</td>\n",
       "      <td>Married</td>\n",
       "      <td>Degree</td>\n",
       "      <td>British</td>\n",
       "      <td>Above 36,400</td>\n",
       "      <td>The North</td>\n",
       "      <td>Yes</td>\n",
       "      <td>6</td>\n",
       "      <td>6</td>\n",
       "      <td>Packets</td>\n",
       "    </tr>\n",
       "    <tr>\n",
       "      <th>Male</th>\n",
       "      <td>40</td>\n",
       "      <td>Single</td>\n",
       "      <td>GCSE/CSE</td>\n",
       "      <td>English</td>\n",
       "      <td>2,600 to 5,200</td>\n",
       "      <td>The North</td>\n",
       "      <td>Yes</td>\n",
       "      <td>8</td>\n",
       "      <td>8</td>\n",
       "      <td>Hand-Rolled</td>\n",
       "    </tr>\n",
       "    <tr>\n",
       "      <th>Female</th>\n",
       "      <td>41</td>\n",
       "      <td>Married</td>\n",
       "      <td>No Qualification</td>\n",
       "      <td>English</td>\n",
       "      <td>5,200 to 10,400</td>\n",
       "      <td>The North</td>\n",
       "      <td>Yes</td>\n",
       "      <td>15</td>\n",
       "      <td>12</td>\n",
       "      <td>Packets</td>\n",
       "    </tr>\n",
       "    <tr>\n",
       "      <th>Female</th>\n",
       "      <td>34</td>\n",
       "      <td>Married</td>\n",
       "      <td>GCSE/CSE</td>\n",
       "      <td>British</td>\n",
       "      <td>2,600 to 5,200</td>\n",
       "      <td>The North</td>\n",
       "      <td>Yes</td>\n",
       "      <td>6</td>\n",
       "      <td>12</td>\n",
       "      <td>Packets</td>\n",
       "    </tr>\n",
       "  </tbody>\n",
       "</table>\n",
       "</div>"
      ],
      "text/plain": [
       "        age marital_status highest_qualification nationality     gross_income  \\\n",
       "sex                                                                             \n",
       "Female   42         Single      No Qualification     British      Under 2,600   \n",
       "Male     53        Married                Degree     British     Above 36,400   \n",
       "Male     40         Single              GCSE/CSE     English   2,600 to 5,200   \n",
       "Female   41        Married      No Qualification     English  5,200 to 10,400   \n",
       "Female   34        Married              GCSE/CSE     British   2,600 to 5,200   \n",
       "\n",
       "           region smoke  amt_weekends  amt_weekdays         type  \n",
       "sex                                                               \n",
       "Female  The North   Yes            12            12      Packets  \n",
       "Male    The North   Yes             6             6      Packets  \n",
       "Male    The North   Yes             8             8  Hand-Rolled  \n",
       "Female  The North   Yes            15            12      Packets  \n",
       "Female  The North   Yes             6            12      Packets  "
      ]
     },
     "execution_count": 5,
     "metadata": {},
     "output_type": "execute_result"
    }
   ],
   "source": [
    "df = pd.read_csv('smoking.csv', index_col=0)\n",
    "df.head()"
   ]
  },
  {
   "cell_type": "markdown",
   "metadata": {},
   "source": [
    "**b)** [1 point] Use .shape to determine how many observations (rows) there are."
   ]
  },
  {
   "cell_type": "code",
   "execution_count": 6,
   "metadata": {},
   "outputs": [
    {
     "data": {
      "text/plain": [
       "(421, 10)"
      ]
     },
     "execution_count": 6,
     "metadata": {},
     "output_type": "execute_result"
    }
   ],
   "source": [
    "df.shape"
   ]
  },
  {
   "cell_type": "markdown",
   "metadata": {},
   "source": [
    "**Part 4.**\n",
    "\n",
    "The data contains several variables involving demographic information and smoking habit information from a **random sample** of smokers living in the United Kingdom. The third column, 'marital_status' contains information regarding the marital status of each of the smokers.\n",
    "\n",
    "**a)** [3 points] Using python commands in the cell below, determine how many smokers in this dataset are single, married, divorced, widowed, and separated. (see class notes)"
   ]
  },
  {
   "cell_type": "code",
   "execution_count": 7,
   "metadata": {},
   "outputs": [
    {
     "data": {
      "text/plain": [
       "Single       158\n",
       "Married      143\n",
       "Divorced      58\n",
       "Widowed       40\n",
       "Separated     22\n",
       "Name: marital_status, dtype: int64"
      ]
     },
     "execution_count": 7,
     "metadata": {},
     "output_type": "execute_result"
    }
   ],
   "source": [
    "df['marital_status'].value_counts()"
   ]
  },
  {
   "cell_type": "markdown",
   "metadata": {},
   "source": [
    "**b)** [3 points] Using python commands in the cell below, make a barplot that shows the **counts** for the number of smokers in the dataset that are single, married, divorced, widowed, and separated.\n",
    "\n",
    "Be sure to include:\n",
    "* a title\n",
    "* an appropriate label for your x-axis\n",
    "* an appropriate label for your y-axis."
   ]
  },
  {
   "cell_type": "code",
   "execution_count": 8,
   "metadata": {},
   "outputs": [
    {
     "data": {
      "text/plain": [
       "(5,)"
      ]
     },
     "metadata": {},
     "output_type": "display_data"
    },
    {
     "data": {
      "text/plain": [
       "Single       158\n",
       "Married      143\n",
       "Divorced      58\n",
       "Widowed       40\n",
       "Separated     22\n",
       "Name: marital_status, dtype: int64"
      ]
     },
     "metadata": {},
     "output_type": "display_data"
    }
   ],
   "source": [
    "marital_status_counts = df['marital_status'].value_counts()\n",
    "display(marital_status_counts.shape, marital_status_counts)\n"
   ]
  },
  {
   "cell_type": "code",
   "execution_count": 9,
   "metadata": {},
   "outputs": [
    {
     "data": {
      "image/png": "[encoded data removed]",
      "text/plain": [
       "<Figure size 432x288 with 1 Axes>"
      ]
     },
     "metadata": {},
     "output_type": "display_data"
    }
   ],
   "source": [
    "sns.barplot(x=marital_status_counts.index, y=marital_status_counts)\n",
    "plt.title('Current marital status')\n",
    "plt.ylabel('Counts')\n",
    "plt.show()"
   ]
  },
  {
   "cell_type": "markdown",
   "metadata": {},
   "source": [
    "Remember to keep all your cells and hit the save icon above periodically to checkpoint (save) your results on your local computer. Once you are satisified with your results restart the kernel and run all. Checkpoint and exit. Follow the git submit instructions to submit your notebook."
   ]
  },
  {
   "cell_type": "code",
   "execution_count": null,
   "metadata": {},
   "outputs": [],
   "source": []
  }
 ],
 "metadata": {
  "kernelspec": {
   "display_name": "Python 3",
   "language": "python",
   "name": "python3"
  },
  "language_info": {
   "codemirror_mode": {
    "name": "ipython",
    "version": 3
   },
   "file_extension": ".py",
   "mimetype": "text/x-python",
   "name": "python",
   "nbconvert_exporter": "python",
   "pygments_lexer": "ipython3",
   "version": "3.8.5"
  }
 },
 "nbformat": 4,
 "nbformat_minor": 2
}
