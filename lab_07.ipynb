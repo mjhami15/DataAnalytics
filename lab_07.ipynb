{
 "cells": [
  {
   "cell_type": "markdown",
   "metadata": {},
   "source": [
    "# STAT 207 Lab 7: Hypothesis Testing - [25.5 total points] (0.5) is bonus points - Solutions"
   ]
  },
  {
   "cell_type": "markdown",
   "metadata": {},
   "source": [
    "Due: Wednesday, March 24 11:59pm CST\n",
    "\n",
    "\n",
    "\n",
    "## <u>Case Study</u>: U.S Unemployment Rates and Median Education Levels\n",
    "In this lab we will explore the statistical concepts that we've learned this week while also examining the **unemployment rates** and **median education levels** of the counties in the U.S. "
   ]
  },
  {
   "cell_type": "markdown",
   "metadata": {},
   "source": [
    "### Imports"
   ]
  },
  {
   "cell_type": "code",
   "execution_count": 64,
   "metadata": {},
   "outputs": [],
   "source": [
    "import pandas as pd                    # imports pandas and calls the imported version 'pd'\n",
    "import matplotlib.pyplot as plt        # imports the package and calls it 'plt'\n",
    "import seaborn as sns                  # imports the seaborn package with the imported name 'sns'\n",
    "sns.set()                              # sets the default plotting style\n",
    "from scipy.stats import norm\n",
    "import numpy as np"
   ]
  },
  {
   "cell_type": "markdown",
   "metadata": {},
   "source": [
    "## 1. <u>Preliminaries</u>"
   ]
  },
  {
   "cell_type": "markdown",
   "metadata": {},
   "source": [
    "### Read the county.csv into a dataframe, call it df, and display the first five rows.\n",
    "\n",
    "Remember that 'data unavailable' represents missing values in this csv. Make sure you encode these values as NaN when you read the data in."
   ]
  },
  {
   "cell_type": "code",
   "execution_count": 7,
   "metadata": {},
   "outputs": [
    {
     "data": {
      "text/html": [
       "<div>\n",
       "<style scoped>\n",
       "    .dataframe tbody tr th:only-of-type {\n",
       "        vertical-align: middle;\n",
       "    }\n",
       "\n",
       "    .dataframe tbody tr th {\n",
       "        vertical-align: top;\n",
       "    }\n",
       "\n",
       "    .dataframe thead th {\n",
       "        text-align: right;\n",
       "    }\n",
       "</style>\n",
       "<table border=\"1\" class=\"dataframe\">\n",
       "  <thead>\n",
       "    <tr style=\"text-align: right;\">\n",
       "      <th></th>\n",
       "      <th>name</th>\n",
       "      <th>state</th>\n",
       "      <th>pop2000</th>\n",
       "      <th>pop2010</th>\n",
       "      <th>pop2017</th>\n",
       "      <th>pop_change</th>\n",
       "      <th>poverty</th>\n",
       "      <th>homeownership</th>\n",
       "      <th>multi_unit</th>\n",
       "      <th>unemployment_rate</th>\n",
       "      <th>metro</th>\n",
       "      <th>median_edu</th>\n",
       "      <th>per_capita_income</th>\n",
       "      <th>median_hh_income</th>\n",
       "      <th>smoking_ban</th>\n",
       "    </tr>\n",
       "  </thead>\n",
       "  <tbody>\n",
       "    <tr>\n",
       "      <th>0</th>\n",
       "      <td>Autauga County</td>\n",
       "      <td>Alabama</td>\n",
       "      <td>43671.0</td>\n",
       "      <td>54571</td>\n",
       "      <td>55504.0</td>\n",
       "      <td>1.48</td>\n",
       "      <td>13.7</td>\n",
       "      <td>77.5</td>\n",
       "      <td>7.2</td>\n",
       "      <td>3.86</td>\n",
       "      <td>yes</td>\n",
       "      <td>some_college</td>\n",
       "      <td>27841.70</td>\n",
       "      <td>55317.0</td>\n",
       "      <td>none</td>\n",
       "    </tr>\n",
       "    <tr>\n",
       "      <th>1</th>\n",
       "      <td>Baldwin County</td>\n",
       "      <td>Alabama</td>\n",
       "      <td>140415.0</td>\n",
       "      <td>182265</td>\n",
       "      <td>212628.0</td>\n",
       "      <td>9.19</td>\n",
       "      <td>11.8</td>\n",
       "      <td>76.7</td>\n",
       "      <td>22.6</td>\n",
       "      <td>3.99</td>\n",
       "      <td>yes</td>\n",
       "      <td>some_college</td>\n",
       "      <td>27779.85</td>\n",
       "      <td>52562.0</td>\n",
       "      <td>none</td>\n",
       "    </tr>\n",
       "    <tr>\n",
       "      <th>2</th>\n",
       "      <td>Barbour County</td>\n",
       "      <td>Alabama</td>\n",
       "      <td>29038.0</td>\n",
       "      <td>27457</td>\n",
       "      <td>25270.0</td>\n",
       "      <td>-6.22</td>\n",
       "      <td>27.2</td>\n",
       "      <td>68.0</td>\n",
       "      <td>11.1</td>\n",
       "      <td>5.90</td>\n",
       "      <td>no</td>\n",
       "      <td>hs_diploma</td>\n",
       "      <td>17891.73</td>\n",
       "      <td>33368.0</td>\n",
       "      <td>partial</td>\n",
       "    </tr>\n",
       "    <tr>\n",
       "      <th>3</th>\n",
       "      <td>Bibb County</td>\n",
       "      <td>Alabama</td>\n",
       "      <td>20826.0</td>\n",
       "      <td>22915</td>\n",
       "      <td>22668.0</td>\n",
       "      <td>0.73</td>\n",
       "      <td>15.2</td>\n",
       "      <td>82.9</td>\n",
       "      <td>6.6</td>\n",
       "      <td>4.39</td>\n",
       "      <td>yes</td>\n",
       "      <td>hs_diploma</td>\n",
       "      <td>20572.05</td>\n",
       "      <td>43404.0</td>\n",
       "      <td>none</td>\n",
       "    </tr>\n",
       "    <tr>\n",
       "      <th>4</th>\n",
       "      <td>Blount County</td>\n",
       "      <td>Alabama</td>\n",
       "      <td>51024.0</td>\n",
       "      <td>57322</td>\n",
       "      <td>58013.0</td>\n",
       "      <td>0.68</td>\n",
       "      <td>15.6</td>\n",
       "      <td>82.0</td>\n",
       "      <td>3.7</td>\n",
       "      <td>4.02</td>\n",
       "      <td>yes</td>\n",
       "      <td>hs_diploma</td>\n",
       "      <td>21367.39</td>\n",
       "      <td>47412.0</td>\n",
       "      <td>none</td>\n",
       "    </tr>\n",
       "  </tbody>\n",
       "</table>\n",
       "</div>"
      ],
      "text/plain": [
       "             name    state   pop2000  pop2010   pop2017  pop_change  poverty  \\\n",
       "0  Autauga County  Alabama   43671.0    54571   55504.0        1.48     13.7   \n",
       "1  Baldwin County  Alabama  140415.0   182265  212628.0        9.19     11.8   \n",
       "2  Barbour County  Alabama   29038.0    27457   25270.0       -6.22     27.2   \n",
       "3     Bibb County  Alabama   20826.0    22915   22668.0        0.73     15.2   \n",
       "4   Blount County  Alabama   51024.0    57322   58013.0        0.68     15.6   \n",
       "\n",
       "   homeownership  multi_unit  unemployment_rate metro    median_edu  \\\n",
       "0           77.5         7.2               3.86   yes  some_college   \n",
       "1           76.7        22.6               3.99   yes  some_college   \n",
       "2           68.0        11.1               5.90    no    hs_diploma   \n",
       "3           82.9         6.6               4.39   yes    hs_diploma   \n",
       "4           82.0         3.7               4.02   yes    hs_diploma   \n",
       "\n",
       "   per_capita_income  median_hh_income smoking_ban  \n",
       "0           27841.70           55317.0        none  \n",
       "1           27779.85           52562.0        none  \n",
       "2           17891.73           33368.0     partial  \n",
       "3           20572.05           43404.0        none  \n",
       "4           21367.39           47412.0        none  "
      ]
     },
     "execution_count": 7,
     "metadata": {},
     "output_type": "execute_result"
    }
   ],
   "source": [
    "missing_values = [\"data unavailable\"]\n",
    "df = pd.read_csv(\"county.csv\", na_values = missing_values)\n",
    "df.head()"
   ]
  },
  {
   "cell_type": "markdown",
   "metadata": {},
   "source": [
    "### Create a series that is comprised of just the unemployment rate variable and drop any missing values from this dataset."
   ]
  },
  {
   "cell_type": "code",
   "execution_count": 8,
   "metadata": {},
   "outputs": [],
   "source": [
    "df_unemp_rate=df['unemployment_rate'].dropna()"
   ]
  },
  {
   "cell_type": "markdown",
   "metadata": {},
   "source": [
    "### Create a series that is comprised of just the median education variable and drop any missing values from this dataset."
   ]
  },
  {
   "cell_type": "code",
   "execution_count": 9,
   "metadata": {},
   "outputs": [],
   "source": [
    "df_med_edu=df['median_edu'].dropna()"
   ]
  },
  {
   "cell_type": "markdown",
   "metadata": {},
   "source": [
    "## 2. <u>Unemployment Rate Population Analysis</u>\n",
    "\n",
    "We will assume that the series of all county unemployment rates from 1b is our **population**. Usually, we do not have the whole population at our disposal, which is why we conduct inference in the first place.\n",
    "\n",
    "However, when conducting our hypothesis testing in this assignment we will assume that we don't have this population information. After we have conducted the hypothesis testing, we can use our population information to \"check\" our answers to learn more about how hypothesis testing works.\n",
    "\n",
    "### 2a. [0.5 pt] Calculate the mean and standard deviation unemployment rate of ALL U.S. counties."
   ]
  },
  {
   "cell_type": "code",
   "execution_count": 10,
   "metadata": {},
   "outputs": [
    {
     "data": {
      "text/plain": [
       "4.611443134756292"
      ]
     },
     "execution_count": 10,
     "metadata": {},
     "output_type": "execute_result"
    }
   ],
   "source": [
    "df_unemp_rate.mean()"
   ]
  },
  {
   "cell_type": "code",
   "execution_count": 11,
   "metadata": {},
   "outputs": [
    {
     "data": {
      "text/plain": [
       "1.648761085622538"
      ]
     },
     "execution_count": 11,
     "metadata": {},
     "output_type": "execute_result"
    }
   ],
   "source": [
    "df_unemp_rate.std()"
   ]
  },
  {
   "cell_type": "markdown",
   "metadata": {},
   "source": [
    "### 2b.  [1 pt] Calculate the z-score of the unemployment rate of 'Champaign County' in the state of 'Illinois'."
   ]
  },
  {
   "cell_type": "code",
   "execution_count": 51,
   "metadata": {},
   "outputs": [
    {
     "data": {
      "text/plain": [
       "name                 Champaign County\n",
       "state                        Illinois\n",
       "pop2000                      179669.0\n",
       "pop2010                        201081\n",
       "pop2017                      209399.0\n",
       "pop_change                       1.83\n",
       "poverty                          21.4\n",
       "homeownership                    55.9\n",
       "multi_unit                       35.2\n",
       "unemployment_rate                4.24\n",
       "metro                             yes\n",
       "median_edu               some_college\n",
       "per_capita_income            29619.49\n",
       "median_hh_income              49586.0\n",
       "smoking_ban                       NaN\n",
       "Name: 604, dtype: object"
      ]
     },
     "execution_count": 51,
     "metadata": {},
     "output_type": "execute_result"
    }
   ],
   "source": [
    "df.loc[604]"
   ]
  },
  {
   "cell_type": "code",
   "execution_count": 46,
   "metadata": {},
   "outputs": [
    {
     "name": "stdout",
     "output_type": "stream",
     "text": [
      "-0.2252862091392959\n"
     ]
    }
   ],
   "source": [
    "print((4.24 - df_unemp_rate.mean()) / df_unemp_rate.std())"
   ]
  },
  {
   "cell_type": "markdown",
   "metadata": {},
   "source": [
    "## 3. <u>Unemployment Rate Sample Analysis</u>\n",
    "\n",
    "### 3a.  [0.5 pt] Collect a random sample of size 35 from your population of all county unemployment rates (without replacement) using a random state of 3."
   ]
  },
  {
   "cell_type": "code",
   "execution_count": 48,
   "metadata": {},
   "outputs": [],
   "source": [
    "sample = df_unemp_rate.sample(35, random_state = 3, replace = False)"
   ]
  },
  {
   "cell_type": "markdown",
   "metadata": {},
   "source": [
    "### 3b.  [0.5 pt] Calculate the mean and standard deviation of this sample."
   ]
  },
  {
   "cell_type": "code",
   "execution_count": 49,
   "metadata": {},
   "outputs": [
    {
     "data": {
      "text/plain": [
       "4.252"
      ]
     },
     "execution_count": 49,
     "metadata": {},
     "output_type": "execute_result"
    }
   ],
   "source": [
    "sample.mean()"
   ]
  },
  {
   "cell_type": "code",
   "execution_count": 50,
   "metadata": {},
   "outputs": [
    {
     "data": {
      "text/plain": [
       "1.3095751443974222"
      ]
     },
     "execution_count": 50,
     "metadata": {},
     "output_type": "execute_result"
    }
   ],
   "source": [
    "sample.std()"
   ]
  },
  {
   "cell_type": "markdown",
   "metadata": {},
   "source": [
    "## 4. <u>Unemployment Rate Sampling Distribution Analysis</u>\n",
    "\n",
    "Assume you know $\\sigma$ in this part."
   ]
  },
  {
   "cell_type": "markdown",
   "metadata": {},
   "source": [
    "### 4a.  [0.5 pt] What is the mean and standard deviation of the sampling distribution of sample mean unemployment rates (collected from samples of size 35)?"
   ]
  },
  {
   "cell_type": "markdown",
   "metadata": {},
   "source": [
    "The mean of the sampling distribution is the same as the population mean"
   ]
  },
  {
   "cell_type": "code",
   "execution_count": 52,
   "metadata": {},
   "outputs": [
    {
     "data": {
      "text/plain": [
       "4.611443134756292"
      ]
     },
     "execution_count": 52,
     "metadata": {},
     "output_type": "execute_result"
    }
   ],
   "source": [
    "df_unemp_rate.mean()"
   ]
  },
  {
   "cell_type": "markdown",
   "metadata": {},
   "source": [
    "The standard deviation of the sampling distribution is the population standard deviation devided by the square root of n"
   ]
  },
  {
   "cell_type": "code",
   "execution_count": 54,
   "metadata": {},
   "outputs": [
    {
     "name": "stdout",
     "output_type": "stream",
     "text": [
      "0.2786914893089392\n"
     ]
    }
   ],
   "source": [
    "print(df_unemp_rate.std() / (35 ** 0.5))"
   ]
  },
  {
   "cell_type": "markdown",
   "metadata": {},
   "source": [
    "### 4b.  [1 pt] Is the sampling distribution of samples means (collected from samples of size 35) approximately normal? Explain why or why not?"
   ]
  },
  {
   "cell_type": "markdown",
   "metadata": {},
   "source": [
    "Yes, by central limit theorum we know that the sampling distribution of sample means is approximately normal because n > 30."
   ]
  },
  {
   "cell_type": "markdown",
   "metadata": {},
   "source": [
    "### 4c.  [1 pt] What is the z-score of our sample mean from 3b?"
   ]
  },
  {
   "cell_type": "code",
   "execution_count": 55,
   "metadata": {},
   "outputs": [
    {
     "name": "stdout",
     "output_type": "stream",
     "text": [
      "-0.21800801698359698\n"
     ]
    }
   ],
   "source": [
    "print((sample.mean() - df_unemp_rate.mean()) / df_unemp_rate.std())"
   ]
  },
  {
   "cell_type": "markdown",
   "metadata": {},
   "source": [
    "### 4d.  [1 pt] What is the probability that a randomly selected sample mean z-score is greater than or equal to the z-score that we calculated in 4c?"
   ]
  },
  {
   "cell_type": "code",
   "execution_count": 59,
   "metadata": {},
   "outputs": [
    {
     "data": {
      "text/plain": [
       "0.5862885674956217"
      ]
     },
     "execution_count": 59,
     "metadata": {},
     "output_type": "execute_result"
    }
   ],
   "source": [
    "1 - norm.cdf((sample.mean() - df_unemp_rate.mean()) / df_unemp_rate.std())"
   ]
  },
  {
   "cell_type": "markdown",
   "metadata": {},
   "source": [
    "### 4e.  [0.5 pt] What is the probability that a randomly selected sample mean z-score is less than or equal to the negative absolute value of the z-score that we calculated in 4c?"
   ]
  },
  {
   "cell_type": "code",
   "execution_count": 60,
   "metadata": {},
   "outputs": [
    {
     "data": {
      "text/plain": [
       "0.4137114325043782"
      ]
     },
     "execution_count": 60,
     "metadata": {},
     "output_type": "execute_result"
    }
   ],
   "source": [
    "norm.cdf((sample.mean() - df_unemp_rate.mean()) / df_unemp_rate.std())"
   ]
  },
  {
   "cell_type": "markdown",
   "metadata": {},
   "source": [
    "## 5. <u>Hypothesis Testing for the Average Unemployment Rate of ALL US Counties</u>\n",
    "\n",
    "For now, suppose that we know nothing about our population that we explored in #2.\n",
    "\n",
    "\n",
    "Suppose that a reliable source suggested that the average unemployment rate of all US counties is 4.611. We are skeptical of this source, and would like to test this claim and see if there is evidence to suggest that this is not the case. We will use our random sample that we collected from the population in #3 to test this claim.\n",
    "\n",
    "### 5a.  [1 pt] Formulate your null and alternative hypothses for this hypothesis test."
   ]
  },
  {
   "cell_type": "markdown",
   "metadata": {},
   "source": [
    "null: mu = 4.611\n",
    "alternate: mu != 4.611"
   ]
  },
  {
   "cell_type": "markdown",
   "metadata": {},
   "source": [
    "### 5b.  [1 pt] Check the conditions for conducting hypothesis testing using the sample from #3.\n",
    "\n"
   ]
  },
  {
   "cell_type": "markdown",
   "metadata": {},
   "source": [
    "1) The observations are independent because the sample is collected randomly and 35 is less than 10% of all counties in the U.S.\n",
    "2) n > 30 so we know the sampling distribution is approximately normal\n"
   ]
  },
  {
   "cell_type": "markdown",
   "metadata": {},
   "source": [
    "### 5c.  [1 pt] Calculate the p-value for this test.\n",
    "\n",
    "Assume you do not know $\\sigma$."
   ]
  },
  {
   "cell_type": "code",
   "execution_count": 61,
   "metadata": {},
   "outputs": [
    {
     "name": "stdout",
     "output_type": "stream",
     "text": [
      "Assumed Pop Mean is:  4.611\n"
     ]
    }
   ],
   "source": [
    "assumed_pop_mean = 4.611\n",
    "print('Assumed Pop Mean is: ', assumed_pop_mean)"
   ]
  },
  {
   "cell_type": "code",
   "execution_count": 65,
   "metadata": {},
   "outputs": [
    {
     "name": "stdout",
     "output_type": "stream",
     "text": [
      "Standard Error:  0.22135860103483856\n"
     ]
    }
   ],
   "source": [
    "std_error=(sample.std()/(np.sqrt(35)))\n",
    "print('Standard Error: ', std_error)"
   ]
  },
  {
   "cell_type": "code",
   "execution_count": 69,
   "metadata": {},
   "outputs": [
    {
     "name": "stdout",
     "output_type": "stream",
     "text": [
      "p-value:  0.10484557772753991\n"
     ]
    }
   ],
   "source": [
    "pvalue= 2*(norm.cdf(sample.mean(), loc=assumed_pop_mean, scale=std_error))\n",
    "print('p-value: ', pvalue)"
   ]
  },
  {
   "cell_type": "markdown",
   "metadata": {},
   "source": [
    "### 5d.  [1 pt] Make a conclusion about your hypotheses using this p-value and a significance level of $\\alpha=0.05$."
   ]
  },
  {
   "cell_type": "markdown",
   "metadata": {},
   "source": [
    "Because the p-value of 0.105 >= a = 0.05, we fail to reject the null hypothesis. We do not have sufficient evidence to suggest the alternative hypothesis that the average unemployment rate of alll US counties is different that 4.611. "
   ]
  },
  {
   "cell_type": "markdown",
   "metadata": {},
   "source": [
    "### 5e.  [1 pt] Now we would like to make a 95% confidence interval for the average unemployment rate of al U.S. counties. First, check the conditions for creating this confidence interval."
   ]
  },
  {
   "cell_type": "markdown",
   "metadata": {},
   "source": [
    "We are allowed to make a confidence interval for mu because the following conditions for CLT are met:\n",
    "1) The observations are independent because the sample is collected randomly and 35 is less than 10% of all counties in the U.S.\n",
    "2) n > 30 so we know the sampling distribution is approximately normal"
   ]
  },
  {
   "cell_type": "markdown",
   "metadata": {},
   "source": [
    "### 5f.  [1 pt] Now create this 95% confidence interval.\n",
    "\n",
    "Assume you do not know $\\sigma$."
   ]
  },
  {
   "cell_type": "code",
   "execution_count": 73,
   "metadata": {},
   "outputs": [
    {
     "name": "stdout",
     "output_type": "stream",
     "text": [
      "3.8181451143035456 , 4.685854885696454\n"
     ]
    }
   ],
   "source": [
    "critical_value = norm.ppf(0.975)\n",
    "critical_value\n",
    "lower_bound=sample.mean()-critical_value*(sample.std()/np.sqrt(35))\n",
    "upper_bound=sample.mean()+critical_value*(sample.std()/np.sqrt(35))\n",
    "print(lower_bound, ',', upper_bound)"
   ]
  },
  {
   "cell_type": "markdown",
   "metadata": {},
   "source": [
    "### 5g.  [1 pt] Use this confidence interval to make a conclusion about your hypothesis tests."
   ]
  },
  {
   "cell_type": "markdown",
   "metadata": {},
   "source": [
    "Since the value '4.611' resides in the interval given above, we are 95% confident that the true average unemployment rate of US counties is in between 3.8181451143035456 , 4.685854885696454. Therefore, we fail to reject the null hypothesis. We do not have sufficient evidence to suggest the alternative hypothesis that the average unemployment rate of alll US counties is different that 4.611. "
   ]
  },
  {
   "cell_type": "markdown",
   "metadata": {},
   "source": [
    "### 5h.  [0.5 pt] NOW, using what we *actually* know about the population and population mean, did our hypothesis test *actually* make the right conclusions in 5d and 5g?"
   ]
  },
  {
   "cell_type": "markdown",
   "metadata": {},
   "source": [
    "Yes, our hypothesis test did make the right conclusions in 5d and 5g because the true mean is roughly 4.611, and both of these tests failed to reject the null."
   ]
  },
  {
   "cell_type": "markdown",
   "metadata": {},
   "source": [
    "## 6. <u>Median Education Level Population Analysis</u>\n",
    "\n",
    "We will assume that the series of all county median education levels from 1c is our **population**. Usually, we do not have the whole population at our disposal, which is why we conduct inference in the first place.\n",
    "\n",
    "However, when conducting our hypothesis testing in this assignment we will assume that we don't have this population information. After we have conducted the hypothesis testing, we can use our population information to \"check\" our answers to learn more about how hypothesis testing works.\n",
    "\n"
   ]
  },
  {
   "cell_type": "markdown",
   "metadata": {},
   "source": [
    "### <u>Tutorial</u>: Conditional Filtering of a Series"
   ]
  },
  {
   "cell_type": "code",
   "execution_count": 4,
   "metadata": {},
   "outputs": [
    {
     "data": {
      "text/plain": [
       "0    stat107\n",
       "1    stat207\n",
       "2    stat307\n",
       "3    stat207\n",
       "dtype: object"
      ]
     },
     "execution_count": 4,
     "metadata": {},
     "output_type": "execute_result"
    }
   ],
   "source": [
    "import pandas as pd\n",
    "import numpy as np\n",
    "small_series=pd.Series(['stat107', 'stat207', 'stat307', 'stat207'])\n",
    "small_series"
   ]
  },
  {
   "cell_type": "markdown",
   "metadata": {},
   "source": [
    "We can count the number of entries in a series that meet a certain condition by setting up a condition upon the values in a series and taking the sum of the Boolean values."
   ]
  },
  {
   "cell_type": "code",
   "execution_count": 5,
   "metadata": {},
   "outputs": [
    {
     "data": {
      "text/plain": [
       "0    False\n",
       "1     True\n",
       "2    False\n",
       "3     True\n",
       "dtype: bool"
      ]
     },
     "execution_count": 5,
     "metadata": {},
     "output_type": "execute_result"
    }
   ],
   "source": [
    "small_series=='stat207'"
   ]
  },
  {
   "cell_type": "code",
   "execution_count": 6,
   "metadata": {},
   "outputs": [
    {
     "data": {
      "text/plain": [
       "2"
      ]
     },
     "execution_count": 6,
     "metadata": {},
     "output_type": "execute_result"
    }
   ],
   "source": [
    "np.sum(small_series=='stat207')"
   ]
  },
  {
   "cell_type": "markdown",
   "metadata": {},
   "source": [
    "### 6a.  [0.5 pt] Calculate the proportion of all U.S. counties that have a median education level of 'hs_diploma'."
   ]
  },
  {
   "cell_type": "code",
   "execution_count": 81,
   "metadata": {},
   "outputs": [
    {
     "data": {
      "text/plain": [
       "0.4446212603437301"
      ]
     },
     "execution_count": 81,
     "metadata": {},
     "output_type": "execute_result"
    }
   ],
   "source": [
    "pop_prop = np.sum(df_med_edu=='hs_diploma')/df.shape[0]\n",
    "pop_prop"
   ]
  },
  {
   "cell_type": "markdown",
   "metadata": {},
   "source": [
    "## 7. <u>Median Population Sample Analysis</u>\n",
    "\n",
    "### 7a.  [0.5 pt] Collect a random sample of 40 county median education levels from the population of ALL U.S. county median education levels, (without replacement), using a random state of 100."
   ]
  },
  {
   "cell_type": "code",
   "execution_count": 78,
   "metadata": {},
   "outputs": [],
   "source": [
    "sample2 = df_med_edu.sample(40, random_state = 100, replace = False)"
   ]
  },
  {
   "cell_type": "markdown",
   "metadata": {},
   "source": [
    "### 7b.  [0.5 pt] Calculate the proportion of counties in this sample that have a median education level of high school diploma."
   ]
  },
  {
   "cell_type": "code",
   "execution_count": 80,
   "metadata": {},
   "outputs": [
    {
     "data": {
      "text/plain": [
       "0.5"
      ]
     },
     "execution_count": 80,
     "metadata": {},
     "output_type": "execute_result"
    }
   ],
   "source": [
    "np.sum(sample2=='hs_diploma')/40"
   ]
  },
  {
   "cell_type": "markdown",
   "metadata": {},
   "source": [
    "## 8. <u>Sampling Distribution of Sample Proportions Analysis</u>\n",
    "\n"
   ]
  },
  {
   "cell_type": "markdown",
   "metadata": {},
   "source": [
    "### 8a. [1 pt] What is the mean and standard deviation of the sampling distribution of sample propotion of counties with a median education level of high school diploma (collected from samples of size 40)?\n",
    "\n",
    "Assume you actually know the population proprtion $p$ in part 8."
   ]
  },
  {
   "cell_type": "markdown",
   "metadata": {},
   "source": [
    "The mean is equal to p. "
   ]
  },
  {
   "cell_type": "code",
   "execution_count": 82,
   "metadata": {},
   "outputs": [
    {
     "name": "stdout",
     "output_type": "stream",
     "text": [
      "0.4446212603437301\n"
     ]
    }
   ],
   "source": [
    "print(pop_prop)"
   ]
  },
  {
   "cell_type": "code",
   "execution_count": null,
   "metadata": {},
   "outputs": [],
   "source": []
  },
  {
   "cell_type": "markdown",
   "metadata": {},
   "source": [
    "The std is equal to the given formula: sqrt(p(1-p)/n)"
   ]
  },
  {
   "cell_type": "code",
   "execution_count": 84,
   "metadata": {},
   "outputs": [
    {
     "name": "stdout",
     "output_type": "stream",
     "text": [
      "0.07857054078884831\n"
     ]
    }
   ],
   "source": [
    "print(np.sqrt((pop_prop*(1-pop_prop))/40))"
   ]
  },
  {
   "cell_type": "markdown",
   "metadata": {},
   "source": [
    "### 8b.  [1 pt] What is the z-score of our sample proportion from 7b?"
   ]
  },
  {
   "cell_type": "code",
   "execution_count": 85,
   "metadata": {},
   "outputs": [
    {
     "name": "stdout",
     "output_type": "stream",
     "text": [
      "0.7048282867887541\n"
     ]
    }
   ],
   "source": [
    "print((0.5 - pop_prop) / (np.sqrt((pop_prop*(1-pop_prop))/40)))"
   ]
  },
  {
   "cell_type": "markdown",
   "metadata": {},
   "source": [
    "## 9. <u>Hypothesis Testing for the Proportion of ALL U.S. Counties that have a Median Education Level of High School Diploma</u>\n",
    "\n",
    "For now, suppose that we know nothing about our population that we explored in #6.\n",
    "\n",
    "Previous studies have suggested that in the past, 45% of U.S. counties have a median education level of a high school diploma. We are skeptical that that is the still the case. We would like to test (using our sample from #7), whether there is evidence to suggest that the the proportion of counties with a median education level of high school diploma is diffrent from 45%.\n",
    "\n",
    "### 9.a.  [1 pt] Formulate your null and alternative hypothses for this hypothesis test."
   ]
  },
  {
   "cell_type": "markdown",
   "metadata": {},
   "source": [
    "null: p = .45\n",
    "alternate: p != .45"
   ]
  },
  {
   "cell_type": "markdown",
   "metadata": {},
   "source": [
    "### 9b.  [1 pt] Check the conditions for conducting hypothesis testing using the sample from #7.\n",
    "\n"
   ]
  },
  {
   "cell_type": "markdown",
   "metadata": {},
   "source": [
    "1) We know the observations are independent because the sample is randomly collected and 40 is less than 10% of the population of all counties in the US.\n",
    "2)\n",
    "np = 40(.45) = 18 >= 10\n",
    "n(1-p) = 40(1-.45) = 22 >= 10\n"
   ]
  },
  {
   "cell_type": "markdown",
   "metadata": {},
   "source": [
    "### 9c.  [1 pt] Calculate the p-value for this test.\n",
    "\n",
    "Assume you do not know anything about the population proportion (including the value of $p$)."
   ]
  },
  {
   "cell_type": "code",
   "execution_count": 86,
   "metadata": {},
   "outputs": [
    {
     "name": "stdout",
     "output_type": "stream",
     "text": [
      "Asssumed Pop Prop:  0.45\n"
     ]
    }
   ],
   "source": [
    "assumed_pop_prop=0.45\n",
    "print('Asssumed Pop Prop: ', assumed_pop_prop)"
   ]
  },
  {
   "cell_type": "code",
   "execution_count": 87,
   "metadata": {},
   "outputs": [
    {
     "name": "stdout",
     "output_type": "stream",
     "text": [
      "Std Error:  0.07866066361276136\n"
     ]
    }
   ],
   "source": [
    "std_error=np.sqrt(assumed_pop_prop*(1-assumed_pop_prop)/40)\n",
    "print('Std Error: ', std_error)"
   ]
  },
  {
   "cell_type": "code",
   "execution_count": 89,
   "metadata": {},
   "outputs": [
    {
     "name": "stdout",
     "output_type": "stream",
     "text": [
      "Pvalue:  0.5250099664186034\n"
     ]
    }
   ],
   "source": [
    "pvalue=2*(1 - norm.cdf(0.5, loc=assumed_pop_prop, scale=std_error))\n",
    "print('Pvalue: ', pvalue)"
   ]
  },
  {
   "cell_type": "code",
   "execution_count": null,
   "metadata": {},
   "outputs": [],
   "source": []
  },
  {
   "cell_type": "markdown",
   "metadata": {},
   "source": []
  },
  {
   "cell_type": "markdown",
   "metadata": {},
   "source": [
    "### 9d.  [1 pt] Make a conclusion about your hypotheses using this p-value and a significance level of $\\alpha=0.10$."
   ]
  },
  {
   "cell_type": "markdown",
   "metadata": {},
   "source": [
    "Since p-value 0.525 > a = 0.10, we fail to reject the null hypothesis. We do not have sufficient evidence to suggest the alternative hypothesis that the proportion of counties with a median education of 'hs_diploma' of all US counties is different that 0.45. "
   ]
  },
  {
   "cell_type": "markdown",
   "metadata": {},
   "source": [
    "### 9e.  [1 pt] Now we would like to make a 90% confidence interval for the proportion of ALL U.S. counties that have a median education level of high school diploma.. First, check the conditions for creating this confidence interval."
   ]
  },
  {
   "cell_type": "markdown",
   "metadata": {},
   "source": [
    "1) We know the observations are independent because the sample is randomly collected and 40 is less than 10% of the population of all counties in the US.\n",
    "2)\n",
    "np = 40(.45) = 18 >= 10\n",
    "n(1-p) = 40(1-.45) = 22 >= 10\n"
   ]
  },
  {
   "cell_type": "markdown",
   "metadata": {},
   "source": [
    "### 9f.  [2 pt] Now create this 90% confidence interval.\n",
    "\n",
    "Assume you do not know anything about the population (including $p$)."
   ]
  },
  {
   "cell_type": "code",
   "execution_count": 96,
   "metadata": {},
   "outputs": [
    {
     "name": "stdout",
     "output_type": "stream",
     "text": [
      "0.3706147221581398 , 0.6293852778418603\n"
     ]
    }
   ],
   "source": [
    "critical_value=norm.ppf(1-0.1/2)\n",
    "lower_bound = .5 - critical_value * np.sqrt(assumed_pop_prop*(1-assumed_pop_prop)/40)\n",
    "upper_bound = .5 + critical_value * np.sqrt(assumed_pop_prop*(1-assumed_pop_prop)/40)\n",
    "print(lower_bound, ',', upper_bound)"
   ]
  },
  {
   "cell_type": "markdown",
   "metadata": {},
   "source": [
    "### 9g.  [1 pt] Use this confidence interval to make a conclusion about your hypothesis tests."
   ]
  },
  {
   "cell_type": "markdown",
   "metadata": {},
   "source": [
    "Since the value 0.45 resides in the interval above, we fail to reject the null hypothesis. We do not have sufficient evidence to suggest the alternative hypothesis that the proportion of counties with a median education of 'hs_diploma' of all US counties is different that 0.45. "
   ]
  },
  {
   "cell_type": "code",
   "execution_count": null,
   "metadata": {},
   "outputs": [],
   "source": []
  },
  {
   "cell_type": "code",
   "execution_count": null,
   "metadata": {},
   "outputs": [],
   "source": []
  },
  {
   "cell_type": "code",
   "execution_count": null,
   "metadata": {},
   "outputs": [],
   "source": []
  },
  {
   "cell_type": "code",
   "execution_count": null,
   "metadata": {},
   "outputs": [],
   "source": []
  },
  {
   "cell_type": "code",
   "execution_count": null,
   "metadata": {},
   "outputs": [],
   "source": []
  },
  {
   "cell_type": "code",
   "execution_count": null,
   "metadata": {},
   "outputs": [],
   "source": []
  },
  {
   "cell_type": "code",
   "execution_count": null,
   "metadata": {},
   "outputs": [],
   "source": []
  },
  {
   "cell_type": "code",
   "execution_count": null,
   "metadata": {},
   "outputs": [],
   "source": []
  },
  {
   "cell_type": "code",
   "execution_count": null,
   "metadata": {},
   "outputs": [],
   "source": []
  },
  {
   "cell_type": "code",
   "execution_count": null,
   "metadata": {},
   "outputs": [],
   "source": []
  },
  {
   "cell_type": "code",
   "execution_count": null,
   "metadata": {},
   "outputs": [],
   "source": []
  },
  {
   "cell_type": "code",
   "execution_count": null,
   "metadata": {},
   "outputs": [],
   "source": []
  },
  {
   "cell_type": "code",
   "execution_count": null,
   "metadata": {},
   "outputs": [],
   "source": []
  },
  {
   "cell_type": "code",
   "execution_count": null,
   "metadata": {},
   "outputs": [],
   "source": []
  },
  {
   "cell_type": "code",
   "execution_count": null,
   "metadata": {},
   "outputs": [],
   "source": []
  }
 ],
 "metadata": {
  "kernelspec": {
   "display_name": "Python 3",
   "language": "python",
   "name": "python3"
  },
  "language_info": {
   "codemirror_mode": {
    "name": "ipython",
    "version": 3
   },
   "file_extension": ".py",
   "mimetype": "text/x-python",
   "name": "python",
   "nbconvert_exporter": "python",
   "pygments_lexer": "ipython3",
   "version": "3.8.5"
  }
 },
 "nbformat": 4,
 "nbformat_minor": 2
}
