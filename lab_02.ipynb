{
 "cells": [
  {
   "cell_type": "markdown",
   "metadata": {},
   "source": [
    "# STAT 207 Lab 2: Data Frames and Statistics - [30 total points]\n",
    "\n",
    "Due: Wednesday, February 10, 11:59pm CST"
   ]
  },
  {
   "cell_type": "markdown",
   "metadata": {},
   "source": [
    "### Matt Hamilton (mjh16)"
   ]
  },
  {
   "cell_type": "markdown",
   "metadata": {},
   "source": [
    "\n",
    "\n",
    "### <u>Case Study</u>: UK Smokers Dataset\n",
    "\n",
    "Let's explore the same UK Smokers dataset from lab_01 to see if we can determine if there is an association between the **age of a smoker (at least 30 vs. under 30)**, **sex**, and **how many cigarettes they smoke on the weekends.**\n",
    "\n",
    "The data file \"smoking.csv\" is included in the release. It contains several variables with information about smokers that live in the U.K. We will be exploring the following variables in this lab:\n",
    "* **sex**: 'Male', 'Female'\n",
    "* **age**\n",
    "* **amt_weekends**: (which represents the number of cigarettes the smoker smokes on the weekend."
   ]
  },
  {
   "cell_type": "markdown",
   "metadata": {},
   "source": [
    "# <u>Instructions for Completing this Lab</u>\n",
    "Answer questions 1-16 below.\n",
    "\n",
    "You may add as many cells as you need in order to do the excercises. To add cells use the \"Insert\" tab from the menu bar above and select \"insert cell above\" or \"insert cell below\". \n",
    "\n",
    "**The most relevant lectures notes for this lab are the Unit 3 and Unit 4 notes.**\n",
    "\n",
    "Please use Markdown cells above or below your code cells to explain your results. Make sure graders know that you understand what your code is doing.\n",
    "\n"
   ]
  },
  {
   "cell_type": "markdown",
   "metadata": {},
   "source": [
    "### 1. [2 pts] Imports\n",
    "\n",
    "Import all packages that you need to use in this analysis below. You may need to update this code and rerun it as you go."
   ]
  },
  {
   "cell_type": "code",
   "execution_count": 3,
   "metadata": {},
   "outputs": [],
   "source": [
    "import pandas as pd                    # imports pandas and calls the imported version 'pd'\n",
    "import matplotlib.pyplot as plt        # imports the package and calls it 'plt'\n",
    "import seaborn as sns                  # imports the seaborn package with the imported name 'sns'\n",
    "sns.set()                              "
   ]
  },
  {
   "cell_type": "markdown",
   "metadata": {},
   "source": [
    "### [2 pts] Read the 'smoking.csv' file into a dataframe called df.\n",
    "\n"
   ]
  },
  {
   "cell_type": "code",
   "execution_count": 5,
   "metadata": {},
   "outputs": [
    {
     "data": {
      "text/html": [
       "<div>\n",
       "<style scoped>\n",
       "    .dataframe tbody tr th:only-of-type {\n",
       "        vertical-align: middle;\n",
       "    }\n",
       "\n",
       "    .dataframe tbody tr th {\n",
       "        vertical-align: top;\n",
       "    }\n",
       "\n",
       "    .dataframe thead th {\n",
       "        text-align: right;\n",
       "    }\n",
       "</style>\n",
       "<table border=\"1\" class=\"dataframe\">\n",
       "  <thead>\n",
       "    <tr style=\"text-align: right;\">\n",
       "      <th></th>\n",
       "      <th>age</th>\n",
       "      <th>marital_status</th>\n",
       "      <th>highest_qualification</th>\n",
       "      <th>nationality</th>\n",
       "      <th>gross_income</th>\n",
       "      <th>region</th>\n",
       "      <th>smoke</th>\n",
       "      <th>amt_weekends</th>\n",
       "      <th>amt_weekdays</th>\n",
       "      <th>type</th>\n",
       "    </tr>\n",
       "    <tr>\n",
       "      <th>sex</th>\n",
       "      <th></th>\n",
       "      <th></th>\n",
       "      <th></th>\n",
       "      <th></th>\n",
       "      <th></th>\n",
       "      <th></th>\n",
       "      <th></th>\n",
       "      <th></th>\n",
       "      <th></th>\n",
       "      <th></th>\n",
       "    </tr>\n",
       "  </thead>\n",
       "  <tbody>\n",
       "    <tr>\n",
       "      <th>Female</th>\n",
       "      <td>42</td>\n",
       "      <td>Single</td>\n",
       "      <td>No Qualification</td>\n",
       "      <td>British</td>\n",
       "      <td>Under 2,600</td>\n",
       "      <td>The North</td>\n",
       "      <td>Yes</td>\n",
       "      <td>12</td>\n",
       "      <td>12</td>\n",
       "      <td>Packets</td>\n",
       "    </tr>\n",
       "    <tr>\n",
       "      <th>Male</th>\n",
       "      <td>53</td>\n",
       "      <td>Married</td>\n",
       "      <td>Degree</td>\n",
       "      <td>British</td>\n",
       "      <td>Above 36,400</td>\n",
       "      <td>The North</td>\n",
       "      <td>Yes</td>\n",
       "      <td>6</td>\n",
       "      <td>6</td>\n",
       "      <td>Packets</td>\n",
       "    </tr>\n",
       "    <tr>\n",
       "      <th>Male</th>\n",
       "      <td>40</td>\n",
       "      <td>Single</td>\n",
       "      <td>GCSE/CSE</td>\n",
       "      <td>English</td>\n",
       "      <td>2,600 to 5,200</td>\n",
       "      <td>The North</td>\n",
       "      <td>Yes</td>\n",
       "      <td>8</td>\n",
       "      <td>8</td>\n",
       "      <td>Hand-Rolled</td>\n",
       "    </tr>\n",
       "    <tr>\n",
       "      <th>Female</th>\n",
       "      <td>41</td>\n",
       "      <td>Married</td>\n",
       "      <td>No Qualification</td>\n",
       "      <td>English</td>\n",
       "      <td>5,200 to 10,400</td>\n",
       "      <td>The North</td>\n",
       "      <td>Yes</td>\n",
       "      <td>15</td>\n",
       "      <td>12</td>\n",
       "      <td>Packets</td>\n",
       "    </tr>\n",
       "    <tr>\n",
       "      <th>Female</th>\n",
       "      <td>34</td>\n",
       "      <td>Married</td>\n",
       "      <td>GCSE/CSE</td>\n",
       "      <td>British</td>\n",
       "      <td>2,600 to 5,200</td>\n",
       "      <td>The North</td>\n",
       "      <td>Yes</td>\n",
       "      <td>6</td>\n",
       "      <td>12</td>\n",
       "      <td>Packets</td>\n",
       "    </tr>\n",
       "  </tbody>\n",
       "</table>\n",
       "</div>"
      ],
      "text/plain": [
       "        age marital_status highest_qualification nationality     gross_income  \\\n",
       "sex                                                                             \n",
       "Female   42         Single      No Qualification     British      Under 2,600   \n",
       "Male     53        Married                Degree     British     Above 36,400   \n",
       "Male     40         Single              GCSE/CSE     English   2,600 to 5,200   \n",
       "Female   41        Married      No Qualification     English  5,200 to 10,400   \n",
       "Female   34        Married              GCSE/CSE     British   2,600 to 5,200   \n",
       "\n",
       "           region smoke  amt_weekends  amt_weekdays         type  \n",
       "sex                                                               \n",
       "Female  The North   Yes            12            12      Packets  \n",
       "Male    The North   Yes             6             6      Packets  \n",
       "Male    The North   Yes             8             8  Hand-Rolled  \n",
       "Female  The North   Yes            15            12      Packets  \n",
       "Female  The North   Yes             6            12      Packets  "
      ]
     },
     "execution_count": 5,
     "metadata": {},
     "output_type": "execute_result"
    }
   ],
   "source": [
    "df = pd.read_csv('smoking.csv', index_col=0)\n",
    "df.head()"
   ]
  },
  {
   "cell_type": "markdown",
   "metadata": {},
   "source": [
    "Above, I read the 'smoking.csv'file into a dataframe called df. Then, I used the .head() command to view the data."
   ]
  },
  {
   "cell_type": "markdown",
   "metadata": {},
   "source": [
    "### Important Tutorial for a Later Question in this Assignment: \n",
    "\n",
    "Remember that the **.shape** attribute reveals the number of rows and the number of columns in a dataframe *(displayed in that order)*.\n",
    "\n",
    "If we'd like to extract *just one of these outputs* of the **.shape** attribute, we can **index** this output using:\n",
    "* **df.shape[0]**: to get just the number of rows (remember index 0 = first entry in a list in Python)\n",
    "* **df.shape[1]**: to get just the number of columns (remember index 1 = second entry in the list in Pythonn)\n",
    "\n",
    "Run this code below to see an example of this."
   ]
  },
  {
   "cell_type": "markdown",
   "metadata": {},
   "source": [
    "Below we are using the .shape command to view the number of columns/rows in the data frame \"df\"."
   ]
  },
  {
   "cell_type": "code",
   "execution_count": 6,
   "metadata": {},
   "outputs": [
    {
     "name": "stdout",
     "output_type": "stream",
     "text": [
      "Shape of the dataframe\n",
      "(421, 10)\n",
      "Number of rows in the dataframe\n",
      "421\n",
      "Number of columns in the dataframe\n",
      "10\n"
     ]
    }
   ],
   "source": [
    "print('Shape of the dataframe')\n",
    "print(df.shape)\n",
    "\n",
    "print('Number of rows in the dataframe')\n",
    "print(df.shape[0])\n",
    "\n",
    "print('Number of columns in the dataframe')\n",
    "print(df.shape[1])"
   ]
  },
  {
   "cell_type": "markdown",
   "metadata": {},
   "source": [
    "### 3. [2 pts] Display the first 12 rows of the data."
   ]
  },
  {
   "cell_type": "markdown",
   "metadata": {},
   "source": [
    "Below, I will use the df.iloc command to display the rows from the start to before index 13. The data below is split to fit on the screen. "
   ]
  },
  {
   "cell_type": "code",
   "execution_count": 11,
   "metadata": {},
   "outputs": [
    {
     "name": "stdout",
     "output_type": "stream",
     "text": [
      "        age marital_status highest_qualification nationality  \\\n",
      "sex                                                            \n",
      "Male     53        Married                Degree     British   \n",
      "Male     40         Single              GCSE/CSE     English   \n",
      "Female   41        Married      No Qualification     English   \n",
      "Female   34        Married              GCSE/CSE     British   \n",
      "Female   36        Married          GCSE/O Level     English   \n",
      "Female   56        Married      No Qualification     English   \n",
      "Female   58       Divorced      No Qualification     English   \n",
      "Female   42        Married          GCSE/O Level     British   \n",
      "Female   31        Married              GCSE/CSE     English   \n",
      "Female   78        Widowed      No Qualification     English   \n",
      "Female   76        Widowed      No Qualification     English   \n",
      "Male     59        Married      Other/Sub Degree     English   \n",
      "\n",
      "            gross_income     region smoke  amt_weekends  amt_weekdays  \\\n",
      "sex                                                                     \n",
      "Male        Above 36,400  The North   Yes             6             6   \n",
      "Male      2,600 to 5,200  The North   Yes             8             8   \n",
      "Female   5,200 to 10,400  The North   Yes            15            12   \n",
      "Female    2,600 to 5,200  The North   Yes             6            12   \n",
      "Female   5,200 to 10,400  The North   Yes             5             2   \n",
      "Female    2,600 to 5,200  The North   Yes            20            20   \n",
      "Female   5,200 to 10,400  The North   Yes            25            20   \n",
      "Female           Refused  The North   Yes            40            15   \n",
      "Female       Under 2,600  The North   Yes            15            15   \n",
      "Female       Under 2,600  The North   Yes            20            20   \n",
      "Female    2,600 to 5,200  The North   Yes             6             6   \n",
      "Male    15,600 to 20,800  The North   Yes            25            25   \n",
      "\n",
      "                       type  \n",
      "sex                          \n",
      "Male                Packets  \n",
      "Male            Hand-Rolled  \n",
      "Female              Packets  \n",
      "Female              Packets  \n",
      "Female              Packets  \n",
      "Female              Packets  \n",
      "Female              Packets  \n",
      "Female              Packets  \n",
      "Female  Both/Mainly Packets  \n",
      "Female              Packets  \n",
      "Female              Packets  \n",
      "Male                Packets  \n"
     ]
    }
   ],
   "source": [
    "print(df.iloc[1:13,:])"
   ]
  },
  {
   "cell_type": "markdown",
   "metadata": {},
   "source": [
    "### 4. [2 pts] Display just the rows of your data frame with index values 3, 4 and 5."
   ]
  },
  {
   "cell_type": "markdown",
   "metadata": {},
   "source": [
    "Below here, I am printing the rows 3 to 5 by using the iloc function to print from index 3 to just before index 6."
   ]
  },
  {
   "cell_type": "code",
   "execution_count": 34,
   "metadata": {},
   "outputs": [
    {
     "name": "stdout",
     "output_type": "stream",
     "text": [
      "        age marital_status highest_qualification nationality     gross_income  \\\n",
      "sex                                                                             \n",
      "Female   41        Married      No Qualification     English  5,200 to 10,400   \n",
      "Female   34        Married              GCSE/CSE     British   2,600 to 5,200   \n",
      "Female   36        Married          GCSE/O Level     English  5,200 to 10,400   \n",
      "\n",
      "           region smoke  amt_weekends  amt_weekdays     type  \n",
      "sex                                                           \n",
      "Female  The North   Yes            15            12  Packets  \n",
      "Female  The North   Yes             6            12  Packets  \n",
      "Female  The North   Yes             5             2  Packets  \n"
     ]
    }
   ],
   "source": [
    "print(df.iloc[3:6,:])"
   ]
  },
  {
   "cell_type": "markdown",
   "metadata": {},
   "source": [
    "### 5. [1 pts] Sort df by age (ascending order) and display the output."
   ]
  },
  {
   "cell_type": "markdown",
   "metadata": {},
   "source": [
    "Below, I will use the sort_values function in order to sort all the ages in the dataframe in ascending order. I will sort by ages using the (by='age') command. Then, I will print this out."
   ]
  },
  {
   "cell_type": "code",
   "execution_count": 14,
   "metadata": {},
   "outputs": [
    {
     "name": "stdout",
     "output_type": "stream",
     "text": [
      "        age marital_status highest_qualification nationality  \\\n",
      "sex                                                            \n",
      "Female   16         Single              GCSE/CSE     British   \n",
      "Male     16         Single      No Qualification     English   \n",
      "Male     16         Single      No Qualification     English   \n",
      "Female   16         Single          GCSE/O Level     British   \n",
      "Female   17         Single              GCSE/CSE    Scottish   \n",
      "...     ...            ...                   ...         ...   \n",
      "Female   79        Widowed      No Qualification     English   \n",
      "Male     82        Married      Other/Sub Degree       Other   \n",
      "Female   85        Widowed      Other/Sub Degree     English   \n",
      "Female   86        Widowed          GCSE/O Level       Irish   \n",
      "Female   93        Widowed      Other/Sub Degree     English   \n",
      "\n",
      "            gross_income                  region smoke  amt_weekends  \\\n",
      "sex                                                                    \n",
      "Female       Under 2,600  Midlands & East Anglia   Yes             2   \n",
      "Male         Under 2,600  Midlands & East Anglia   Yes            25   \n",
      "Male         Under 2,600              South West   Yes             6   \n",
      "Female   5,200 to 10,400               The North   Yes            12   \n",
      "Female   5,200 to 10,400                Scotland   Yes            20   \n",
      "...                  ...                     ...   ...           ...   \n",
      "Female   5,200 to 10,400              South East   Yes             5   \n",
      "Male      2,600 to 5,200                  London   Yes             3   \n",
      "Female   5,200 to 10,400  Midlands & East Anglia   Yes             6   \n",
      "Female  10,400 to 15,600                  London   Yes             7   \n",
      "Female   5,200 to 10,400                  London   Yes             0   \n",
      "\n",
      "        amt_weekdays                 type  \n",
      "sex                                        \n",
      "Female             2              Packets  \n",
      "Male              20          Hand-Rolled  \n",
      "Male               6  Both/Mainly Packets  \n",
      "Female            12              Packets  \n",
      "Female            15              Packets  \n",
      "...              ...                  ...  \n",
      "Female             5              Packets  \n",
      "Male               3              Packets  \n",
      "Female             6              Packets  \n",
      "Female             7              Packets  \n",
      "Female             3              Packets  \n",
      "\n",
      "[421 rows x 10 columns]\n"
     ]
    }
   ],
   "source": [
    "print(df.sort_values(by='age', ascending = True))"
   ]
  },
  {
   "cell_type": "markdown",
   "metadata": {},
   "source": [
    "### 6. [2 pts] Create a new dataframe (call it df_30) that is only comprised of people that are at least 30 years old."
   ]
  },
  {
   "cell_type": "markdown",
   "metadata": {},
   "source": [
    "Below I will create a new df called df_30 that will be comprised of individuals aged 30 or older. I will do this by filtering df by age. This condition I will use is df['age'] >= 30"
   ]
  },
  {
   "cell_type": "code",
   "execution_count": 26,
   "metadata": {},
   "outputs": [
    {
     "name": "stdout",
     "output_type": "stream",
     "text": [
      "        age marital_status highest_qualification nationality  \\\n",
      "sex                                                            \n",
      "Female   42         Single      No Qualification     British   \n",
      "Male     53        Married                Degree     British   \n",
      "Male     40         Single              GCSE/CSE     English   \n",
      "Female   41        Married      No Qualification     English   \n",
      "Female   34        Married              GCSE/CSE     British   \n",
      "...     ...            ...                   ...         ...   \n",
      "Male     77       Divorced      Other/Sub Degree     English   \n",
      "Female   31         Single          GCSE/O Level    Scottish   \n",
      "Male     35        Married      No Qualification    Scottish   \n",
      "Female   49       Divorced      Other/Sub Degree     English   \n",
      "Female   51        Married      No Qualification     English   \n",
      "\n",
      "            gross_income     region smoke  amt_weekends  amt_weekdays  \\\n",
      "sex                                                                     \n",
      "Female       Under 2,600  The North   Yes            12            12   \n",
      "Male        Above 36,400  The North   Yes             6             6   \n",
      "Male      2,600 to 5,200  The North   Yes             8             8   \n",
      "Female   5,200 to 10,400  The North   Yes            15            12   \n",
      "Female    2,600 to 5,200  The North   Yes             6            12   \n",
      "...                  ...        ...   ...           ...           ...   \n",
      "Male     5,200 to 10,400   Scotland   Yes            20            10   \n",
      "Female  15,600 to 20,800   Scotland   Yes            20            10   \n",
      "Male    10,400 to 15,600   Scotland   Yes             3            12   \n",
      "Female    2,600 to 5,200   Scotland   Yes            20            20   \n",
      "Female    2,600 to 5,200   Scotland   Yes            20            20   \n",
      "\n",
      "               type  \n",
      "sex                  \n",
      "Female      Packets  \n",
      "Male        Packets  \n",
      "Male    Hand-Rolled  \n",
      "Female      Packets  \n",
      "Female      Packets  \n",
      "...             ...  \n",
      "Male        Packets  \n",
      "Female      Packets  \n",
      "Male        Packets  \n",
      "Female  Hand-Rolled  \n",
      "Female      Packets  \n",
      "\n",
      "[318 rows x 10 columns]\n"
     ]
    }
   ],
   "source": [
    "df_30 = df[df['age'] >= 30]\n",
    "print(df_30)"
   ]
  },
  {
   "cell_type": "markdown",
   "metadata": {},
   "source": [
    "### 7. [1 pts] Display the first 5 rows of this new dataframe df_30."
   ]
  },
  {
   "cell_type": "markdown",
   "metadata": {},
   "source": [
    "In order to print the first 5 rows, I will use the iloc function again and set the bounds from 0 to 5. This way, the first 5 rows will be displayed."
   ]
  },
  {
   "cell_type": "code",
   "execution_count": 37,
   "metadata": {},
   "outputs": [
    {
     "name": "stdout",
     "output_type": "stream",
     "text": [
      "        age marital_status highest_qualification nationality     gross_income  \\\n",
      "sex                                                                             \n",
      "Female   42         Single      No Qualification     British      Under 2,600   \n",
      "Male     53        Married                Degree     British     Above 36,400   \n",
      "Male     40         Single              GCSE/CSE     English   2,600 to 5,200   \n",
      "Female   41        Married      No Qualification     English  5,200 to 10,400   \n",
      "Female   34        Married              GCSE/CSE     British   2,600 to 5,200   \n",
      "Female   36        Married          GCSE/O Level     English  5,200 to 10,400   \n",
      "\n",
      "           region smoke  amt_weekends  amt_weekdays         type  \n",
      "sex                                                               \n",
      "Female  The North   Yes            12            12      Packets  \n",
      "Male    The North   Yes             6             6      Packets  \n",
      "Male    The North   Yes             8             8  Hand-Rolled  \n",
      "Female  The North   Yes            15            12      Packets  \n",
      "Female  The North   Yes             6            12      Packets  \n",
      "Female  The North   Yes             5             2      Packets  \n"
     ]
    }
   ],
   "source": [
    "print(df_30.iloc[0:5,:])"
   ]
  },
  {
   "cell_type": "markdown",
   "metadata": {},
   "source": [
    "### 8. [2 pts] Out of all the UK smokers in this dataset that are at least 30, what is maximum amount of cigarettes that a person in this age group smokes on the weekends?"
   ]
  },
  {
   "cell_type": "code",
   "execution_count": 38,
   "metadata": {},
   "outputs": [
    {
     "data": {
      "text/plain": [
       "60"
      ]
     },
     "execution_count": 38,
     "metadata": {},
     "output_type": "execute_result"
    }
   ],
   "source": [
    "df_30['amt_weekends'].max()"
   ]
  },
  {
   "cell_type": "markdown",
   "metadata": {},
   "source": [
    "Above, I used the .max() command to print the maximum amount of cigarettes smokes on the weekends ('amt_weeknds') in the df_30 dataframe."
   ]
  },
  {
   "cell_type": "markdown",
   "metadata": {},
   "source": [
    "### 9. [2 pts] What proportion of smokers in the whole dataset (ie. df) are at least 30?"
   ]
  },
  {
   "cell_type": "markdown",
   "metadata": {},
   "source": [
    "Below, I will determine what proportion of smokers in the whole dataset are at least 30 by dividing the number of rows in the df_30 by the number of rows in the df. This will give me the proportion of smokers that are at least 30 because it is the amount of rows for individuals whose 'age' cateory is older than 30 over the total number of rows in the entire data set."
   ]
  },
  {
   "cell_type": "code",
   "execution_count": 47,
   "metadata": {},
   "outputs": [
    {
     "name": "stdout",
     "output_type": "stream",
     "text": [
      "0.7553444180522565\n"
     ]
    }
   ],
   "source": [
    "print(df_30.shape[0]/df.shape[0])"
   ]
  },
  {
   "cell_type": "markdown",
   "metadata": {},
   "source": [
    "### 10. [2 pts] Display a density histogram of \"amt_weekends\" for <u>all smokers</u> in the dataframe df.\n",
    "\n",
    "**Make sure you appropriately label the following in this plot:**\n",
    "* the x-axis\n",
    "* the y-axis\n",
    "* the title."
   ]
  },
  {
   "cell_type": "markdown",
   "metadata": {},
   "source": [
    "I will create a density histogram of \"amt_weekends\" for all smokers in the dataframe by first creating a histogram from the \"df\" dataframe, including the 'density=True' condition. Then I will set the x label to \"amount of cigarettes smoked\" and the y label to \"density\".  I will then print the plot by doing plt.show()"
   ]
  },
  {
   "cell_type": "code",
   "execution_count": 48,
   "metadata": {},
   "outputs": [
    {
     "data": {
      "image/png": "[encoded data removed]",
      "text/plain": [
       "<Figure size 432x288 with 1 Axes>"
      ]
     },
     "metadata": {},
     "output_type": "display_data"
    }
   ],
   "source": [
    "df['amt_weekends'].hist(density=True)\n",
    "plt.xlabel(\"Amount of cigarettes smoked\")\n",
    "plt.ylabel(\"Density\")\n",
    "plt.show()"
   ]
  },
  {
   "cell_type": "markdown",
   "metadata": {},
   "source": [
    "### 11. [2 pts] Display a density histogram of \"amt_weekends\"  <u>just for 'Male' smokers</u> in the dataframe df.\n",
    "\n",
    "**Make sure you appropriately label the following in this plot:**\n",
    "* the x-axis\n",
    "* the y-axis\n",
    "* the title."
   ]
  },
  {
   "cell_type": "markdown",
   "metadata": {},
   "source": [
    "Below, I will seperate the male from females by first sorting the original dataframe \"df\" by sex. Then, I will find where \"Males\" are located within the sorted dataframe, and create a new dataframe comprised of male data only. Then, I will repeat the process above. "
   ]
  },
  {
   "cell_type": "code",
   "execution_count": 92,
   "metadata": {},
   "outputs": [
    {
     "data": {
      "image/png": "[encoded data removed]",
      "text/plain": [
       "<Figure size 432x288 with 1 Axes>"
      ]
     },
     "metadata": {},
     "output_type": "display_data"
    }
   ],
   "source": [
    "df_sorted = df.sort_values(by='sex')\n",
    "df_male = df_sorted.iloc[234:,:]\n",
    "df_male['amt_weekends'].hist(density=True)\n",
    "plt.xlabel(\"Amount of cigarattes smoked by Males\")\n",
    "plt.ylabel(\"Density\")\n",
    "plt.show()"
   ]
  },
  {
   "cell_type": "markdown",
   "metadata": {},
   "source": [
    "### 12. [2 pts] Display a density histogram of \"amt_weekends\"  <u>just for 'Female' smokers</u> in the dataframe df.\n",
    "\n",
    "**Make sure you appropriately label the following in this plot:**\n",
    "* the x-axis\n",
    "* the y-axis\n",
    "* the title."
   ]
  },
  {
   "cell_type": "markdown",
   "metadata": {},
   "source": [
    "I will approach this task the same way as the task above, however instead of finding where the males start, I will have my new dataframe be comprised of females only, thus cutting out all data after the final \"female\" data."
   ]
  },
  {
   "cell_type": "code",
   "execution_count": 91,
   "metadata": {},
   "outputs": [
    {
     "data": {
      "image/png": "[encoded data removed]",
      "text/plain": [
       "<Figure size 432x288 with 1 Axes>"
      ]
     },
     "metadata": {},
     "output_type": "display_data"
    }
   ],
   "source": [
    "df_sorted = df.sort_values(by='sex')\n",
    "df_female = df_sorted.iloc[0:234,:]\n",
    "df_female['amt_weekends'].hist(density=True)\n",
    "plt.xlabel(\"Amount of cigarattes smoked by Males\")\n",
    "plt.ylabel(\"Density\")\n",
    "plt.show()"
   ]
  },
  {
   "cell_type": "markdown",
   "metadata": {},
   "source": [
    "### 13. [2 pts] For the whole dataset 'df', calculate the following for the amt_weekends variable:\n",
    "* minimum\n",
    "* maximum\n",
    "* Q1\n",
    "* median\n",
    "* Q3\n",
    "* maximum."
   ]
  },
  {
   "cell_type": "markdown",
   "metadata": {},
   "source": [
    "I will be able to print these values out by utilizing the .min(), .max(), .quantile(), .median(), and .mean() functions to help me display this data."
   ]
  },
  {
   "cell_type": "code",
   "execution_count": 94,
   "metadata": {},
   "outputs": [
    {
     "name": "stdout",
     "output_type": "stream",
     "text": [
      "Minimum = 0\n",
      "Maximum = 60\n",
      "Q1 = 10.0\n",
      "Median = 15.0\n",
      "Q3 = 20.0\n",
      "Maximum = 60\n",
      "Mean = 16.410926365795724\n"
     ]
    }
   ],
   "source": [
    "print(\"Minimum =\", df['amt_weekends'].min())\n",
    "print(\"Maximum =\", df['amt_weekends'].max())\n",
    "print(\"Q1 =\", df['amt_weekends'].quantile(q=0.25))\n",
    "print(\"Median =\", df['amt_weekends'].median())\n",
    "print(\"Q3 =\", df['amt_weekends'].quantile(q=0.75))\n",
    "print(\"Maximum =\", df['amt_weekends'].max())\n",
    "\n",
    "#The instructions do not say to include a mean, but here it is anyways\n",
    "\n",
    "print(\"Mean =\", df['amt_weekends'].mean())"
   ]
  },
  {
   "cell_type": "markdown",
   "metadata": {},
   "source": [
    "### 14 [2 pts] For <u>just the males</u> in the df dataframe, calculate the following for the amt_weekends variable:\n",
    "* minimum\n",
    "* maximum\n",
    "* Q1\n",
    "* median\n",
    "* Q3\n",
    "* maximum."
   ]
  },
  {
   "cell_type": "markdown",
   "metadata": {},
   "source": [
    "I will approach this task the same way as the main df, just simply replacing df with df_male."
   ]
  },
  {
   "cell_type": "code",
   "execution_count": 95,
   "metadata": {},
   "outputs": [
    {
     "name": "stdout",
     "output_type": "stream",
     "text": [
      "Minimum = 0\n",
      "Maximum = 60\n",
      "Q1 = 10.0\n",
      "Median = 20.0\n",
      "Q3 = 24.5\n",
      "Maximum = 60\n",
      "Mean = 18.171122994652407\n"
     ]
    }
   ],
   "source": [
    "print(\"Minimum =\", df_male['amt_weekends'].min())\n",
    "print(\"Maximum =\", df_male['amt_weekends'].max())\n",
    "print(\"Q1 =\", df_male['amt_weekends'].quantile(q=0.25))\n",
    "print(\"Median =\", df_male['amt_weekends'].median())\n",
    "print(\"Q3 =\", df_male['amt_weekends'].quantile(q=0.75))\n",
    "print(\"Maximum =\", df_male['amt_weekends'].max())\n",
    "\n",
    "#The instructions do not say to include a mean for the males, but here it is anyways\n",
    "\n",
    "print(\"Mean =\", df_male['amt_weekends'].mean())"
   ]
  },
  {
   "cell_type": "markdown",
   "metadata": {},
   "source": [
    "### 15 [2 pts] For <u>just the females</u> in the df dataframe, calculate the following for the amt_weekends variable:\n",
    "* minimum\n",
    "* maximum\n",
    "* Q1\n",
    "* median\n",
    "* Q3\n",
    "* maximum."
   ]
  },
  {
   "cell_type": "markdown",
   "metadata": {},
   "source": [
    "I will approach this task the same way as the main df and df_male, just simply replacing df/df_male with df_female."
   ]
  },
  {
   "cell_type": "code",
   "execution_count": 96,
   "metadata": {},
   "outputs": [
    {
     "name": "stdout",
     "output_type": "stream",
     "text": [
      "Minimum = 0\n",
      "Maximum = 60\n",
      "Q1 = 10.0\n",
      "Median = 15.0\n",
      "Q3 = 20.0\n",
      "Maximum = 60\n",
      "Mean = 15.004273504273504\n"
     ]
    }
   ],
   "source": [
    "print(\"Minimum =\", df_female['amt_weekends'].min())\n",
    "print(\"Maximum =\", df_female['amt_weekends'].max())\n",
    "print(\"Q1 =\", df_female['amt_weekends'].quantile(q=0.25))\n",
    "print(\"Median =\", df_female['amt_weekends'].median())\n",
    "print(\"Q3 =\", df_female['amt_weekends'].quantile(q=0.75))\n",
    "print(\"Maximum =\", df_female['amt_weekends'].max())\n",
    "\n",
    "#The instructions do not say to include a mean for the males, but here it is anyways\n",
    "\n",
    "print(\"Mean =\", df_female['amt_weekends'].mean())"
   ]
  },
  {
   "cell_type": "markdown",
   "metadata": {},
   "source": [
    "### 16. [2pts] Compare the skew, IQR, and medians of the the amount smoked on the weekends by male and female smokers in this dataset."
   ]
  },
  {
   "cell_type": "markdown",
   "metadata": {},
   "source": [
    "DOUBLE CLICK TO WRITE ANSWER HERE!"
   ]
  },
  {
   "cell_type": "markdown",
   "metadata": {},
   "source": [
    "According to the density histograms of the df_male and df_female, it seems that both datasets are skewed right. The forumla for IQR is IQR = Q3 - Q1, therefore the IQR of the df_male is (24.5 - 10) = 14.5 cigarettes smoked on weekends which is greater than the IQR for df_female which equals (20-10) = 10 cigarettes smoked on weekends. Additionally, the median amount of cigarettes smoked for males is 20 cigarettes smoked, which is also greater than the median cigarettes smoked on weekends for females, which equals 15. "
   ]
  }
 ],
 "metadata": {
  "kernelspec": {
   "display_name": "Python 3",
   "language": "python",
   "name": "python3"
  },
  "language_info": {
   "codemirror_mode": {
    "name": "ipython",
    "version": 3
   },
   "file_extension": ".py",
   "mimetype": "text/x-python",
   "name": "python",
   "nbconvert_exporter": "python",
   "pygments_lexer": "ipython3",
   "version": "3.8.5"
  }
 },
 "nbformat": 4,
 "nbformat_minor": 2
}
